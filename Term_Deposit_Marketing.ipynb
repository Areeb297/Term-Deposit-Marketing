{
  "cells": [
    {
      "cell_type": "markdown",
      "metadata": {
        "id": "view-in-github",
        "colab_type": "text"
      },
      "source": [
        "<a href=\"https://colab.research.google.com/github/Areeb297/Term-Deposit-Marketing/blob/main/Term_Deposit_Marketing.ipynb\" target=\"_parent\"><img src=\"https://colab.research.google.com/assets/colab-badge.svg\" alt=\"Open In Colab\"/></a>"
      ]
    },
    {
      "cell_type": "markdown",
      "metadata": {
        "id": "L6M_rgCKNUzj"
      },
      "source": [
        "**Project Summary:**\n",
        "\n",
        "Startup to provide ML solutions in the European Banking Market. Require leveraging information from **call center data** to develop ML models so we can improve success rate for calls to customers for products our clients offer. Design a ML product that offers high success outcomes while offerring interpretability for clients to make informed decisions.\n",
        "\n",
        "**Data available:**\n",
        "\n",
        "Marketing campaign data of calls made to customers, often multiple times to ensure product subscription, i.e., term deposit. These are short term deposits with maturities from 1 month to a few years, customer cannot withdraw funds without incurring penalties, unless the term has ended. All personal customer information is removed for privacy concerns.\n",
        "\n",
        "Attributes: Age, Job, Marital Status, Education, Default(Has credit), Balance(Yearly Balance), Housing, Loan(Personal Loan), Contact (communication type), Day (last contact day), Month(last contact month), Duration(last contact duration), Campaign(number of contacts).\n",
        "\n",
        "Label to predict: Has client subscribed to term deposit?\n",
        "\n",
        "Based on data, we will also identify customer segments who are likely to buy the investment product & also what makes the customer buy, what featues are key to focus on?\n",
        "\n",
        "**Problem Breakdown**\n",
        "\n",
        "3-layered problem: Classification, Supervised & Unsupervised.\n",
        "- 1st Layer: Identify which customers we should make calls to, not related to campaigns.\n",
        "- 2nd Layer: Another ML model, predict which customers to keep calling.\n",
        "- 3rd Layer: Who are our subscribers, only use this data to do customer segmentation.\n",
        "\n",
        "**Success Metrics**\n",
        "\n",
        "- 1st Model: Recall for Class 1\n",
        "- 2nd Model: Precision for Class 1"
      ]
    },
    {
      "cell_type": "markdown",
      "metadata": {
        "id": "mpmZoaM-fg-E"
      },
      "source": [
        "### Import Relevant Libraries"
      ]
    },
    {
      "cell_type": "code",
      "execution_count": 2,
      "metadata": {
        "colab": {
          "base_uri": "https://localhost:8080/"
        },
        "id": "vCEAMVbjhRP0",
        "outputId": "9c26e963-c1aa-4770-eb05-5a8d88c542c1"
      },
      "outputs": [
        {
          "output_type": "stream",
          "name": "stdout",
          "text": [
            "Collecting git+https://github.com/shankarpandala/lazypredict.git\n",
            "  Cloning https://github.com/shankarpandala/lazypredict.git to /tmp/pip-req-build-3xi5rs38\n",
            "  Running command git clone --filter=blob:none --quiet https://github.com/shankarpandala/lazypredict.git /tmp/pip-req-build-3xi5rs38\n",
            "  Resolved https://github.com/shankarpandala/lazypredict.git to commit 4529b96e09fad6a0935c45c7060cfe3d51cfdf90\n",
            "  Preparing metadata (setup.py) ... \u001b[?25l\u001b[?25hdone\n",
            "Requirement already satisfied: click in /usr/local/lib/python3.10/dist-packages (from lazypredict==0.2.12) (8.1.7)\n",
            "Requirement already satisfied: scikit-learn in /usr/local/lib/python3.10/dist-packages (from lazypredict==0.2.12) (1.5.2)\n",
            "Requirement already satisfied: pandas in /usr/local/lib/python3.10/dist-packages (from lazypredict==0.2.12) (2.2.2)\n",
            "Requirement already satisfied: tqdm in /usr/local/lib/python3.10/dist-packages (from lazypredict==0.2.12) (4.66.5)\n",
            "Requirement already satisfied: joblib in /usr/local/lib/python3.10/dist-packages (from lazypredict==0.2.12) (1.4.2)\n",
            "Requirement already satisfied: lightgbm in /usr/local/lib/python3.10/dist-packages (from lazypredict==0.2.12) (4.5.0)\n",
            "Requirement already satisfied: xgboost in /usr/local/lib/python3.10/dist-packages (from lazypredict==0.2.12) (2.1.1)\n",
            "Requirement already satisfied: numpy>=1.17.0 in /usr/local/lib/python3.10/dist-packages (from lightgbm->lazypredict==0.2.12) (1.26.4)\n",
            "Requirement already satisfied: scipy in /usr/local/lib/python3.10/dist-packages (from lightgbm->lazypredict==0.2.12) (1.13.1)\n",
            "Requirement already satisfied: python-dateutil>=2.8.2 in /usr/local/lib/python3.10/dist-packages (from pandas->lazypredict==0.2.12) (2.8.2)\n",
            "Requirement already satisfied: pytz>=2020.1 in /usr/local/lib/python3.10/dist-packages (from pandas->lazypredict==0.2.12) (2024.2)\n",
            "Requirement already satisfied: tzdata>=2022.7 in /usr/local/lib/python3.10/dist-packages (from pandas->lazypredict==0.2.12) (2024.2)\n",
            "Requirement already satisfied: threadpoolctl>=3.1.0 in /usr/local/lib/python3.10/dist-packages (from scikit-learn->lazypredict==0.2.12) (3.5.0)\n",
            "Requirement already satisfied: nvidia-nccl-cu12 in /usr/local/lib/python3.10/dist-packages (from xgboost->lazypredict==0.2.12) (2.23.4)\n",
            "Requirement already satisfied: six>=1.5 in /usr/local/lib/python3.10/dist-packages (from python-dateutil>=2.8.2->pandas->lazypredict==0.2.12) (1.16.0)\n",
            "Building wheels for collected packages: lazypredict\n",
            "  Building wheel for lazypredict (setup.py) ... \u001b[?25l\u001b[?25hdone\n",
            "  Created wheel for lazypredict: filename=lazypredict-0.2.12-py2.py3-none-any.whl size=12326 sha256=1bb89c6c85f272d4c18b6f4279695ced5c56e8e0ec0266a1787770c4e262ada3\n",
            "  Stored in directory: /tmp/pip-ephem-wheel-cache-t4ve1dvg/wheels/c1/0d/a5/13b226e20f8f57f2b4f456375f6993b30f7900d29d6609ff4f\n",
            "Successfully built lazypredict\n",
            "Installing collected packages: lazypredict\n",
            "Successfully installed lazypredict-0.2.12\n",
            "Requirement already satisfied: hyperopt in /usr/local/lib/python3.10/dist-packages (0.2.7)\n",
            "Requirement already satisfied: numpy in /usr/local/lib/python3.10/dist-packages (from hyperopt) (1.26.4)\n",
            "Requirement already satisfied: scipy in /usr/local/lib/python3.10/dist-packages (from hyperopt) (1.13.1)\n",
            "Requirement already satisfied: six in /usr/local/lib/python3.10/dist-packages (from hyperopt) (1.16.0)\n",
            "Requirement already satisfied: networkx>=2.2 in /usr/local/lib/python3.10/dist-packages (from hyperopt) (3.3)\n",
            "Requirement already satisfied: future in /usr/local/lib/python3.10/dist-packages (from hyperopt) (1.0.0)\n",
            "Requirement already satisfied: tqdm in /usr/local/lib/python3.10/dist-packages (from hyperopt) (4.66.5)\n",
            "Requirement already satisfied: cloudpickle in /usr/local/lib/python3.10/dist-packages (from hyperopt) (2.2.1)\n",
            "Requirement already satisfied: py4j in /usr/local/lib/python3.10/dist-packages (from hyperopt) (0.10.9.7)\n",
            "Requirement already satisfied: imbalanced-learn in /usr/local/lib/python3.10/dist-packages (0.12.4)\n",
            "Requirement already satisfied: numpy>=1.17.3 in /usr/local/lib/python3.10/dist-packages (from imbalanced-learn) (1.26.4)\n",
            "Requirement already satisfied: scipy>=1.5.0 in /usr/local/lib/python3.10/dist-packages (from imbalanced-learn) (1.13.1)\n",
            "Requirement already satisfied: scikit-learn>=1.0.2 in /usr/local/lib/python3.10/dist-packages (from imbalanced-learn) (1.5.2)\n",
            "Requirement already satisfied: joblib>=1.1.1 in /usr/local/lib/python3.10/dist-packages (from imbalanced-learn) (1.4.2)\n",
            "Requirement already satisfied: threadpoolctl>=2.0.0 in /usr/local/lib/python3.10/dist-packages (from imbalanced-learn) (3.5.0)\n"
          ]
        }
      ],
      "source": [
        "# !pip uninstall -y lazypredict\n",
        "!pip install git+https://github.com/shankarpandala/lazypredict.git\n",
        "\n",
        "!pip install hyperopt\n",
        "!pip install imbalanced-learn\n"
      ]
    },
    {
      "cell_type": "code",
      "execution_count": 3,
      "metadata": {
        "id": "6thFSysWi4-5",
        "colab": {
          "base_uri": "https://localhost:8080/"
        },
        "outputId": "caeb2918-300c-4a27-e940-c9e2552a1892"
      },
      "outputs": [
        {
          "output_type": "stream",
          "name": "stderr",
          "text": [
            "/usr/local/lib/python3.10/dist-packages/dask/dataframe/__init__.py:42: FutureWarning: \n",
            "Dask dataframe query planning is disabled because dask-expr is not installed.\n",
            "\n",
            "You can install it with `pip install dask[dataframe]` or `conda install dask`.\n",
            "This will raise in a future version.\n",
            "\n",
            "  warnings.warn(msg, FutureWarning)\n"
          ]
        }
      ],
      "source": [
        "from google.colab import drive\n",
        "import os\n",
        "import pickle\n",
        "from imblearn.over_sampling import SMOTE, ADASYN\n",
        "from lazypredict.Supervised import LazyClassifier\n",
        "\n",
        "import matplotlib.pyplot as plt\n",
        "from sklearn.metrics import confusion_matrix, classification_report\n",
        "import seaborn as sns\n",
        "%matplotlib inline\n",
        "import pandas as pd\n",
        "import numpy as np\n",
        "from sklearn.model_selection import train_test_split, GridSearchCV\n",
        "from sklearn.preprocessing import StandardScaler\n",
        "from sklearn.linear_model import LogisticRegression\n",
        "from sklearn.ensemble import RandomForestClassifier,  GradientBoostingClassifier, BaggingClassifier, VotingClassifier, StackingClassifier\n",
        "from sklearn.tree import DecisionTreeClassifier # import DecisionTreeClassifier from sklearn.tree\n",
        "from sklearn.linear_model import Perceptron, PassiveAggressiveClassifier\n",
        "\n",
        "from sklearn.naive_bayes import BernoulliNB\n",
        "\n",
        "from sklearn.svm import SVC\n",
        "from xgboost import XGBClassifier\n",
        "from sklearn.metrics import accuracy_score\n",
        "import random\n",
        "\n",
        "import warnings\n",
        "warnings.filterwarnings('ignore')"
      ]
    },
    {
      "cell_type": "code",
      "execution_count": 4,
      "metadata": {
        "id": "AI6FGSpxjCMO",
        "colab": {
          "base_uri": "https://localhost:8080/"
        },
        "outputId": "4e06a94a-1583-425b-c35c-de1afcc8af1c"
      },
      "outputs": [
        {
          "output_type": "stream",
          "name": "stdout",
          "text": [
            "Using random seed: 15020\n"
          ]
        }
      ],
      "source": [
        "# Pick a random seed\n",
        "# np.random.randint(0, 20000) After running this code, we will use: 15020\n",
        "random_seed = 15020 # We use this random seed as after 100 iterations of using LazyClassifier, this gives best results.\n",
        "print(f\"Using random seed: {random_seed}\")\n",
        "\n",
        "# Set the random seed across different libraries\n",
        "random.seed(random_seed)\n",
        "np.random.seed(random_seed)"
      ]
    },
    {
      "cell_type": "markdown",
      "metadata": {
        "id": "ed-3BUt_ivKj"
      },
      "source": [
        "### Loading Data & Cleaning"
      ]
    },
    {
      "cell_type": "code",
      "execution_count": 5,
      "metadata": {
        "id": "IP-K0814jBhm",
        "colab": {
          "base_uri": "https://localhost:8080/"
        },
        "outputId": "bab80193-b379-4831-c48e-18c0781cc0a3"
      },
      "outputs": [
        {
          "output_type": "stream",
          "name": "stdout",
          "text": [
            "Mounted at /content/drive\n",
            "Current working directory: /content/drive/MyDrive/Apziva AI Residency/Project 2\n"
          ]
        }
      ],
      "source": [
        "# Mount google drive\n",
        "drive.mount('/content/drive')\n",
        "\n",
        "project_path = \"/content/drive/MyDrive/Apziva AI Residency/Project 2\"\n",
        "os.chdir(project_path)\n",
        "\n",
        "print(f\"Current working directory: {os.getcwd()}\")"
      ]
    },
    {
      "cell_type": "code",
      "execution_count": 6,
      "metadata": {
        "id": "yy-FLKAToSX1",
        "colab": {
          "base_uri": "https://localhost:8080/",
          "height": 175
        },
        "outputId": "a8c8f43f-e431-42ba-b02e-08adccdc2be1"
      },
      "outputs": [
        {
          "output_type": "execute_result",
          "data": {
            "text/plain": [
              "   age           job  marital  education default  balance housing loan  \\\n",
              "0   58    management  married   tertiary      no     2143     yes   no   \n",
              "1   44    technician   single  secondary      no       29     yes   no   \n",
              "2   33  entrepreneur  married  secondary      no        2     yes  yes   \n",
              "3   47   blue-collar  married    unknown      no     1506     yes   no   \n",
              "\n",
              "   contact  day month  duration  campaign   y  \n",
              "0  unknown    5   may       261         1  no  \n",
              "1  unknown    5   may       151         1  no  \n",
              "2  unknown    5   may        76         1  no  \n",
              "3  unknown    5   may        92         1  no  "
            ],
            "text/html": [
              "\n",
              "  <div id=\"df-4c772a70-2514-4917-9cf6-a05d36771c53\" class=\"colab-df-container\">\n",
              "    <div>\n",
              "<style scoped>\n",
              "    .dataframe tbody tr th:only-of-type {\n",
              "        vertical-align: middle;\n",
              "    }\n",
              "\n",
              "    .dataframe tbody tr th {\n",
              "        vertical-align: top;\n",
              "    }\n",
              "\n",
              "    .dataframe thead th {\n",
              "        text-align: right;\n",
              "    }\n",
              "</style>\n",
              "<table border=\"1\" class=\"dataframe\">\n",
              "  <thead>\n",
              "    <tr style=\"text-align: right;\">\n",
              "      <th></th>\n",
              "      <th>age</th>\n",
              "      <th>job</th>\n",
              "      <th>marital</th>\n",
              "      <th>education</th>\n",
              "      <th>default</th>\n",
              "      <th>balance</th>\n",
              "      <th>housing</th>\n",
              "      <th>loan</th>\n",
              "      <th>contact</th>\n",
              "      <th>day</th>\n",
              "      <th>month</th>\n",
              "      <th>duration</th>\n",
              "      <th>campaign</th>\n",
              "      <th>y</th>\n",
              "    </tr>\n",
              "  </thead>\n",
              "  <tbody>\n",
              "    <tr>\n",
              "      <th>0</th>\n",
              "      <td>58</td>\n",
              "      <td>management</td>\n",
              "      <td>married</td>\n",
              "      <td>tertiary</td>\n",
              "      <td>no</td>\n",
              "      <td>2143</td>\n",
              "      <td>yes</td>\n",
              "      <td>no</td>\n",
              "      <td>unknown</td>\n",
              "      <td>5</td>\n",
              "      <td>may</td>\n",
              "      <td>261</td>\n",
              "      <td>1</td>\n",
              "      <td>no</td>\n",
              "    </tr>\n",
              "    <tr>\n",
              "      <th>1</th>\n",
              "      <td>44</td>\n",
              "      <td>technician</td>\n",
              "      <td>single</td>\n",
              "      <td>secondary</td>\n",
              "      <td>no</td>\n",
              "      <td>29</td>\n",
              "      <td>yes</td>\n",
              "      <td>no</td>\n",
              "      <td>unknown</td>\n",
              "      <td>5</td>\n",
              "      <td>may</td>\n",
              "      <td>151</td>\n",
              "      <td>1</td>\n",
              "      <td>no</td>\n",
              "    </tr>\n",
              "    <tr>\n",
              "      <th>2</th>\n",
              "      <td>33</td>\n",
              "      <td>entrepreneur</td>\n",
              "      <td>married</td>\n",
              "      <td>secondary</td>\n",
              "      <td>no</td>\n",
              "      <td>2</td>\n",
              "      <td>yes</td>\n",
              "      <td>yes</td>\n",
              "      <td>unknown</td>\n",
              "      <td>5</td>\n",
              "      <td>may</td>\n",
              "      <td>76</td>\n",
              "      <td>1</td>\n",
              "      <td>no</td>\n",
              "    </tr>\n",
              "    <tr>\n",
              "      <th>3</th>\n",
              "      <td>47</td>\n",
              "      <td>blue-collar</td>\n",
              "      <td>married</td>\n",
              "      <td>unknown</td>\n",
              "      <td>no</td>\n",
              "      <td>1506</td>\n",
              "      <td>yes</td>\n",
              "      <td>no</td>\n",
              "      <td>unknown</td>\n",
              "      <td>5</td>\n",
              "      <td>may</td>\n",
              "      <td>92</td>\n",
              "      <td>1</td>\n",
              "      <td>no</td>\n",
              "    </tr>\n",
              "  </tbody>\n",
              "</table>\n",
              "</div>\n",
              "    <div class=\"colab-df-buttons\">\n",
              "\n",
              "  <div class=\"colab-df-container\">\n",
              "    <button class=\"colab-df-convert\" onclick=\"convertToInteractive('df-4c772a70-2514-4917-9cf6-a05d36771c53')\"\n",
              "            title=\"Convert this dataframe to an interactive table.\"\n",
              "            style=\"display:none;\">\n",
              "\n",
              "  <svg xmlns=\"http://www.w3.org/2000/svg\" height=\"24px\" viewBox=\"0 -960 960 960\">\n",
              "    <path d=\"M120-120v-720h720v720H120Zm60-500h600v-160H180v160Zm220 220h160v-160H400v160Zm0 220h160v-160H400v160ZM180-400h160v-160H180v160Zm440 0h160v-160H620v160ZM180-180h160v-160H180v160Zm440 0h160v-160H620v160Z\"/>\n",
              "  </svg>\n",
              "    </button>\n",
              "\n",
              "  <style>\n",
              "    .colab-df-container {\n",
              "      display:flex;\n",
              "      gap: 12px;\n",
              "    }\n",
              "\n",
              "    .colab-df-convert {\n",
              "      background-color: #E8F0FE;\n",
              "      border: none;\n",
              "      border-radius: 50%;\n",
              "      cursor: pointer;\n",
              "      display: none;\n",
              "      fill: #1967D2;\n",
              "      height: 32px;\n",
              "      padding: 0 0 0 0;\n",
              "      width: 32px;\n",
              "    }\n",
              "\n",
              "    .colab-df-convert:hover {\n",
              "      background-color: #E2EBFA;\n",
              "      box-shadow: 0px 1px 2px rgba(60, 64, 67, 0.3), 0px 1px 3px 1px rgba(60, 64, 67, 0.15);\n",
              "      fill: #174EA6;\n",
              "    }\n",
              "\n",
              "    .colab-df-buttons div {\n",
              "      margin-bottom: 4px;\n",
              "    }\n",
              "\n",
              "    [theme=dark] .colab-df-convert {\n",
              "      background-color: #3B4455;\n",
              "      fill: #D2E3FC;\n",
              "    }\n",
              "\n",
              "    [theme=dark] .colab-df-convert:hover {\n",
              "      background-color: #434B5C;\n",
              "      box-shadow: 0px 1px 3px 1px rgba(0, 0, 0, 0.15);\n",
              "      filter: drop-shadow(0px 1px 2px rgba(0, 0, 0, 0.3));\n",
              "      fill: #FFFFFF;\n",
              "    }\n",
              "  </style>\n",
              "\n",
              "    <script>\n",
              "      const buttonEl =\n",
              "        document.querySelector('#df-4c772a70-2514-4917-9cf6-a05d36771c53 button.colab-df-convert');\n",
              "      buttonEl.style.display =\n",
              "        google.colab.kernel.accessAllowed ? 'block' : 'none';\n",
              "\n",
              "      async function convertToInteractive(key) {\n",
              "        const element = document.querySelector('#df-4c772a70-2514-4917-9cf6-a05d36771c53');\n",
              "        const dataTable =\n",
              "          await google.colab.kernel.invokeFunction('convertToInteractive',\n",
              "                                                    [key], {});\n",
              "        if (!dataTable) return;\n",
              "\n",
              "        const docLinkHtml = 'Like what you see? Visit the ' +\n",
              "          '<a target=\"_blank\" href=https://colab.research.google.com/notebooks/data_table.ipynb>data table notebook</a>'\n",
              "          + ' to learn more about interactive tables.';\n",
              "        element.innerHTML = '';\n",
              "        dataTable['output_type'] = 'display_data';\n",
              "        await google.colab.output.renderOutput(dataTable, element);\n",
              "        const docLink = document.createElement('div');\n",
              "        docLink.innerHTML = docLinkHtml;\n",
              "        element.appendChild(docLink);\n",
              "      }\n",
              "    </script>\n",
              "  </div>\n",
              "\n",
              "\n",
              "<div id=\"df-90e62c17-df20-4127-b282-58dd7dc6f63e\">\n",
              "  <button class=\"colab-df-quickchart\" onclick=\"quickchart('df-90e62c17-df20-4127-b282-58dd7dc6f63e')\"\n",
              "            title=\"Suggest charts\"\n",
              "            style=\"display:none;\">\n",
              "\n",
              "<svg xmlns=\"http://www.w3.org/2000/svg\" height=\"24px\"viewBox=\"0 0 24 24\"\n",
              "     width=\"24px\">\n",
              "    <g>\n",
              "        <path d=\"M19 3H5c-1.1 0-2 .9-2 2v14c0 1.1.9 2 2 2h14c1.1 0 2-.9 2-2V5c0-1.1-.9-2-2-2zM9 17H7v-7h2v7zm4 0h-2V7h2v10zm4 0h-2v-4h2v4z\"/>\n",
              "    </g>\n",
              "</svg>\n",
              "  </button>\n",
              "\n",
              "<style>\n",
              "  .colab-df-quickchart {\n",
              "      --bg-color: #E8F0FE;\n",
              "      --fill-color: #1967D2;\n",
              "      --hover-bg-color: #E2EBFA;\n",
              "      --hover-fill-color: #174EA6;\n",
              "      --disabled-fill-color: #AAA;\n",
              "      --disabled-bg-color: #DDD;\n",
              "  }\n",
              "\n",
              "  [theme=dark] .colab-df-quickchart {\n",
              "      --bg-color: #3B4455;\n",
              "      --fill-color: #D2E3FC;\n",
              "      --hover-bg-color: #434B5C;\n",
              "      --hover-fill-color: #FFFFFF;\n",
              "      --disabled-bg-color: #3B4455;\n",
              "      --disabled-fill-color: #666;\n",
              "  }\n",
              "\n",
              "  .colab-df-quickchart {\n",
              "    background-color: var(--bg-color);\n",
              "    border: none;\n",
              "    border-radius: 50%;\n",
              "    cursor: pointer;\n",
              "    display: none;\n",
              "    fill: var(--fill-color);\n",
              "    height: 32px;\n",
              "    padding: 0;\n",
              "    width: 32px;\n",
              "  }\n",
              "\n",
              "  .colab-df-quickchart:hover {\n",
              "    background-color: var(--hover-bg-color);\n",
              "    box-shadow: 0 1px 2px rgba(60, 64, 67, 0.3), 0 1px 3px 1px rgba(60, 64, 67, 0.15);\n",
              "    fill: var(--button-hover-fill-color);\n",
              "  }\n",
              "\n",
              "  .colab-df-quickchart-complete:disabled,\n",
              "  .colab-df-quickchart-complete:disabled:hover {\n",
              "    background-color: var(--disabled-bg-color);\n",
              "    fill: var(--disabled-fill-color);\n",
              "    box-shadow: none;\n",
              "  }\n",
              "\n",
              "  .colab-df-spinner {\n",
              "    border: 2px solid var(--fill-color);\n",
              "    border-color: transparent;\n",
              "    border-bottom-color: var(--fill-color);\n",
              "    animation:\n",
              "      spin 1s steps(1) infinite;\n",
              "  }\n",
              "\n",
              "  @keyframes spin {\n",
              "    0% {\n",
              "      border-color: transparent;\n",
              "      border-bottom-color: var(--fill-color);\n",
              "      border-left-color: var(--fill-color);\n",
              "    }\n",
              "    20% {\n",
              "      border-color: transparent;\n",
              "      border-left-color: var(--fill-color);\n",
              "      border-top-color: var(--fill-color);\n",
              "    }\n",
              "    30% {\n",
              "      border-color: transparent;\n",
              "      border-left-color: var(--fill-color);\n",
              "      border-top-color: var(--fill-color);\n",
              "      border-right-color: var(--fill-color);\n",
              "    }\n",
              "    40% {\n",
              "      border-color: transparent;\n",
              "      border-right-color: var(--fill-color);\n",
              "      border-top-color: var(--fill-color);\n",
              "    }\n",
              "    60% {\n",
              "      border-color: transparent;\n",
              "      border-right-color: var(--fill-color);\n",
              "    }\n",
              "    80% {\n",
              "      border-color: transparent;\n",
              "      border-right-color: var(--fill-color);\n",
              "      border-bottom-color: var(--fill-color);\n",
              "    }\n",
              "    90% {\n",
              "      border-color: transparent;\n",
              "      border-bottom-color: var(--fill-color);\n",
              "    }\n",
              "  }\n",
              "</style>\n",
              "\n",
              "  <script>\n",
              "    async function quickchart(key) {\n",
              "      const quickchartButtonEl =\n",
              "        document.querySelector('#' + key + ' button');\n",
              "      quickchartButtonEl.disabled = true;  // To prevent multiple clicks.\n",
              "      quickchartButtonEl.classList.add('colab-df-spinner');\n",
              "      try {\n",
              "        const charts = await google.colab.kernel.invokeFunction(\n",
              "            'suggestCharts', [key], {});\n",
              "      } catch (error) {\n",
              "        console.error('Error during call to suggestCharts:', error);\n",
              "      }\n",
              "      quickchartButtonEl.classList.remove('colab-df-spinner');\n",
              "      quickchartButtonEl.classList.add('colab-df-quickchart-complete');\n",
              "    }\n",
              "    (() => {\n",
              "      let quickchartButtonEl =\n",
              "        document.querySelector('#df-90e62c17-df20-4127-b282-58dd7dc6f63e button');\n",
              "      quickchartButtonEl.style.display =\n",
              "        google.colab.kernel.accessAllowed ? 'block' : 'none';\n",
              "    })();\n",
              "  </script>\n",
              "</div>\n",
              "\n",
              "    </div>\n",
              "  </div>\n"
            ],
            "application/vnd.google.colaboratory.intrinsic+json": {
              "type": "dataframe",
              "variable_name": "df",
              "summary": "{\n  \"name\": \"df\",\n  \"rows\": 40000,\n  \"fields\": [\n    {\n      \"column\": \"age\",\n      \"properties\": {\n        \"dtype\": \"number\",\n        \"std\": 9,\n        \"min\": 19,\n        \"max\": 95,\n        \"num_unique_values\": 70,\n        \"samples\": [\n          36,\n          58,\n          68\n        ],\n        \"semantic_type\": \"\",\n        \"description\": \"\"\n      }\n    },\n    {\n      \"column\": \"job\",\n      \"properties\": {\n        \"dtype\": \"category\",\n        \"num_unique_values\": 12,\n        \"samples\": [\n          \"housemaid\",\n          \"unemployed\",\n          \"management\"\n        ],\n        \"semantic_type\": \"\",\n        \"description\": \"\"\n      }\n    },\n    {\n      \"column\": \"marital\",\n      \"properties\": {\n        \"dtype\": \"category\",\n        \"num_unique_values\": 3,\n        \"samples\": [\n          \"married\",\n          \"single\",\n          \"divorced\"\n        ],\n        \"semantic_type\": \"\",\n        \"description\": \"\"\n      }\n    },\n    {\n      \"column\": \"education\",\n      \"properties\": {\n        \"dtype\": \"category\",\n        \"num_unique_values\": 4,\n        \"samples\": [\n          \"secondary\",\n          \"primary\",\n          \"tertiary\"\n        ],\n        \"semantic_type\": \"\",\n        \"description\": \"\"\n      }\n    },\n    {\n      \"column\": \"default\",\n      \"properties\": {\n        \"dtype\": \"category\",\n        \"num_unique_values\": 2,\n        \"samples\": [\n          \"yes\",\n          \"no\"\n        ],\n        \"semantic_type\": \"\",\n        \"description\": \"\"\n      }\n    },\n    {\n      \"column\": \"balance\",\n      \"properties\": {\n        \"dtype\": \"number\",\n        \"std\": 2903,\n        \"min\": -8019,\n        \"max\": 102127,\n        \"num_unique_values\": 6849,\n        \"samples\": [\n          13711,\n          5745\n        ],\n        \"semantic_type\": \"\",\n        \"description\": \"\"\n      }\n    },\n    {\n      \"column\": \"housing\",\n      \"properties\": {\n        \"dtype\": \"category\",\n        \"num_unique_values\": 2,\n        \"samples\": [\n          \"no\",\n          \"yes\"\n        ],\n        \"semantic_type\": \"\",\n        \"description\": \"\"\n      }\n    },\n    {\n      \"column\": \"loan\",\n      \"properties\": {\n        \"dtype\": \"category\",\n        \"num_unique_values\": 2,\n        \"samples\": [\n          \"yes\",\n          \"no\"\n        ],\n        \"semantic_type\": \"\",\n        \"description\": \"\"\n      }\n    },\n    {\n      \"column\": \"contact\",\n      \"properties\": {\n        \"dtype\": \"category\",\n        \"num_unique_values\": 3,\n        \"samples\": [\n          \"unknown\",\n          \"cellular\"\n        ],\n        \"semantic_type\": \"\",\n        \"description\": \"\"\n      }\n    },\n    {\n      \"column\": \"day\",\n      \"properties\": {\n        \"dtype\": \"number\",\n        \"std\": 8,\n        \"min\": 1,\n        \"max\": 31,\n        \"num_unique_values\": 31,\n        \"samples\": [\n          1,\n          27\n        ],\n        \"semantic_type\": \"\",\n        \"description\": \"\"\n      }\n    },\n    {\n      \"column\": \"month\",\n      \"properties\": {\n        \"dtype\": \"category\",\n        \"num_unique_values\": 11,\n        \"samples\": [\n          \"nov\",\n          \"may\"\n        ],\n        \"semantic_type\": \"\",\n        \"description\": \"\"\n      }\n    },\n    {\n      \"column\": \"duration\",\n      \"properties\": {\n        \"dtype\": \"number\",\n        \"std\": 259,\n        \"min\": 0,\n        \"max\": 4918,\n        \"num_unique_values\": 1535,\n        \"samples\": [\n          856,\n          1467\n        ],\n        \"semantic_type\": \"\",\n        \"description\": \"\"\n      }\n    },\n    {\n      \"column\": \"campaign\",\n      \"properties\": {\n        \"dtype\": \"number\",\n        \"std\": 3,\n        \"min\": 1,\n        \"max\": 63,\n        \"num_unique_values\": 48,\n        \"samples\": [\n          41,\n          27\n        ],\n        \"semantic_type\": \"\",\n        \"description\": \"\"\n      }\n    },\n    {\n      \"column\": \"y\",\n      \"properties\": {\n        \"dtype\": \"category\",\n        \"num_unique_values\": 2,\n        \"samples\": [\n          \"yes\",\n          \"no\"\n        ],\n        \"semantic_type\": \"\",\n        \"description\": \"\"\n      }\n    }\n  ]\n}"
            }
          },
          "metadata": {},
          "execution_count": 6
        }
      ],
      "source": [
        "df = pd.read_csv(\"term-deposit-marketing-2020.csv\")\n",
        "df.head(4)"
      ]
    },
    {
      "cell_type": "code",
      "execution_count": 7,
      "metadata": {
        "id": "0o_6wmeHqUbz",
        "colab": {
          "base_uri": "https://localhost:8080/",
          "height": 175
        },
        "outputId": "e1805a17-0c7a-48a8-ff1b-f42be73aa1a0"
      },
      "outputs": [
        {
          "output_type": "execute_result",
          "data": {
            "text/plain": [
              "   age           job  marital  education has_credit_default  balance  \\\n",
              "0   58    management  married   tertiary                 no     2143   \n",
              "1   44    technician   single  secondary                 no       29   \n",
              "2   33  entrepreneur  married  secondary                 no        2   \n",
              "3   47   blue-collar  married    unknown                 no     1506   \n",
              "\n",
              "  housing_loan? personal_loan communication_type  last_contacted_day  \\\n",
              "0           yes            no            unknown                   5   \n",
              "1           yes            no            unknown                   5   \n",
              "2           yes           yes            unknown                   5   \n",
              "3           yes            no            unknown                   5   \n",
              "\n",
              "  last_contacted_month  contact_duration  number_of_contacts_in_campaign  \\\n",
              "0                  may               261                               1   \n",
              "1                  may               151                               1   \n",
              "2                  may                76                               1   \n",
              "3                  may                92                               1   \n",
              "\n",
              "  client_subscribed?  \n",
              "0                 no  \n",
              "1                 no  \n",
              "2                 no  \n",
              "3                 no  "
            ],
            "text/html": [
              "\n",
              "  <div id=\"df-556766a9-0674-4e8b-ac38-d388fd6aeeff\" class=\"colab-df-container\">\n",
              "    <div>\n",
              "<style scoped>\n",
              "    .dataframe tbody tr th:only-of-type {\n",
              "        vertical-align: middle;\n",
              "    }\n",
              "\n",
              "    .dataframe tbody tr th {\n",
              "        vertical-align: top;\n",
              "    }\n",
              "\n",
              "    .dataframe thead th {\n",
              "        text-align: right;\n",
              "    }\n",
              "</style>\n",
              "<table border=\"1\" class=\"dataframe\">\n",
              "  <thead>\n",
              "    <tr style=\"text-align: right;\">\n",
              "      <th></th>\n",
              "      <th>age</th>\n",
              "      <th>job</th>\n",
              "      <th>marital</th>\n",
              "      <th>education</th>\n",
              "      <th>has_credit_default</th>\n",
              "      <th>balance</th>\n",
              "      <th>housing_loan?</th>\n",
              "      <th>personal_loan</th>\n",
              "      <th>communication_type</th>\n",
              "      <th>last_contacted_day</th>\n",
              "      <th>last_contacted_month</th>\n",
              "      <th>contact_duration</th>\n",
              "      <th>number_of_contacts_in_campaign</th>\n",
              "      <th>client_subscribed?</th>\n",
              "    </tr>\n",
              "  </thead>\n",
              "  <tbody>\n",
              "    <tr>\n",
              "      <th>0</th>\n",
              "      <td>58</td>\n",
              "      <td>management</td>\n",
              "      <td>married</td>\n",
              "      <td>tertiary</td>\n",
              "      <td>no</td>\n",
              "      <td>2143</td>\n",
              "      <td>yes</td>\n",
              "      <td>no</td>\n",
              "      <td>unknown</td>\n",
              "      <td>5</td>\n",
              "      <td>may</td>\n",
              "      <td>261</td>\n",
              "      <td>1</td>\n",
              "      <td>no</td>\n",
              "    </tr>\n",
              "    <tr>\n",
              "      <th>1</th>\n",
              "      <td>44</td>\n",
              "      <td>technician</td>\n",
              "      <td>single</td>\n",
              "      <td>secondary</td>\n",
              "      <td>no</td>\n",
              "      <td>29</td>\n",
              "      <td>yes</td>\n",
              "      <td>no</td>\n",
              "      <td>unknown</td>\n",
              "      <td>5</td>\n",
              "      <td>may</td>\n",
              "      <td>151</td>\n",
              "      <td>1</td>\n",
              "      <td>no</td>\n",
              "    </tr>\n",
              "    <tr>\n",
              "      <th>2</th>\n",
              "      <td>33</td>\n",
              "      <td>entrepreneur</td>\n",
              "      <td>married</td>\n",
              "      <td>secondary</td>\n",
              "      <td>no</td>\n",
              "      <td>2</td>\n",
              "      <td>yes</td>\n",
              "      <td>yes</td>\n",
              "      <td>unknown</td>\n",
              "      <td>5</td>\n",
              "      <td>may</td>\n",
              "      <td>76</td>\n",
              "      <td>1</td>\n",
              "      <td>no</td>\n",
              "    </tr>\n",
              "    <tr>\n",
              "      <th>3</th>\n",
              "      <td>47</td>\n",
              "      <td>blue-collar</td>\n",
              "      <td>married</td>\n",
              "      <td>unknown</td>\n",
              "      <td>no</td>\n",
              "      <td>1506</td>\n",
              "      <td>yes</td>\n",
              "      <td>no</td>\n",
              "      <td>unknown</td>\n",
              "      <td>5</td>\n",
              "      <td>may</td>\n",
              "      <td>92</td>\n",
              "      <td>1</td>\n",
              "      <td>no</td>\n",
              "    </tr>\n",
              "  </tbody>\n",
              "</table>\n",
              "</div>\n",
              "    <div class=\"colab-df-buttons\">\n",
              "\n",
              "  <div class=\"colab-df-container\">\n",
              "    <button class=\"colab-df-convert\" onclick=\"convertToInteractive('df-556766a9-0674-4e8b-ac38-d388fd6aeeff')\"\n",
              "            title=\"Convert this dataframe to an interactive table.\"\n",
              "            style=\"display:none;\">\n",
              "\n",
              "  <svg xmlns=\"http://www.w3.org/2000/svg\" height=\"24px\" viewBox=\"0 -960 960 960\">\n",
              "    <path d=\"M120-120v-720h720v720H120Zm60-500h600v-160H180v160Zm220 220h160v-160H400v160Zm0 220h160v-160H400v160ZM180-400h160v-160H180v160Zm440 0h160v-160H620v160ZM180-180h160v-160H180v160Zm440 0h160v-160H620v160Z\"/>\n",
              "  </svg>\n",
              "    </button>\n",
              "\n",
              "  <style>\n",
              "    .colab-df-container {\n",
              "      display:flex;\n",
              "      gap: 12px;\n",
              "    }\n",
              "\n",
              "    .colab-df-convert {\n",
              "      background-color: #E8F0FE;\n",
              "      border: none;\n",
              "      border-radius: 50%;\n",
              "      cursor: pointer;\n",
              "      display: none;\n",
              "      fill: #1967D2;\n",
              "      height: 32px;\n",
              "      padding: 0 0 0 0;\n",
              "      width: 32px;\n",
              "    }\n",
              "\n",
              "    .colab-df-convert:hover {\n",
              "      background-color: #E2EBFA;\n",
              "      box-shadow: 0px 1px 2px rgba(60, 64, 67, 0.3), 0px 1px 3px 1px rgba(60, 64, 67, 0.15);\n",
              "      fill: #174EA6;\n",
              "    }\n",
              "\n",
              "    .colab-df-buttons div {\n",
              "      margin-bottom: 4px;\n",
              "    }\n",
              "\n",
              "    [theme=dark] .colab-df-convert {\n",
              "      background-color: #3B4455;\n",
              "      fill: #D2E3FC;\n",
              "    }\n",
              "\n",
              "    [theme=dark] .colab-df-convert:hover {\n",
              "      background-color: #434B5C;\n",
              "      box-shadow: 0px 1px 3px 1px rgba(0, 0, 0, 0.15);\n",
              "      filter: drop-shadow(0px 1px 2px rgba(0, 0, 0, 0.3));\n",
              "      fill: #FFFFFF;\n",
              "    }\n",
              "  </style>\n",
              "\n",
              "    <script>\n",
              "      const buttonEl =\n",
              "        document.querySelector('#df-556766a9-0674-4e8b-ac38-d388fd6aeeff button.colab-df-convert');\n",
              "      buttonEl.style.display =\n",
              "        google.colab.kernel.accessAllowed ? 'block' : 'none';\n",
              "\n",
              "      async function convertToInteractive(key) {\n",
              "        const element = document.querySelector('#df-556766a9-0674-4e8b-ac38-d388fd6aeeff');\n",
              "        const dataTable =\n",
              "          await google.colab.kernel.invokeFunction('convertToInteractive',\n",
              "                                                    [key], {});\n",
              "        if (!dataTable) return;\n",
              "\n",
              "        const docLinkHtml = 'Like what you see? Visit the ' +\n",
              "          '<a target=\"_blank\" href=https://colab.research.google.com/notebooks/data_table.ipynb>data table notebook</a>'\n",
              "          + ' to learn more about interactive tables.';\n",
              "        element.innerHTML = '';\n",
              "        dataTable['output_type'] = 'display_data';\n",
              "        await google.colab.output.renderOutput(dataTable, element);\n",
              "        const docLink = document.createElement('div');\n",
              "        docLink.innerHTML = docLinkHtml;\n",
              "        element.appendChild(docLink);\n",
              "      }\n",
              "    </script>\n",
              "  </div>\n",
              "\n",
              "\n",
              "<div id=\"df-17290083-4ea7-45f3-be85-d09eaaa52d6a\">\n",
              "  <button class=\"colab-df-quickchart\" onclick=\"quickchart('df-17290083-4ea7-45f3-be85-d09eaaa52d6a')\"\n",
              "            title=\"Suggest charts\"\n",
              "            style=\"display:none;\">\n",
              "\n",
              "<svg xmlns=\"http://www.w3.org/2000/svg\" height=\"24px\"viewBox=\"0 0 24 24\"\n",
              "     width=\"24px\">\n",
              "    <g>\n",
              "        <path d=\"M19 3H5c-1.1 0-2 .9-2 2v14c0 1.1.9 2 2 2h14c1.1 0 2-.9 2-2V5c0-1.1-.9-2-2-2zM9 17H7v-7h2v7zm4 0h-2V7h2v10zm4 0h-2v-4h2v4z\"/>\n",
              "    </g>\n",
              "</svg>\n",
              "  </button>\n",
              "\n",
              "<style>\n",
              "  .colab-df-quickchart {\n",
              "      --bg-color: #E8F0FE;\n",
              "      --fill-color: #1967D2;\n",
              "      --hover-bg-color: #E2EBFA;\n",
              "      --hover-fill-color: #174EA6;\n",
              "      --disabled-fill-color: #AAA;\n",
              "      --disabled-bg-color: #DDD;\n",
              "  }\n",
              "\n",
              "  [theme=dark] .colab-df-quickchart {\n",
              "      --bg-color: #3B4455;\n",
              "      --fill-color: #D2E3FC;\n",
              "      --hover-bg-color: #434B5C;\n",
              "      --hover-fill-color: #FFFFFF;\n",
              "      --disabled-bg-color: #3B4455;\n",
              "      --disabled-fill-color: #666;\n",
              "  }\n",
              "\n",
              "  .colab-df-quickchart {\n",
              "    background-color: var(--bg-color);\n",
              "    border: none;\n",
              "    border-radius: 50%;\n",
              "    cursor: pointer;\n",
              "    display: none;\n",
              "    fill: var(--fill-color);\n",
              "    height: 32px;\n",
              "    padding: 0;\n",
              "    width: 32px;\n",
              "  }\n",
              "\n",
              "  .colab-df-quickchart:hover {\n",
              "    background-color: var(--hover-bg-color);\n",
              "    box-shadow: 0 1px 2px rgba(60, 64, 67, 0.3), 0 1px 3px 1px rgba(60, 64, 67, 0.15);\n",
              "    fill: var(--button-hover-fill-color);\n",
              "  }\n",
              "\n",
              "  .colab-df-quickchart-complete:disabled,\n",
              "  .colab-df-quickchart-complete:disabled:hover {\n",
              "    background-color: var(--disabled-bg-color);\n",
              "    fill: var(--disabled-fill-color);\n",
              "    box-shadow: none;\n",
              "  }\n",
              "\n",
              "  .colab-df-spinner {\n",
              "    border: 2px solid var(--fill-color);\n",
              "    border-color: transparent;\n",
              "    border-bottom-color: var(--fill-color);\n",
              "    animation:\n",
              "      spin 1s steps(1) infinite;\n",
              "  }\n",
              "\n",
              "  @keyframes spin {\n",
              "    0% {\n",
              "      border-color: transparent;\n",
              "      border-bottom-color: var(--fill-color);\n",
              "      border-left-color: var(--fill-color);\n",
              "    }\n",
              "    20% {\n",
              "      border-color: transparent;\n",
              "      border-left-color: var(--fill-color);\n",
              "      border-top-color: var(--fill-color);\n",
              "    }\n",
              "    30% {\n",
              "      border-color: transparent;\n",
              "      border-left-color: var(--fill-color);\n",
              "      border-top-color: var(--fill-color);\n",
              "      border-right-color: var(--fill-color);\n",
              "    }\n",
              "    40% {\n",
              "      border-color: transparent;\n",
              "      border-right-color: var(--fill-color);\n",
              "      border-top-color: var(--fill-color);\n",
              "    }\n",
              "    60% {\n",
              "      border-color: transparent;\n",
              "      border-right-color: var(--fill-color);\n",
              "    }\n",
              "    80% {\n",
              "      border-color: transparent;\n",
              "      border-right-color: var(--fill-color);\n",
              "      border-bottom-color: var(--fill-color);\n",
              "    }\n",
              "    90% {\n",
              "      border-color: transparent;\n",
              "      border-bottom-color: var(--fill-color);\n",
              "    }\n",
              "  }\n",
              "</style>\n",
              "\n",
              "  <script>\n",
              "    async function quickchart(key) {\n",
              "      const quickchartButtonEl =\n",
              "        document.querySelector('#' + key + ' button');\n",
              "      quickchartButtonEl.disabled = true;  // To prevent multiple clicks.\n",
              "      quickchartButtonEl.classList.add('colab-df-spinner');\n",
              "      try {\n",
              "        const charts = await google.colab.kernel.invokeFunction(\n",
              "            'suggestCharts', [key], {});\n",
              "      } catch (error) {\n",
              "        console.error('Error during call to suggestCharts:', error);\n",
              "      }\n",
              "      quickchartButtonEl.classList.remove('colab-df-spinner');\n",
              "      quickchartButtonEl.classList.add('colab-df-quickchart-complete');\n",
              "    }\n",
              "    (() => {\n",
              "      let quickchartButtonEl =\n",
              "        document.querySelector('#df-17290083-4ea7-45f3-be85-d09eaaa52d6a button');\n",
              "      quickchartButtonEl.style.display =\n",
              "        google.colab.kernel.accessAllowed ? 'block' : 'none';\n",
              "    })();\n",
              "  </script>\n",
              "</div>\n",
              "\n",
              "    </div>\n",
              "  </div>\n"
            ],
            "application/vnd.google.colaboratory.intrinsic+json": {
              "type": "dataframe",
              "variable_name": "df",
              "summary": "{\n  \"name\": \"df\",\n  \"rows\": 40000,\n  \"fields\": [\n    {\n      \"column\": \"age\",\n      \"properties\": {\n        \"dtype\": \"number\",\n        \"std\": 9,\n        \"min\": 19,\n        \"max\": 95,\n        \"num_unique_values\": 70,\n        \"samples\": [\n          36,\n          58,\n          68\n        ],\n        \"semantic_type\": \"\",\n        \"description\": \"\"\n      }\n    },\n    {\n      \"column\": \"job\",\n      \"properties\": {\n        \"dtype\": \"category\",\n        \"num_unique_values\": 12,\n        \"samples\": [\n          \"housemaid\",\n          \"unemployed\",\n          \"management\"\n        ],\n        \"semantic_type\": \"\",\n        \"description\": \"\"\n      }\n    },\n    {\n      \"column\": \"marital\",\n      \"properties\": {\n        \"dtype\": \"category\",\n        \"num_unique_values\": 3,\n        \"samples\": [\n          \"married\",\n          \"single\",\n          \"divorced\"\n        ],\n        \"semantic_type\": \"\",\n        \"description\": \"\"\n      }\n    },\n    {\n      \"column\": \"education\",\n      \"properties\": {\n        \"dtype\": \"category\",\n        \"num_unique_values\": 4,\n        \"samples\": [\n          \"secondary\",\n          \"primary\",\n          \"tertiary\"\n        ],\n        \"semantic_type\": \"\",\n        \"description\": \"\"\n      }\n    },\n    {\n      \"column\": \"has_credit_default\",\n      \"properties\": {\n        \"dtype\": \"category\",\n        \"num_unique_values\": 2,\n        \"samples\": [\n          \"yes\",\n          \"no\"\n        ],\n        \"semantic_type\": \"\",\n        \"description\": \"\"\n      }\n    },\n    {\n      \"column\": \"balance\",\n      \"properties\": {\n        \"dtype\": \"number\",\n        \"std\": 2903,\n        \"min\": -8019,\n        \"max\": 102127,\n        \"num_unique_values\": 6849,\n        \"samples\": [\n          13711,\n          5745\n        ],\n        \"semantic_type\": \"\",\n        \"description\": \"\"\n      }\n    },\n    {\n      \"column\": \"housing_loan?\",\n      \"properties\": {\n        \"dtype\": \"category\",\n        \"num_unique_values\": 2,\n        \"samples\": [\n          \"no\",\n          \"yes\"\n        ],\n        \"semantic_type\": \"\",\n        \"description\": \"\"\n      }\n    },\n    {\n      \"column\": \"personal_loan\",\n      \"properties\": {\n        \"dtype\": \"category\",\n        \"num_unique_values\": 2,\n        \"samples\": [\n          \"yes\",\n          \"no\"\n        ],\n        \"semantic_type\": \"\",\n        \"description\": \"\"\n      }\n    },\n    {\n      \"column\": \"communication_type\",\n      \"properties\": {\n        \"dtype\": \"category\",\n        \"num_unique_values\": 3,\n        \"samples\": [\n          \"unknown\",\n          \"cellular\"\n        ],\n        \"semantic_type\": \"\",\n        \"description\": \"\"\n      }\n    },\n    {\n      \"column\": \"last_contacted_day\",\n      \"properties\": {\n        \"dtype\": \"number\",\n        \"std\": 8,\n        \"min\": 1,\n        \"max\": 31,\n        \"num_unique_values\": 31,\n        \"samples\": [\n          1,\n          27\n        ],\n        \"semantic_type\": \"\",\n        \"description\": \"\"\n      }\n    },\n    {\n      \"column\": \"last_contacted_month\",\n      \"properties\": {\n        \"dtype\": \"category\",\n        \"num_unique_values\": 11,\n        \"samples\": [\n          \"nov\",\n          \"may\"\n        ],\n        \"semantic_type\": \"\",\n        \"description\": \"\"\n      }\n    },\n    {\n      \"column\": \"contact_duration\",\n      \"properties\": {\n        \"dtype\": \"number\",\n        \"std\": 259,\n        \"min\": 0,\n        \"max\": 4918,\n        \"num_unique_values\": 1535,\n        \"samples\": [\n          856,\n          1467\n        ],\n        \"semantic_type\": \"\",\n        \"description\": \"\"\n      }\n    },\n    {\n      \"column\": \"number_of_contacts_in_campaign\",\n      \"properties\": {\n        \"dtype\": \"number\",\n        \"std\": 3,\n        \"min\": 1,\n        \"max\": 63,\n        \"num_unique_values\": 48,\n        \"samples\": [\n          41,\n          27\n        ],\n        \"semantic_type\": \"\",\n        \"description\": \"\"\n      }\n    },\n    {\n      \"column\": \"client_subscribed?\",\n      \"properties\": {\n        \"dtype\": \"category\",\n        \"num_unique_values\": 2,\n        \"samples\": [\n          \"yes\",\n          \"no\"\n        ],\n        \"semantic_type\": \"\",\n        \"description\": \"\"\n      }\n    }\n  ]\n}"
            }
          },
          "metadata": {},
          "execution_count": 7
        }
      ],
      "source": [
        "# First, let's create a dictionary mapping the old column names to the new ones\n",
        "column_mapping = {\n",
        "    'default': 'has_credit_default',\n",
        "    'loan': 'personal_loan',\n",
        "    'contact': 'communication_type',\n",
        "    'day': 'last_contacted_day',\n",
        "    'month': 'last_contacted_month',\n",
        "    'duration': 'contact_duration',\n",
        "    'campaign': 'number_of_contacts_in_campaign',\n",
        "    'housing': 'housing_loan?',\n",
        "    'y' : 'client_subscribed?'\n",
        "}\n",
        "\n",
        "# Now, let's rename the columns\n",
        "df = df.rename(columns=column_mapping)\n",
        "\n",
        "# Let's verify the changes\n",
        "df.head(4)"
      ]
    },
    {
      "cell_type": "code",
      "execution_count": 8,
      "metadata": {
        "id": "R6YbBr746vVI",
        "colab": {
          "base_uri": "https://localhost:8080/",
          "height": 331
        },
        "outputId": "d782596c-7e28-428a-fb7a-cb5102bc6557"
      },
      "outputs": [
        {
          "output_type": "execute_result",
          "data": {
            "text/plain": [
              "                      count unique          top   freq\n",
              "job                   40000     12  blue-collar   9383\n",
              "marital               40000      3      married  24386\n",
              "education             40000      4    secondary  20993\n",
              "has_credit_default    40000      2           no  39191\n",
              "housing_loan?         40000      2          yes  24031\n",
              "personal_loan         40000      2           no  33070\n",
              "communication_type    40000      3     cellular  24914\n",
              "last_contacted_month  40000     11          may  13532\n",
              "client_subscribed?    40000      2           no  37104"
            ],
            "text/html": [
              "\n",
              "  <div id=\"df-fac46e33-ef1e-437e-8274-11e5ca033b9e\" class=\"colab-df-container\">\n",
              "    <div>\n",
              "<style scoped>\n",
              "    .dataframe tbody tr th:only-of-type {\n",
              "        vertical-align: middle;\n",
              "    }\n",
              "\n",
              "    .dataframe tbody tr th {\n",
              "        vertical-align: top;\n",
              "    }\n",
              "\n",
              "    .dataframe thead th {\n",
              "        text-align: right;\n",
              "    }\n",
              "</style>\n",
              "<table border=\"1\" class=\"dataframe\">\n",
              "  <thead>\n",
              "    <tr style=\"text-align: right;\">\n",
              "      <th></th>\n",
              "      <th>count</th>\n",
              "      <th>unique</th>\n",
              "      <th>top</th>\n",
              "      <th>freq</th>\n",
              "    </tr>\n",
              "  </thead>\n",
              "  <tbody>\n",
              "    <tr>\n",
              "      <th>job</th>\n",
              "      <td>40000</td>\n",
              "      <td>12</td>\n",
              "      <td>blue-collar</td>\n",
              "      <td>9383</td>\n",
              "    </tr>\n",
              "    <tr>\n",
              "      <th>marital</th>\n",
              "      <td>40000</td>\n",
              "      <td>3</td>\n",
              "      <td>married</td>\n",
              "      <td>24386</td>\n",
              "    </tr>\n",
              "    <tr>\n",
              "      <th>education</th>\n",
              "      <td>40000</td>\n",
              "      <td>4</td>\n",
              "      <td>secondary</td>\n",
              "      <td>20993</td>\n",
              "    </tr>\n",
              "    <tr>\n",
              "      <th>has_credit_default</th>\n",
              "      <td>40000</td>\n",
              "      <td>2</td>\n",
              "      <td>no</td>\n",
              "      <td>39191</td>\n",
              "    </tr>\n",
              "    <tr>\n",
              "      <th>housing_loan?</th>\n",
              "      <td>40000</td>\n",
              "      <td>2</td>\n",
              "      <td>yes</td>\n",
              "      <td>24031</td>\n",
              "    </tr>\n",
              "    <tr>\n",
              "      <th>personal_loan</th>\n",
              "      <td>40000</td>\n",
              "      <td>2</td>\n",
              "      <td>no</td>\n",
              "      <td>33070</td>\n",
              "    </tr>\n",
              "    <tr>\n",
              "      <th>communication_type</th>\n",
              "      <td>40000</td>\n",
              "      <td>3</td>\n",
              "      <td>cellular</td>\n",
              "      <td>24914</td>\n",
              "    </tr>\n",
              "    <tr>\n",
              "      <th>last_contacted_month</th>\n",
              "      <td>40000</td>\n",
              "      <td>11</td>\n",
              "      <td>may</td>\n",
              "      <td>13532</td>\n",
              "    </tr>\n",
              "    <tr>\n",
              "      <th>client_subscribed?</th>\n",
              "      <td>40000</td>\n",
              "      <td>2</td>\n",
              "      <td>no</td>\n",
              "      <td>37104</td>\n",
              "    </tr>\n",
              "  </tbody>\n",
              "</table>\n",
              "</div>\n",
              "    <div class=\"colab-df-buttons\">\n",
              "\n",
              "  <div class=\"colab-df-container\">\n",
              "    <button class=\"colab-df-convert\" onclick=\"convertToInteractive('df-fac46e33-ef1e-437e-8274-11e5ca033b9e')\"\n",
              "            title=\"Convert this dataframe to an interactive table.\"\n",
              "            style=\"display:none;\">\n",
              "\n",
              "  <svg xmlns=\"http://www.w3.org/2000/svg\" height=\"24px\" viewBox=\"0 -960 960 960\">\n",
              "    <path d=\"M120-120v-720h720v720H120Zm60-500h600v-160H180v160Zm220 220h160v-160H400v160Zm0 220h160v-160H400v160ZM180-400h160v-160H180v160Zm440 0h160v-160H620v160ZM180-180h160v-160H180v160Zm440 0h160v-160H620v160Z\"/>\n",
              "  </svg>\n",
              "    </button>\n",
              "\n",
              "  <style>\n",
              "    .colab-df-container {\n",
              "      display:flex;\n",
              "      gap: 12px;\n",
              "    }\n",
              "\n",
              "    .colab-df-convert {\n",
              "      background-color: #E8F0FE;\n",
              "      border: none;\n",
              "      border-radius: 50%;\n",
              "      cursor: pointer;\n",
              "      display: none;\n",
              "      fill: #1967D2;\n",
              "      height: 32px;\n",
              "      padding: 0 0 0 0;\n",
              "      width: 32px;\n",
              "    }\n",
              "\n",
              "    .colab-df-convert:hover {\n",
              "      background-color: #E2EBFA;\n",
              "      box-shadow: 0px 1px 2px rgba(60, 64, 67, 0.3), 0px 1px 3px 1px rgba(60, 64, 67, 0.15);\n",
              "      fill: #174EA6;\n",
              "    }\n",
              "\n",
              "    .colab-df-buttons div {\n",
              "      margin-bottom: 4px;\n",
              "    }\n",
              "\n",
              "    [theme=dark] .colab-df-convert {\n",
              "      background-color: #3B4455;\n",
              "      fill: #D2E3FC;\n",
              "    }\n",
              "\n",
              "    [theme=dark] .colab-df-convert:hover {\n",
              "      background-color: #434B5C;\n",
              "      box-shadow: 0px 1px 3px 1px rgba(0, 0, 0, 0.15);\n",
              "      filter: drop-shadow(0px 1px 2px rgba(0, 0, 0, 0.3));\n",
              "      fill: #FFFFFF;\n",
              "    }\n",
              "  </style>\n",
              "\n",
              "    <script>\n",
              "      const buttonEl =\n",
              "        document.querySelector('#df-fac46e33-ef1e-437e-8274-11e5ca033b9e button.colab-df-convert');\n",
              "      buttonEl.style.display =\n",
              "        google.colab.kernel.accessAllowed ? 'block' : 'none';\n",
              "\n",
              "      async function convertToInteractive(key) {\n",
              "        const element = document.querySelector('#df-fac46e33-ef1e-437e-8274-11e5ca033b9e');\n",
              "        const dataTable =\n",
              "          await google.colab.kernel.invokeFunction('convertToInteractive',\n",
              "                                                    [key], {});\n",
              "        if (!dataTable) return;\n",
              "\n",
              "        const docLinkHtml = 'Like what you see? Visit the ' +\n",
              "          '<a target=\"_blank\" href=https://colab.research.google.com/notebooks/data_table.ipynb>data table notebook</a>'\n",
              "          + ' to learn more about interactive tables.';\n",
              "        element.innerHTML = '';\n",
              "        dataTable['output_type'] = 'display_data';\n",
              "        await google.colab.output.renderOutput(dataTable, element);\n",
              "        const docLink = document.createElement('div');\n",
              "        docLink.innerHTML = docLinkHtml;\n",
              "        element.appendChild(docLink);\n",
              "      }\n",
              "    </script>\n",
              "  </div>\n",
              "\n",
              "\n",
              "<div id=\"df-762ef41c-d7f8-4863-818e-2877b6db6c00\">\n",
              "  <button class=\"colab-df-quickchart\" onclick=\"quickchart('df-762ef41c-d7f8-4863-818e-2877b6db6c00')\"\n",
              "            title=\"Suggest charts\"\n",
              "            style=\"display:none;\">\n",
              "\n",
              "<svg xmlns=\"http://www.w3.org/2000/svg\" height=\"24px\"viewBox=\"0 0 24 24\"\n",
              "     width=\"24px\">\n",
              "    <g>\n",
              "        <path d=\"M19 3H5c-1.1 0-2 .9-2 2v14c0 1.1.9 2 2 2h14c1.1 0 2-.9 2-2V5c0-1.1-.9-2-2-2zM9 17H7v-7h2v7zm4 0h-2V7h2v10zm4 0h-2v-4h2v4z\"/>\n",
              "    </g>\n",
              "</svg>\n",
              "  </button>\n",
              "\n",
              "<style>\n",
              "  .colab-df-quickchart {\n",
              "      --bg-color: #E8F0FE;\n",
              "      --fill-color: #1967D2;\n",
              "      --hover-bg-color: #E2EBFA;\n",
              "      --hover-fill-color: #174EA6;\n",
              "      --disabled-fill-color: #AAA;\n",
              "      --disabled-bg-color: #DDD;\n",
              "  }\n",
              "\n",
              "  [theme=dark] .colab-df-quickchart {\n",
              "      --bg-color: #3B4455;\n",
              "      --fill-color: #D2E3FC;\n",
              "      --hover-bg-color: #434B5C;\n",
              "      --hover-fill-color: #FFFFFF;\n",
              "      --disabled-bg-color: #3B4455;\n",
              "      --disabled-fill-color: #666;\n",
              "  }\n",
              "\n",
              "  .colab-df-quickchart {\n",
              "    background-color: var(--bg-color);\n",
              "    border: none;\n",
              "    border-radius: 50%;\n",
              "    cursor: pointer;\n",
              "    display: none;\n",
              "    fill: var(--fill-color);\n",
              "    height: 32px;\n",
              "    padding: 0;\n",
              "    width: 32px;\n",
              "  }\n",
              "\n",
              "  .colab-df-quickchart:hover {\n",
              "    background-color: var(--hover-bg-color);\n",
              "    box-shadow: 0 1px 2px rgba(60, 64, 67, 0.3), 0 1px 3px 1px rgba(60, 64, 67, 0.15);\n",
              "    fill: var(--button-hover-fill-color);\n",
              "  }\n",
              "\n",
              "  .colab-df-quickchart-complete:disabled,\n",
              "  .colab-df-quickchart-complete:disabled:hover {\n",
              "    background-color: var(--disabled-bg-color);\n",
              "    fill: var(--disabled-fill-color);\n",
              "    box-shadow: none;\n",
              "  }\n",
              "\n",
              "  .colab-df-spinner {\n",
              "    border: 2px solid var(--fill-color);\n",
              "    border-color: transparent;\n",
              "    border-bottom-color: var(--fill-color);\n",
              "    animation:\n",
              "      spin 1s steps(1) infinite;\n",
              "  }\n",
              "\n",
              "  @keyframes spin {\n",
              "    0% {\n",
              "      border-color: transparent;\n",
              "      border-bottom-color: var(--fill-color);\n",
              "      border-left-color: var(--fill-color);\n",
              "    }\n",
              "    20% {\n",
              "      border-color: transparent;\n",
              "      border-left-color: var(--fill-color);\n",
              "      border-top-color: var(--fill-color);\n",
              "    }\n",
              "    30% {\n",
              "      border-color: transparent;\n",
              "      border-left-color: var(--fill-color);\n",
              "      border-top-color: var(--fill-color);\n",
              "      border-right-color: var(--fill-color);\n",
              "    }\n",
              "    40% {\n",
              "      border-color: transparent;\n",
              "      border-right-color: var(--fill-color);\n",
              "      border-top-color: var(--fill-color);\n",
              "    }\n",
              "    60% {\n",
              "      border-color: transparent;\n",
              "      border-right-color: var(--fill-color);\n",
              "    }\n",
              "    80% {\n",
              "      border-color: transparent;\n",
              "      border-right-color: var(--fill-color);\n",
              "      border-bottom-color: var(--fill-color);\n",
              "    }\n",
              "    90% {\n",
              "      border-color: transparent;\n",
              "      border-bottom-color: var(--fill-color);\n",
              "    }\n",
              "  }\n",
              "</style>\n",
              "\n",
              "  <script>\n",
              "    async function quickchart(key) {\n",
              "      const quickchartButtonEl =\n",
              "        document.querySelector('#' + key + ' button');\n",
              "      quickchartButtonEl.disabled = true;  // To prevent multiple clicks.\n",
              "      quickchartButtonEl.classList.add('colab-df-spinner');\n",
              "      try {\n",
              "        const charts = await google.colab.kernel.invokeFunction(\n",
              "            'suggestCharts', [key], {});\n",
              "      } catch (error) {\n",
              "        console.error('Error during call to suggestCharts:', error);\n",
              "      }\n",
              "      quickchartButtonEl.classList.remove('colab-df-spinner');\n",
              "      quickchartButtonEl.classList.add('colab-df-quickchart-complete');\n",
              "    }\n",
              "    (() => {\n",
              "      let quickchartButtonEl =\n",
              "        document.querySelector('#df-762ef41c-d7f8-4863-818e-2877b6db6c00 button');\n",
              "      quickchartButtonEl.style.display =\n",
              "        google.colab.kernel.accessAllowed ? 'block' : 'none';\n",
              "    })();\n",
              "  </script>\n",
              "</div>\n",
              "\n",
              "    </div>\n",
              "  </div>\n"
            ],
            "application/vnd.google.colaboratory.intrinsic+json": {
              "type": "dataframe",
              "summary": "{\n  \"name\": \"df\",\n  \"rows\": 9,\n  \"fields\": [\n    {\n      \"column\": \"count\",\n      \"properties\": {\n        \"dtype\": \"date\",\n        \"min\": \"40000\",\n        \"max\": \"40000\",\n        \"num_unique_values\": 1,\n        \"samples\": [\n          \"40000\"\n        ],\n        \"semantic_type\": \"\",\n        \"description\": \"\"\n      }\n    },\n    {\n      \"column\": \"unique\",\n      \"properties\": {\n        \"dtype\": \"date\",\n        \"min\": 2,\n        \"max\": 12,\n        \"num_unique_values\": 5,\n        \"samples\": [\n          3\n        ],\n        \"semantic_type\": \"\",\n        \"description\": \"\"\n      }\n    },\n    {\n      \"column\": \"top\",\n      \"properties\": {\n        \"dtype\": \"string\",\n        \"num_unique_values\": 7,\n        \"samples\": [\n          \"blue-collar\"\n        ],\n        \"semantic_type\": \"\",\n        \"description\": \"\"\n      }\n    },\n    {\n      \"column\": \"freq\",\n      \"properties\": {\n        \"dtype\": \"date\",\n        \"min\": \"9383\",\n        \"max\": \"39191\",\n        \"num_unique_values\": 9,\n        \"samples\": [\n          \"13532\"\n        ],\n        \"semantic_type\": \"\",\n        \"description\": \"\"\n      }\n    }\n  ]\n}"
            }
          },
          "metadata": {},
          "execution_count": 8
        }
      ],
      "source": [
        "df.describe(include='object').T"
      ]
    },
    {
      "cell_type": "code",
      "execution_count": 9,
      "metadata": {
        "id": "tQxjLBec6RNR",
        "colab": {
          "base_uri": "https://localhost:8080/",
          "height": 300
        },
        "outputId": "49ad8e28-0752-4101-b761-ea3fda0f1770"
      },
      "outputs": [
        {
          "output_type": "execute_result",
          "data": {
            "text/plain": [
              "           age   balance  last_contacted_day  contact_duration  \\\n",
              "count 40000.00  40000.00            40000.00          40000.00   \n",
              "mean     40.54   1274.28               16.02            254.82   \n",
              "std       9.64   2903.77                8.28            259.37   \n",
              "min      19.00  -8019.00                1.00              0.00   \n",
              "25%      33.00     54.00                8.00            100.00   \n",
              "50%      39.00    407.00               17.00            175.00   \n",
              "75%      48.00   1319.00               21.00            313.00   \n",
              "max      95.00 102127.00               31.00           4918.00   \n",
              "\n",
              "       number_of_contacts_in_campaign  \n",
              "count                        40000.00  \n",
              "mean                             2.88  \n",
              "std                              3.24  \n",
              "min                              1.00  \n",
              "25%                              1.00  \n",
              "50%                              2.00  \n",
              "75%                              3.00  \n",
              "max                             63.00  "
            ],
            "text/html": [
              "\n",
              "  <div id=\"df-c46cc5fc-d4d7-488e-b401-6e8fa4c8cb84\" class=\"colab-df-container\">\n",
              "    <div>\n",
              "<style scoped>\n",
              "    .dataframe tbody tr th:only-of-type {\n",
              "        vertical-align: middle;\n",
              "    }\n",
              "\n",
              "    .dataframe tbody tr th {\n",
              "        vertical-align: top;\n",
              "    }\n",
              "\n",
              "    .dataframe thead th {\n",
              "        text-align: right;\n",
              "    }\n",
              "</style>\n",
              "<table border=\"1\" class=\"dataframe\">\n",
              "  <thead>\n",
              "    <tr style=\"text-align: right;\">\n",
              "      <th></th>\n",
              "      <th>age</th>\n",
              "      <th>balance</th>\n",
              "      <th>last_contacted_day</th>\n",
              "      <th>contact_duration</th>\n",
              "      <th>number_of_contacts_in_campaign</th>\n",
              "    </tr>\n",
              "  </thead>\n",
              "  <tbody>\n",
              "    <tr>\n",
              "      <th>count</th>\n",
              "      <td>40000.00</td>\n",
              "      <td>40000.00</td>\n",
              "      <td>40000.00</td>\n",
              "      <td>40000.00</td>\n",
              "      <td>40000.00</td>\n",
              "    </tr>\n",
              "    <tr>\n",
              "      <th>mean</th>\n",
              "      <td>40.54</td>\n",
              "      <td>1274.28</td>\n",
              "      <td>16.02</td>\n",
              "      <td>254.82</td>\n",
              "      <td>2.88</td>\n",
              "    </tr>\n",
              "    <tr>\n",
              "      <th>std</th>\n",
              "      <td>9.64</td>\n",
              "      <td>2903.77</td>\n",
              "      <td>8.28</td>\n",
              "      <td>259.37</td>\n",
              "      <td>3.24</td>\n",
              "    </tr>\n",
              "    <tr>\n",
              "      <th>min</th>\n",
              "      <td>19.00</td>\n",
              "      <td>-8019.00</td>\n",
              "      <td>1.00</td>\n",
              "      <td>0.00</td>\n",
              "      <td>1.00</td>\n",
              "    </tr>\n",
              "    <tr>\n",
              "      <th>25%</th>\n",
              "      <td>33.00</td>\n",
              "      <td>54.00</td>\n",
              "      <td>8.00</td>\n",
              "      <td>100.00</td>\n",
              "      <td>1.00</td>\n",
              "    </tr>\n",
              "    <tr>\n",
              "      <th>50%</th>\n",
              "      <td>39.00</td>\n",
              "      <td>407.00</td>\n",
              "      <td>17.00</td>\n",
              "      <td>175.00</td>\n",
              "      <td>2.00</td>\n",
              "    </tr>\n",
              "    <tr>\n",
              "      <th>75%</th>\n",
              "      <td>48.00</td>\n",
              "      <td>1319.00</td>\n",
              "      <td>21.00</td>\n",
              "      <td>313.00</td>\n",
              "      <td>3.00</td>\n",
              "    </tr>\n",
              "    <tr>\n",
              "      <th>max</th>\n",
              "      <td>95.00</td>\n",
              "      <td>102127.00</td>\n",
              "      <td>31.00</td>\n",
              "      <td>4918.00</td>\n",
              "      <td>63.00</td>\n",
              "    </tr>\n",
              "  </tbody>\n",
              "</table>\n",
              "</div>\n",
              "    <div class=\"colab-df-buttons\">\n",
              "\n",
              "  <div class=\"colab-df-container\">\n",
              "    <button class=\"colab-df-convert\" onclick=\"convertToInteractive('df-c46cc5fc-d4d7-488e-b401-6e8fa4c8cb84')\"\n",
              "            title=\"Convert this dataframe to an interactive table.\"\n",
              "            style=\"display:none;\">\n",
              "\n",
              "  <svg xmlns=\"http://www.w3.org/2000/svg\" height=\"24px\" viewBox=\"0 -960 960 960\">\n",
              "    <path d=\"M120-120v-720h720v720H120Zm60-500h600v-160H180v160Zm220 220h160v-160H400v160Zm0 220h160v-160H400v160ZM180-400h160v-160H180v160Zm440 0h160v-160H620v160ZM180-180h160v-160H180v160Zm440 0h160v-160H620v160Z\"/>\n",
              "  </svg>\n",
              "    </button>\n",
              "\n",
              "  <style>\n",
              "    .colab-df-container {\n",
              "      display:flex;\n",
              "      gap: 12px;\n",
              "    }\n",
              "\n",
              "    .colab-df-convert {\n",
              "      background-color: #E8F0FE;\n",
              "      border: none;\n",
              "      border-radius: 50%;\n",
              "      cursor: pointer;\n",
              "      display: none;\n",
              "      fill: #1967D2;\n",
              "      height: 32px;\n",
              "      padding: 0 0 0 0;\n",
              "      width: 32px;\n",
              "    }\n",
              "\n",
              "    .colab-df-convert:hover {\n",
              "      background-color: #E2EBFA;\n",
              "      box-shadow: 0px 1px 2px rgba(60, 64, 67, 0.3), 0px 1px 3px 1px rgba(60, 64, 67, 0.15);\n",
              "      fill: #174EA6;\n",
              "    }\n",
              "\n",
              "    .colab-df-buttons div {\n",
              "      margin-bottom: 4px;\n",
              "    }\n",
              "\n",
              "    [theme=dark] .colab-df-convert {\n",
              "      background-color: #3B4455;\n",
              "      fill: #D2E3FC;\n",
              "    }\n",
              "\n",
              "    [theme=dark] .colab-df-convert:hover {\n",
              "      background-color: #434B5C;\n",
              "      box-shadow: 0px 1px 3px 1px rgba(0, 0, 0, 0.15);\n",
              "      filter: drop-shadow(0px 1px 2px rgba(0, 0, 0, 0.3));\n",
              "      fill: #FFFFFF;\n",
              "    }\n",
              "  </style>\n",
              "\n",
              "    <script>\n",
              "      const buttonEl =\n",
              "        document.querySelector('#df-c46cc5fc-d4d7-488e-b401-6e8fa4c8cb84 button.colab-df-convert');\n",
              "      buttonEl.style.display =\n",
              "        google.colab.kernel.accessAllowed ? 'block' : 'none';\n",
              "\n",
              "      async function convertToInteractive(key) {\n",
              "        const element = document.querySelector('#df-c46cc5fc-d4d7-488e-b401-6e8fa4c8cb84');\n",
              "        const dataTable =\n",
              "          await google.colab.kernel.invokeFunction('convertToInteractive',\n",
              "                                                    [key], {});\n",
              "        if (!dataTable) return;\n",
              "\n",
              "        const docLinkHtml = 'Like what you see? Visit the ' +\n",
              "          '<a target=\"_blank\" href=https://colab.research.google.com/notebooks/data_table.ipynb>data table notebook</a>'\n",
              "          + ' to learn more about interactive tables.';\n",
              "        element.innerHTML = '';\n",
              "        dataTable['output_type'] = 'display_data';\n",
              "        await google.colab.output.renderOutput(dataTable, element);\n",
              "        const docLink = document.createElement('div');\n",
              "        docLink.innerHTML = docLinkHtml;\n",
              "        element.appendChild(docLink);\n",
              "      }\n",
              "    </script>\n",
              "  </div>\n",
              "\n",
              "\n",
              "<div id=\"df-d68f8990-944b-4cda-83e7-858a0ba121e3\">\n",
              "  <button class=\"colab-df-quickchart\" onclick=\"quickchart('df-d68f8990-944b-4cda-83e7-858a0ba121e3')\"\n",
              "            title=\"Suggest charts\"\n",
              "            style=\"display:none;\">\n",
              "\n",
              "<svg xmlns=\"http://www.w3.org/2000/svg\" height=\"24px\"viewBox=\"0 0 24 24\"\n",
              "     width=\"24px\">\n",
              "    <g>\n",
              "        <path d=\"M19 3H5c-1.1 0-2 .9-2 2v14c0 1.1.9 2 2 2h14c1.1 0 2-.9 2-2V5c0-1.1-.9-2-2-2zM9 17H7v-7h2v7zm4 0h-2V7h2v10zm4 0h-2v-4h2v4z\"/>\n",
              "    </g>\n",
              "</svg>\n",
              "  </button>\n",
              "\n",
              "<style>\n",
              "  .colab-df-quickchart {\n",
              "      --bg-color: #E8F0FE;\n",
              "      --fill-color: #1967D2;\n",
              "      --hover-bg-color: #E2EBFA;\n",
              "      --hover-fill-color: #174EA6;\n",
              "      --disabled-fill-color: #AAA;\n",
              "      --disabled-bg-color: #DDD;\n",
              "  }\n",
              "\n",
              "  [theme=dark] .colab-df-quickchart {\n",
              "      --bg-color: #3B4455;\n",
              "      --fill-color: #D2E3FC;\n",
              "      --hover-bg-color: #434B5C;\n",
              "      --hover-fill-color: #FFFFFF;\n",
              "      --disabled-bg-color: #3B4455;\n",
              "      --disabled-fill-color: #666;\n",
              "  }\n",
              "\n",
              "  .colab-df-quickchart {\n",
              "    background-color: var(--bg-color);\n",
              "    border: none;\n",
              "    border-radius: 50%;\n",
              "    cursor: pointer;\n",
              "    display: none;\n",
              "    fill: var(--fill-color);\n",
              "    height: 32px;\n",
              "    padding: 0;\n",
              "    width: 32px;\n",
              "  }\n",
              "\n",
              "  .colab-df-quickchart:hover {\n",
              "    background-color: var(--hover-bg-color);\n",
              "    box-shadow: 0 1px 2px rgba(60, 64, 67, 0.3), 0 1px 3px 1px rgba(60, 64, 67, 0.15);\n",
              "    fill: var(--button-hover-fill-color);\n",
              "  }\n",
              "\n",
              "  .colab-df-quickchart-complete:disabled,\n",
              "  .colab-df-quickchart-complete:disabled:hover {\n",
              "    background-color: var(--disabled-bg-color);\n",
              "    fill: var(--disabled-fill-color);\n",
              "    box-shadow: none;\n",
              "  }\n",
              "\n",
              "  .colab-df-spinner {\n",
              "    border: 2px solid var(--fill-color);\n",
              "    border-color: transparent;\n",
              "    border-bottom-color: var(--fill-color);\n",
              "    animation:\n",
              "      spin 1s steps(1) infinite;\n",
              "  }\n",
              "\n",
              "  @keyframes spin {\n",
              "    0% {\n",
              "      border-color: transparent;\n",
              "      border-bottom-color: var(--fill-color);\n",
              "      border-left-color: var(--fill-color);\n",
              "    }\n",
              "    20% {\n",
              "      border-color: transparent;\n",
              "      border-left-color: var(--fill-color);\n",
              "      border-top-color: var(--fill-color);\n",
              "    }\n",
              "    30% {\n",
              "      border-color: transparent;\n",
              "      border-left-color: var(--fill-color);\n",
              "      border-top-color: var(--fill-color);\n",
              "      border-right-color: var(--fill-color);\n",
              "    }\n",
              "    40% {\n",
              "      border-color: transparent;\n",
              "      border-right-color: var(--fill-color);\n",
              "      border-top-color: var(--fill-color);\n",
              "    }\n",
              "    60% {\n",
              "      border-color: transparent;\n",
              "      border-right-color: var(--fill-color);\n",
              "    }\n",
              "    80% {\n",
              "      border-color: transparent;\n",
              "      border-right-color: var(--fill-color);\n",
              "      border-bottom-color: var(--fill-color);\n",
              "    }\n",
              "    90% {\n",
              "      border-color: transparent;\n",
              "      border-bottom-color: var(--fill-color);\n",
              "    }\n",
              "  }\n",
              "</style>\n",
              "\n",
              "  <script>\n",
              "    async function quickchart(key) {\n",
              "      const quickchartButtonEl =\n",
              "        document.querySelector('#' + key + ' button');\n",
              "      quickchartButtonEl.disabled = true;  // To prevent multiple clicks.\n",
              "      quickchartButtonEl.classList.add('colab-df-spinner');\n",
              "      try {\n",
              "        const charts = await google.colab.kernel.invokeFunction(\n",
              "            'suggestCharts', [key], {});\n",
              "      } catch (error) {\n",
              "        console.error('Error during call to suggestCharts:', error);\n",
              "      }\n",
              "      quickchartButtonEl.classList.remove('colab-df-spinner');\n",
              "      quickchartButtonEl.classList.add('colab-df-quickchart-complete');\n",
              "    }\n",
              "    (() => {\n",
              "      let quickchartButtonEl =\n",
              "        document.querySelector('#df-d68f8990-944b-4cda-83e7-858a0ba121e3 button');\n",
              "      quickchartButtonEl.style.display =\n",
              "        google.colab.kernel.accessAllowed ? 'block' : 'none';\n",
              "    })();\n",
              "  </script>\n",
              "</div>\n",
              "\n",
              "    </div>\n",
              "  </div>\n"
            ],
            "application/vnd.google.colaboratory.intrinsic+json": {
              "type": "dataframe",
              "summary": "{\n  \"name\": \"df\",\n  \"rows\": 8,\n  \"fields\": [\n    {\n      \"column\": \"age\",\n      \"properties\": {\n        \"dtype\": \"number\",\n        \"std\": 14127.8047927601,\n        \"min\": 9.64177550743954,\n        \"max\": 40000.0,\n        \"num_unique_values\": 8,\n        \"samples\": [\n          40.5446,\n          39.0,\n          40000.0\n        ],\n        \"semantic_type\": \"\",\n        \"description\": \"\"\n      }\n    },\n    {\n      \"column\": \"balance\",\n      \"properties\": {\n        \"dtype\": \"number\",\n        \"std\": 37136.58242269012,\n        \"min\": -8019.0,\n        \"max\": 102127.0,\n        \"num_unique_values\": 8,\n        \"samples\": [\n          1274.27755,\n          407.0,\n          40000.0\n        ],\n        \"semantic_type\": \"\",\n        \"description\": \"\"\n      }\n    },\n    {\n      \"column\": \"last_contacted_day\",\n      \"properties\": {\n        \"dtype\": \"number\",\n        \"std\": 14136.971889914188,\n        \"min\": 1.0,\n        \"max\": 40000.0,\n        \"num_unique_values\": 8,\n        \"samples\": [\n          16.017225,\n          17.0,\n          40000.0\n        ],\n        \"semantic_type\": \"\",\n        \"description\": \"\"\n      }\n    },\n    {\n      \"column\": \"contact_duration\",\n      \"properties\": {\n        \"dtype\": \"number\",\n        \"std\": 13937.23317114037,\n        \"min\": 0.0,\n        \"max\": 40000.0,\n        \"num_unique_values\": 8,\n        \"samples\": [\n          254.8243,\n          175.0,\n          40000.0\n        ],\n        \"semantic_type\": \"\",\n        \"description\": \"\"\n      }\n    },\n    {\n      \"column\": \"number_of_contacts_in_campaign\",\n      \"properties\": {\n        \"dtype\": \"number\",\n        \"std\": 14138.306961829148,\n        \"min\": 1.0,\n        \"max\": 40000.0,\n        \"num_unique_values\": 7,\n        \"samples\": [\n          40000.0,\n          2.882175,\n          3.0\n        ],\n        \"semantic_type\": \"\",\n        \"description\": \"\"\n      }\n    }\n  ]\n}"
            }
          },
          "metadata": {},
          "execution_count": 9
        }
      ],
      "source": [
        "df.describe()"
      ]
    },
    {
      "cell_type": "code",
      "execution_count": 10,
      "metadata": {
        "id": "WD-1zyTj6qw3",
        "colab": {
          "base_uri": "https://localhost:8080/"
        },
        "outputId": "c6b4a8e5-d713-44ab-8552-0badee0682e2"
      },
      "outputs": [
        {
          "output_type": "stream",
          "name": "stdout",
          "text": [
            "<class 'pandas.core.frame.DataFrame'>\n",
            "RangeIndex: 40000 entries, 0 to 39999\n",
            "Data columns (total 14 columns):\n",
            " #   Column                          Non-Null Count  Dtype \n",
            "---  ------                          --------------  ----- \n",
            " 0   age                             40000 non-null  int64 \n",
            " 1   job                             40000 non-null  object\n",
            " 2   marital                         40000 non-null  object\n",
            " 3   education                       40000 non-null  object\n",
            " 4   has_credit_default              40000 non-null  object\n",
            " 5   balance                         40000 non-null  int64 \n",
            " 6   housing_loan?                   40000 non-null  object\n",
            " 7   personal_loan                   40000 non-null  object\n",
            " 8   communication_type              40000 non-null  object\n",
            " 9   last_contacted_day              40000 non-null  int64 \n",
            " 10  last_contacted_month            40000 non-null  object\n",
            " 11  contact_duration                40000 non-null  int64 \n",
            " 12  number_of_contacts_in_campaign  40000 non-null  int64 \n",
            " 13  client_subscribed?              40000 non-null  object\n",
            "dtypes: int64(5), object(9)\n",
            "memory usage: 4.3+ MB\n"
          ]
        }
      ],
      "source": [
        "df.info()"
      ]
    },
    {
      "cell_type": "markdown",
      "metadata": {
        "id": "oTRc90ZCDNxP"
      },
      "source": [
        "Comments:\n",
        "\n",
        "\n",
        "\n",
        "*   There are no null items in the dataset so it is sufficiently clean\n",
        "*   It seems out of 40,000 customers, nearly all (37,104) have not subscribed so a lot of this data is concerning those who are not current subscribers.\n",
        "*   The age group of these customers is around 40 years old yet the dataset contains fairly balanced amount of married & unmarried and those with a housing loan and those with not.\n",
        "*   Average contact duration lasted for around 254 seconds which is approximately 4 minutes.\n",
        "\n"
      ]
    },
    {
      "cell_type": "markdown",
      "metadata": {
        "id": "qmYauNo6fmO7"
      },
      "source": [
        "### Exploratory Data Analysis"
      ]
    },
    {
      "cell_type": "code",
      "execution_count": 11,
      "metadata": {
        "id": "2M6AkfF5ClV5",
        "colab": {
          "base_uri": "https://localhost:8080/",
          "height": 613
        },
        "outputId": "c5bbbc20-fba8-4c24-c6b3-ef9ab0aaa59b"
      },
      "outputs": [
        {
          "output_type": "display_data",
          "data": {
            "text/plain": [
              "<Figure size 600x400 with 2 Axes>"
            ],
            "image/png": "[encoded data removed]"
          },
          "metadata": {}
        }
      ],
      "source": [
        "# Selecting only the numerical columns for correlation plot\n",
        "numerical_cols = df.select_dtypes(include=['int64', 'float64'])\n",
        "\n",
        "# Plotting the correlation matrix\n",
        "plt.figure(figsize=(6, 4))\n",
        "sns.heatmap(numerical_cols.corr(), annot=True, cmap='coolwarm', fmt='.2f')\n",
        "plt.title('Correlation Matrix for Numerical Columns')\n",
        "plt.show()"
      ]
    },
    {
      "cell_type": "markdown",
      "metadata": {
        "id": "eg_iVjp-Gp8_"
      },
      "source": [
        "No correlations between any numerial columns such as their age & average yearly balance or contact duration and and number of contacts, there is a slight negative correlation which demonstrates that with the duration of contact reduces after each contact which makes logical sense as there are less queries and information being provided in subsequent calls & more being like follow-ups"
      ]
    },
    {
      "cell_type": "code",
      "execution_count": 12,
      "metadata": {
        "id": "oQbkVe8gJ0mx",
        "colab": {
          "base_uri": "https://localhost:8080/",
          "height": 579
        },
        "outputId": "8226c5c9-92a8-44ce-9934-c84055d285b2"
      },
      "outputs": [
        {
          "output_type": "execute_result",
          "data": {
            "text/plain": [
              "Text(0.5, 1.0, 'Client Subscribed vs Not Subscribed by Job Type')"
            ]
          },
          "metadata": {},
          "execution_count": 12
        },
        {
          "output_type": "display_data",
          "data": {
            "text/plain": [
              "<Figure size 1000x600 with 1 Axes>"
            ],
            "image/png": "[encoded data removed]"
          },
          "metadata": {}
        }
      ],
      "source": [
        "plt.figure(figsize=(10, 6))\n",
        "sns.countplot(x='client_subscribed?', hue='job', data=df)\n",
        "plt.title('Client Subscribed vs Not Subscribed by Job Type', fontsize=10)"
      ]
    },
    {
      "cell_type": "markdown",
      "metadata": {
        "id": "aUdjbRijKXk4"
      },
      "source": [
        "Comments & Insights:\n",
        "\n",
        "By focusing on the those clients that subscribed, we see that those in management level position, technicians, and those with blue-collar jobs make the highest percentage of subscribers.\n",
        "\n",
        "These also make up the highest percentage of those who did not subscribe, but the blue collar jobs make up the highest who did not subscribe but not the highest in the category of subscribers.\n",
        "\n",
        "But based on the numbers, **management, techician and blue-collar** jobs make the highest percentage of subscribers. These should be go to without any ML and model training etc."
      ]
    },
    {
      "cell_type": "code",
      "execution_count": 13,
      "metadata": {
        "id": "80lFRyPqKWpL",
        "colab": {
          "base_uri": "https://localhost:8080/",
          "height": 425
        },
        "outputId": "52f72ede-dc67-4cfc-8b63-f7950c22bcf0"
      },
      "outputs": [
        {
          "output_type": "execute_result",
          "data": {
            "text/plain": [
              "Text(0.5, 1.0, 'Client Subscribed vs Not Subscribed by Job Type')"
            ]
          },
          "metadata": {},
          "execution_count": 13
        },
        {
          "output_type": "display_data",
          "data": {
            "text/plain": [
              "<Figure size 400x400 with 1 Axes>"
            ],
            "image/png": "[encoded data removed]"
          },
          "metadata": {}
        }
      ],
      "source": [
        "plt.figure(figsize=(4, 4))\n",
        "sns.countplot(x='client_subscribed?', hue='communication_type', data=df)\n",
        "plt.title('Client Subscribed vs Not Subscribed by Job Type', fontsize=10)"
      ]
    },
    {
      "cell_type": "markdown",
      "metadata": {
        "id": "pnNhGs7PcC8d"
      },
      "source": [
        "Comments:\n",
        "\n",
        "\n",
        "\n",
        "*   The dataset is fairly imblanaced for customers who subscribed & didn't\n",
        "so to train a ML model would result in a biased model, hence we require utliizing under or oversampling techniques e.g., SMOTE, ADASYN etc.\n",
        "\n"
      ]
    },
    {
      "cell_type": "code",
      "execution_count": 14,
      "metadata": {
        "id": "0TeEslWLGqcX",
        "colab": {
          "base_uri": "https://localhost:8080/",
          "height": 425
        },
        "outputId": "d02a696f-90ec-4a54-d149-e4289ef5f656"
      },
      "outputs": [
        {
          "output_type": "execute_result",
          "data": {
            "text/plain": [
              "Text(0.5, 1.0, 'Client Subscribed vs Not Subscribed by Job Type')"
            ]
          },
          "metadata": {},
          "execution_count": 14
        },
        {
          "output_type": "display_data",
          "data": {
            "text/plain": [
              "<Figure size 400x400 with 1 Axes>"
            ],
            "image/png": "[encoded data removed]"
          },
          "metadata": {}
        }
      ],
      "source": [
        "plt.figure(figsize=(4, 4))\n",
        "sns.countplot(x='client_subscribed?', hue='education', data=df)\n",
        "plt.title('Client Subscribed vs Not Subscribed by Job Type', fontsize=10)"
      ]
    },
    {
      "cell_type": "markdown",
      "metadata": {
        "id": "2aJsQc9lMFCY"
      },
      "source": [
        "This suggests that those with tertiary & secondary education levels outnumber other categories that have subscribed so would be our key focus, secondary would most probably be technicians which we saw earlier making a high percentage of those who subscribed due to stable income."
      ]
    },
    {
      "cell_type": "code",
      "source": [
        "# Filter for people with secondary education\n",
        "secondary_education_df = df[df['education'] == 'secondary']\n",
        "\n",
        "# Group by job and count the occurrences, then find the job with the highest count\n",
        "majority_job = secondary_education_df['job'].value_counts()\n",
        "\n",
        "print(majority_job)"
      ],
      "metadata": {
        "colab": {
          "base_uri": "https://localhost:8080/"
        },
        "id": "QKWpmQV6Z_SG",
        "outputId": "f9f955be-8f3f-4739-a9b2-55f141e99a9c"
      },
      "execution_count": 15,
      "outputs": [
        {
          "output_type": "stream",
          "name": "stdout",
          "text": [
            "job\n",
            "blue-collar      5144\n",
            "technician       4788\n",
            "admin            3723\n",
            "services         3269\n",
            "management       1037\n",
            "retired           664\n",
            "unemployed        622\n",
            "self-employed     552\n",
            "entrepreneur      507\n",
            "housemaid         345\n",
            "student           282\n",
            "unknown            60\n",
            "Name: count, dtype: int64\n"
          ]
        }
      ]
    },
    {
      "cell_type": "markdown",
      "source": [
        "Indeed we see technicians do make a large percentage of those who have secondary education!"
      ],
      "metadata": {
        "id": "OvfhBwLIaWmS"
      }
    },
    {
      "cell_type": "code",
      "execution_count": 16,
      "metadata": {
        "id": "MpJW1JeGNeZq",
        "colab": {
          "base_uri": "https://localhost:8080/",
          "height": 1000
        },
        "outputId": "ae6999e1-46cc-4634-f740-1d9c9830e6ca"
      },
      "outputs": [
        {
          "output_type": "display_data",
          "data": {
            "text/plain": [
              "<Figure size 1500x1000 with 7 Axes>"
            ],
            "image/png": "[encoded data removed]"
          },
          "metadata": {}
        }
      ],
      "source": [
        "# Selecting only the numerical columns for correlation plot\n",
        "categorical_cols = df.select_dtypes(include=['object'])\n",
        "categorical_cols = categorical_cols.drop(columns=['job', 'client_subscribed?'])  # Exclude 'job' column\n",
        "\n",
        "# Plotting the distribution of the categorical columns using bar charts\n",
        "plt.figure(figsize=(15, 10))\n",
        "\n",
        "# Loop through each categorical column and create bar charts\n",
        "for i, column in enumerate(categorical_cols.columns, 1):\n",
        "    plt.subplot(3, 3, i)\n",
        "    sns.countplot(y=df[column], hue=df['client_subscribed?'], palette='coolwarm')\n",
        "    plt.title(f'Distribution of {column} with Client Subscription')\n",
        "    plt.tight_layout()\n",
        "\n",
        "plt.show()"
      ]
    },
    {
      "cell_type": "markdown",
      "metadata": {
        "id": "1zLOUwdAS_th"
      },
      "source": [
        "Comments & Insights:\n",
        "\n",
        "\n",
        "\n",
        "1.   Those who do not have previous personal loans make a higher percentage of those who have subscribed, hence targeting these would be the way to go.\n",
        "2.   Those customers who have not defaulted previously on their credits or loans before make a higher percentage / share of those who have subsribed to term deposits (~ 2500) (red category) so these could be the ones to target for calling. **These will be more likely to subscribe than people who have  defaulted before and perhaps cannot afford this or do not want to risk again defaulting on their credits.**\n",
        "3.   In the month of May, it seems it has generated the most amount of subscribers which could be due to some seasonality of prices or other external factors but an interesting find, this could be due to lower interest rates during that month or summer promotions etc.\n",
        "4.   The most effective method of contacting based on the data above is through cellular or mobile phones, so best to avoid landline numbers etc. Unknown could have included methods like email or in-person events but unfortunately there is no way of knowing this.\n",
        "\n"
      ]
    },
    {
      "cell_type": "markdown",
      "metadata": {
        "id": "MWm9vZjfhm5l"
      },
      "source": [
        "### 1st Layer: Pre-Campaign Customer Selection (Classification)"
      ]
    },
    {
      "cell_type": "markdown",
      "metadata": {
        "id": "oxMY8MG8dK1m"
      },
      "source": [
        "Feature Engineering / Train-Test Split\n",
        "\n",
        "\n",
        "\n",
        "*   Firstly, since we are not using campaign related data, we require dropping the campaign related data, so we will drop the following columns from our data for training our first ML model:\n",
        "          1. communication_type\n",
        "          2. last_contacted_day  \n",
        "          3. last_contacted_month\n",
        "          4. contact_duration   \n",
        "          5. number_of_contacts_in_campaign  \n",
        "*    Then, we will perform One-hot-Encoding to convert categorial data into numerial format as ML models require numerical inputs & we will set drop_first as true to avoid multi-collinearity.\n",
        "*    Lastly, we will split the data into train & test and use LazyClassifier to pick the best initial performing model for this random seed.\n",
        "\n"
      ]
    },
    {
      "cell_type": "code",
      "execution_count": 17,
      "metadata": {
        "id": "WQVEX14ngOaB",
        "colab": {
          "base_uri": "https://localhost:8080/"
        },
        "outputId": "3a1ba821-443f-4b58-a9bd-d32c84e923ab"
      },
      "outputs": [
        {
          "output_type": "stream",
          "name": "stdout",
          "text": [
            "<class 'pandas.core.frame.DataFrame'>\n",
            "RangeIndex: 40000 entries, 0 to 39999\n",
            "Data columns (total 14 columns):\n",
            " #   Column                          Non-Null Count  Dtype \n",
            "---  ------                          --------------  ----- \n",
            " 0   age                             40000 non-null  int64 \n",
            " 1   job                             40000 non-null  object\n",
            " 2   marital                         40000 non-null  object\n",
            " 3   education                       40000 non-null  object\n",
            " 4   has_credit_default              40000 non-null  object\n",
            " 5   balance                         40000 non-null  int64 \n",
            " 6   housing_loan?                   40000 non-null  object\n",
            " 7   personal_loan                   40000 non-null  object\n",
            " 8   communication_type              40000 non-null  object\n",
            " 9   last_contacted_day              40000 non-null  int64 \n",
            " 10  last_contacted_month            40000 non-null  object\n",
            " 11  contact_duration                40000 non-null  int64 \n",
            " 12  number_of_contacts_in_campaign  40000 non-null  int64 \n",
            " 13  client_subscribed?              40000 non-null  object\n",
            "dtypes: int64(5), object(9)\n",
            "memory usage: 4.3+ MB\n"
          ]
        }
      ],
      "source": [
        "df.info()"
      ]
    },
    {
      "cell_type": "code",
      "execution_count": 18,
      "metadata": {
        "id": "1c0R5MGwgEgd"
      },
      "outputs": [],
      "source": [
        "first_layer_df = df.drop(columns=['communication_type', 'last_contacted_day', 'last_contacted_month', 'contact_duration', 'number_of_contacts_in_campaign'])\n",
        "first_layer_df_encoded = pd.get_dummies(first_layer_df, columns=['has_credit_default', 'job', 'marital', 'education', 'housing_loan?', 'personal_loan'], drop_first=True)  # drop_first removes one category to avoid multicollinearity\n"
      ]
    },
    {
      "cell_type": "code",
      "execution_count": 19,
      "metadata": {
        "id": "E42z7bubAQLu",
        "colab": {
          "base_uri": "https://localhost:8080/",
          "height": 273
        },
        "outputId": "d0829600-796b-43c6-f433-bb075fd502f7"
      },
      "outputs": [
        {
          "output_type": "execute_result",
          "data": {
            "text/plain": [
              "   age  balance client_subscribed?  has_credit_default_yes  job_blue-collar  \\\n",
              "0   58     2143                 no                   False            False   \n",
              "1   44       29                 no                   False            False   \n",
              "2   33        2                 no                   False            False   \n",
              "3   47     1506                 no                   False             True   \n",
              "4   33        1                 no                   False            False   \n",
              "\n",
              "   job_entrepreneur  job_housemaid  job_management  job_retired  \\\n",
              "0             False          False            True        False   \n",
              "1             False          False           False        False   \n",
              "2              True          False           False        False   \n",
              "3             False          False           False        False   \n",
              "4             False          False           False        False   \n",
              "\n",
              "   job_self-employed  ...  job_technician  job_unemployed  job_unknown  \\\n",
              "0              False  ...           False           False        False   \n",
              "1              False  ...            True           False        False   \n",
              "2              False  ...           False           False        False   \n",
              "3              False  ...           False           False        False   \n",
              "4              False  ...           False           False         True   \n",
              "\n",
              "   marital_married  marital_single  education_secondary  education_tertiary  \\\n",
              "0             True           False                False                True   \n",
              "1            False            True                 True               False   \n",
              "2             True           False                 True               False   \n",
              "3             True           False                False               False   \n",
              "4            False            True                False               False   \n",
              "\n",
              "   education_unknown  housing_loan?_yes  personal_loan_yes  \n",
              "0              False               True              False  \n",
              "1              False               True              False  \n",
              "2              False               True               True  \n",
              "3               True               True              False  \n",
              "4               True              False              False  \n",
              "\n",
              "[5 rows x 22 columns]"
            ],
            "text/html": [
              "\n",
              "  <div id=\"df-8bab1e14-bc7f-4ea5-bb87-5b3b2fdcc679\" class=\"colab-df-container\">\n",
              "    <div>\n",
              "<style scoped>\n",
              "    .dataframe tbody tr th:only-of-type {\n",
              "        vertical-align: middle;\n",
              "    }\n",
              "\n",
              "    .dataframe tbody tr th {\n",
              "        vertical-align: top;\n",
              "    }\n",
              "\n",
              "    .dataframe thead th {\n",
              "        text-align: right;\n",
              "    }\n",
              "</style>\n",
              "<table border=\"1\" class=\"dataframe\">\n",
              "  <thead>\n",
              "    <tr style=\"text-align: right;\">\n",
              "      <th></th>\n",
              "      <th>age</th>\n",
              "      <th>balance</th>\n",
              "      <th>client_subscribed?</th>\n",
              "      <th>has_credit_default_yes</th>\n",
              "      <th>job_blue-collar</th>\n",
              "      <th>job_entrepreneur</th>\n",
              "      <th>job_housemaid</th>\n",
              "      <th>job_management</th>\n",
              "      <th>job_retired</th>\n",
              "      <th>job_self-employed</th>\n",
              "      <th>...</th>\n",
              "      <th>job_technician</th>\n",
              "      <th>job_unemployed</th>\n",
              "      <th>job_unknown</th>\n",
              "      <th>marital_married</th>\n",
              "      <th>marital_single</th>\n",
              "      <th>education_secondary</th>\n",
              "      <th>education_tertiary</th>\n",
              "      <th>education_unknown</th>\n",
              "      <th>housing_loan?_yes</th>\n",
              "      <th>personal_loan_yes</th>\n",
              "    </tr>\n",
              "  </thead>\n",
              "  <tbody>\n",
              "    <tr>\n",
              "      <th>0</th>\n",
              "      <td>58</td>\n",
              "      <td>2143</td>\n",
              "      <td>no</td>\n",
              "      <td>False</td>\n",
              "      <td>False</td>\n",
              "      <td>False</td>\n",
              "      <td>False</td>\n",
              "      <td>True</td>\n",
              "      <td>False</td>\n",
              "      <td>False</td>\n",
              "      <td>...</td>\n",
              "      <td>False</td>\n",
              "      <td>False</td>\n",
              "      <td>False</td>\n",
              "      <td>True</td>\n",
              "      <td>False</td>\n",
              "      <td>False</td>\n",
              "      <td>True</td>\n",
              "      <td>False</td>\n",
              "      <td>True</td>\n",
              "      <td>False</td>\n",
              "    </tr>\n",
              "    <tr>\n",
              "      <th>1</th>\n",
              "      <td>44</td>\n",
              "      <td>29</td>\n",
              "      <td>no</td>\n",
              "      <td>False</td>\n",
              "      <td>False</td>\n",
              "      <td>False</td>\n",
              "      <td>False</td>\n",
              "      <td>False</td>\n",
              "      <td>False</td>\n",
              "      <td>False</td>\n",
              "      <td>...</td>\n",
              "      <td>True</td>\n",
              "      <td>False</td>\n",
              "      <td>False</td>\n",
              "      <td>False</td>\n",
              "      <td>True</td>\n",
              "      <td>True</td>\n",
              "      <td>False</td>\n",
              "      <td>False</td>\n",
              "      <td>True</td>\n",
              "      <td>False</td>\n",
              "    </tr>\n",
              "    <tr>\n",
              "      <th>2</th>\n",
              "      <td>33</td>\n",
              "      <td>2</td>\n",
              "      <td>no</td>\n",
              "      <td>False</td>\n",
              "      <td>False</td>\n",
              "      <td>True</td>\n",
              "      <td>False</td>\n",
              "      <td>False</td>\n",
              "      <td>False</td>\n",
              "      <td>False</td>\n",
              "      <td>...</td>\n",
              "      <td>False</td>\n",
              "      <td>False</td>\n",
              "      <td>False</td>\n",
              "      <td>True</td>\n",
              "      <td>False</td>\n",
              "      <td>True</td>\n",
              "      <td>False</td>\n",
              "      <td>False</td>\n",
              "      <td>True</td>\n",
              "      <td>True</td>\n",
              "    </tr>\n",
              "    <tr>\n",
              "      <th>3</th>\n",
              "      <td>47</td>\n",
              "      <td>1506</td>\n",
              "      <td>no</td>\n",
              "      <td>False</td>\n",
              "      <td>True</td>\n",
              "      <td>False</td>\n",
              "      <td>False</td>\n",
              "      <td>False</td>\n",
              "      <td>False</td>\n",
              "      <td>False</td>\n",
              "      <td>...</td>\n",
              "      <td>False</td>\n",
              "      <td>False</td>\n",
              "      <td>False</td>\n",
              "      <td>True</td>\n",
              "      <td>False</td>\n",
              "      <td>False</td>\n",
              "      <td>False</td>\n",
              "      <td>True</td>\n",
              "      <td>True</td>\n",
              "      <td>False</td>\n",
              "    </tr>\n",
              "    <tr>\n",
              "      <th>4</th>\n",
              "      <td>33</td>\n",
              "      <td>1</td>\n",
              "      <td>no</td>\n",
              "      <td>False</td>\n",
              "      <td>False</td>\n",
              "      <td>False</td>\n",
              "      <td>False</td>\n",
              "      <td>False</td>\n",
              "      <td>False</td>\n",
              "      <td>False</td>\n",
              "      <td>...</td>\n",
              "      <td>False</td>\n",
              "      <td>False</td>\n",
              "      <td>True</td>\n",
              "      <td>False</td>\n",
              "      <td>True</td>\n",
              "      <td>False</td>\n",
              "      <td>False</td>\n",
              "      <td>True</td>\n",
              "      <td>False</td>\n",
              "      <td>False</td>\n",
              "    </tr>\n",
              "  </tbody>\n",
              "</table>\n",
              "<p>5 rows × 22 columns</p>\n",
              "</div>\n",
              "    <div class=\"colab-df-buttons\">\n",
              "\n",
              "  <div class=\"colab-df-container\">\n",
              "    <button class=\"colab-df-convert\" onclick=\"convertToInteractive('df-8bab1e14-bc7f-4ea5-bb87-5b3b2fdcc679')\"\n",
              "            title=\"Convert this dataframe to an interactive table.\"\n",
              "            style=\"display:none;\">\n",
              "\n",
              "  <svg xmlns=\"http://www.w3.org/2000/svg\" height=\"24px\" viewBox=\"0 -960 960 960\">\n",
              "    <path d=\"M120-120v-720h720v720H120Zm60-500h600v-160H180v160Zm220 220h160v-160H400v160Zm0 220h160v-160H400v160ZM180-400h160v-160H180v160Zm440 0h160v-160H620v160ZM180-180h160v-160H180v160Zm440 0h160v-160H620v160Z\"/>\n",
              "  </svg>\n",
              "    </button>\n",
              "\n",
              "  <style>\n",
              "    .colab-df-container {\n",
              "      display:flex;\n",
              "      gap: 12px;\n",
              "    }\n",
              "\n",
              "    .colab-df-convert {\n",
              "      background-color: #E8F0FE;\n",
              "      border: none;\n",
              "      border-radius: 50%;\n",
              "      cursor: pointer;\n",
              "      display: none;\n",
              "      fill: #1967D2;\n",
              "      height: 32px;\n",
              "      padding: 0 0 0 0;\n",
              "      width: 32px;\n",
              "    }\n",
              "\n",
              "    .colab-df-convert:hover {\n",
              "      background-color: #E2EBFA;\n",
              "      box-shadow: 0px 1px 2px rgba(60, 64, 67, 0.3), 0px 1px 3px 1px rgba(60, 64, 67, 0.15);\n",
              "      fill: #174EA6;\n",
              "    }\n",
              "\n",
              "    .colab-df-buttons div {\n",
              "      margin-bottom: 4px;\n",
              "    }\n",
              "\n",
              "    [theme=dark] .colab-df-convert {\n",
              "      background-color: #3B4455;\n",
              "      fill: #D2E3FC;\n",
              "    }\n",
              "\n",
              "    [theme=dark] .colab-df-convert:hover {\n",
              "      background-color: #434B5C;\n",
              "      box-shadow: 0px 1px 3px 1px rgba(0, 0, 0, 0.15);\n",
              "      filter: drop-shadow(0px 1px 2px rgba(0, 0, 0, 0.3));\n",
              "      fill: #FFFFFF;\n",
              "    }\n",
              "  </style>\n",
              "\n",
              "    <script>\n",
              "      const buttonEl =\n",
              "        document.querySelector('#df-8bab1e14-bc7f-4ea5-bb87-5b3b2fdcc679 button.colab-df-convert');\n",
              "      buttonEl.style.display =\n",
              "        google.colab.kernel.accessAllowed ? 'block' : 'none';\n",
              "\n",
              "      async function convertToInteractive(key) {\n",
              "        const element = document.querySelector('#df-8bab1e14-bc7f-4ea5-bb87-5b3b2fdcc679');\n",
              "        const dataTable =\n",
              "          await google.colab.kernel.invokeFunction('convertToInteractive',\n",
              "                                                    [key], {});\n",
              "        if (!dataTable) return;\n",
              "\n",
              "        const docLinkHtml = 'Like what you see? Visit the ' +\n",
              "          '<a target=\"_blank\" href=https://colab.research.google.com/notebooks/data_table.ipynb>data table notebook</a>'\n",
              "          + ' to learn more about interactive tables.';\n",
              "        element.innerHTML = '';\n",
              "        dataTable['output_type'] = 'display_data';\n",
              "        await google.colab.output.renderOutput(dataTable, element);\n",
              "        const docLink = document.createElement('div');\n",
              "        docLink.innerHTML = docLinkHtml;\n",
              "        element.appendChild(docLink);\n",
              "      }\n",
              "    </script>\n",
              "  </div>\n",
              "\n",
              "\n",
              "<div id=\"df-b4ba0fe6-9649-46f5-8b34-3adb16800183\">\n",
              "  <button class=\"colab-df-quickchart\" onclick=\"quickchart('df-b4ba0fe6-9649-46f5-8b34-3adb16800183')\"\n",
              "            title=\"Suggest charts\"\n",
              "            style=\"display:none;\">\n",
              "\n",
              "<svg xmlns=\"http://www.w3.org/2000/svg\" height=\"24px\"viewBox=\"0 0 24 24\"\n",
              "     width=\"24px\">\n",
              "    <g>\n",
              "        <path d=\"M19 3H5c-1.1 0-2 .9-2 2v14c0 1.1.9 2 2 2h14c1.1 0 2-.9 2-2V5c0-1.1-.9-2-2-2zM9 17H7v-7h2v7zm4 0h-2V7h2v10zm4 0h-2v-4h2v4z\"/>\n",
              "    </g>\n",
              "</svg>\n",
              "  </button>\n",
              "\n",
              "<style>\n",
              "  .colab-df-quickchart {\n",
              "      --bg-color: #E8F0FE;\n",
              "      --fill-color: #1967D2;\n",
              "      --hover-bg-color: #E2EBFA;\n",
              "      --hover-fill-color: #174EA6;\n",
              "      --disabled-fill-color: #AAA;\n",
              "      --disabled-bg-color: #DDD;\n",
              "  }\n",
              "\n",
              "  [theme=dark] .colab-df-quickchart {\n",
              "      --bg-color: #3B4455;\n",
              "      --fill-color: #D2E3FC;\n",
              "      --hover-bg-color: #434B5C;\n",
              "      --hover-fill-color: #FFFFFF;\n",
              "      --disabled-bg-color: #3B4455;\n",
              "      --disabled-fill-color: #666;\n",
              "  }\n",
              "\n",
              "  .colab-df-quickchart {\n",
              "    background-color: var(--bg-color);\n",
              "    border: none;\n",
              "    border-radius: 50%;\n",
              "    cursor: pointer;\n",
              "    display: none;\n",
              "    fill: var(--fill-color);\n",
              "    height: 32px;\n",
              "    padding: 0;\n",
              "    width: 32px;\n",
              "  }\n",
              "\n",
              "  .colab-df-quickchart:hover {\n",
              "    background-color: var(--hover-bg-color);\n",
              "    box-shadow: 0 1px 2px rgba(60, 64, 67, 0.3), 0 1px 3px 1px rgba(60, 64, 67, 0.15);\n",
              "    fill: var(--button-hover-fill-color);\n",
              "  }\n",
              "\n",
              "  .colab-df-quickchart-complete:disabled,\n",
              "  .colab-df-quickchart-complete:disabled:hover {\n",
              "    background-color: var(--disabled-bg-color);\n",
              "    fill: var(--disabled-fill-color);\n",
              "    box-shadow: none;\n",
              "  }\n",
              "\n",
              "  .colab-df-spinner {\n",
              "    border: 2px solid var(--fill-color);\n",
              "    border-color: transparent;\n",
              "    border-bottom-color: var(--fill-color);\n",
              "    animation:\n",
              "      spin 1s steps(1) infinite;\n",
              "  }\n",
              "\n",
              "  @keyframes spin {\n",
              "    0% {\n",
              "      border-color: transparent;\n",
              "      border-bottom-color: var(--fill-color);\n",
              "      border-left-color: var(--fill-color);\n",
              "    }\n",
              "    20% {\n",
              "      border-color: transparent;\n",
              "      border-left-color: var(--fill-color);\n",
              "      border-top-color: var(--fill-color);\n",
              "    }\n",
              "    30% {\n",
              "      border-color: transparent;\n",
              "      border-left-color: var(--fill-color);\n",
              "      border-top-color: var(--fill-color);\n",
              "      border-right-color: var(--fill-color);\n",
              "    }\n",
              "    40% {\n",
              "      border-color: transparent;\n",
              "      border-right-color: var(--fill-color);\n",
              "      border-top-color: var(--fill-color);\n",
              "    }\n",
              "    60% {\n",
              "      border-color: transparent;\n",
              "      border-right-color: var(--fill-color);\n",
              "    }\n",
              "    80% {\n",
              "      border-color: transparent;\n",
              "      border-right-color: var(--fill-color);\n",
              "      border-bottom-color: var(--fill-color);\n",
              "    }\n",
              "    90% {\n",
              "      border-color: transparent;\n",
              "      border-bottom-color: var(--fill-color);\n",
              "    }\n",
              "  }\n",
              "</style>\n",
              "\n",
              "  <script>\n",
              "    async function quickchart(key) {\n",
              "      const quickchartButtonEl =\n",
              "        document.querySelector('#' + key + ' button');\n",
              "      quickchartButtonEl.disabled = true;  // To prevent multiple clicks.\n",
              "      quickchartButtonEl.classList.add('colab-df-spinner');\n",
              "      try {\n",
              "        const charts = await google.colab.kernel.invokeFunction(\n",
              "            'suggestCharts', [key], {});\n",
              "      } catch (error) {\n",
              "        console.error('Error during call to suggestCharts:', error);\n",
              "      }\n",
              "      quickchartButtonEl.classList.remove('colab-df-spinner');\n",
              "      quickchartButtonEl.classList.add('colab-df-quickchart-complete');\n",
              "    }\n",
              "    (() => {\n",
              "      let quickchartButtonEl =\n",
              "        document.querySelector('#df-b4ba0fe6-9649-46f5-8b34-3adb16800183 button');\n",
              "      quickchartButtonEl.style.display =\n",
              "        google.colab.kernel.accessAllowed ? 'block' : 'none';\n",
              "    })();\n",
              "  </script>\n",
              "</div>\n",
              "\n",
              "    </div>\n",
              "  </div>\n"
            ],
            "application/vnd.google.colaboratory.intrinsic+json": {
              "type": "dataframe",
              "variable_name": "first_layer_df_encoded"
            }
          },
          "metadata": {},
          "execution_count": 19
        }
      ],
      "source": [
        "first_layer_df_encoded.head()"
      ]
    },
    {
      "cell_type": "code",
      "execution_count": 20,
      "metadata": {
        "id": "WLQdDrOQnINu",
        "colab": {
          "base_uri": "https://localhost:8080/"
        },
        "outputId": "c105cb68-c08d-421f-e36c-cc85488fd05e"
      },
      "outputs": [
        {
          "output_type": "stream",
          "name": "stdout",
          "text": [
            "Class distribution in training set after balancing:\n",
            "client_subscribed?\n",
            "yes    27821\n",
            "no     27821\n",
            "Name: count, dtype: int64\n"
          ]
        }
      ],
      "source": [
        "# Split X and y\n",
        "X = first_layer_df_encoded.drop(columns=['client_subscribed?'])\n",
        "y = first_layer_df_encoded['client_subscribed?']\n",
        "\n",
        "\n",
        "# Split the data into training and testing sets BEFORE applying SMOTE\n",
        "X_train, X_test, y_train, y_test = train_test_split(X, y, test_size=0.25, random_state=random_seed)\n",
        "\n",
        "\n",
        "# Apply SMOTE only to the training data\n",
        "smote = SMOTE(random_state=random_seed)\n",
        "X_train_balanced, y_train_balanced = smote.fit_resample(X_train, y_train)\n",
        "\n",
        "# Check the class distribution after applying SMOTE\n",
        "print(\"Class distribution in training set after balancing:\")\n",
        "print(y_train_balanced.value_counts())\n",
        "\n",
        "\n",
        "# How SMOTE (Synthetic Minority Over-sampling) works?\n",
        "# Identify Minority class, find nearest neigbors, create new synthetic sample\n",
        "# through interpolation between data point and nearest neighbor through averaging\n",
        "# their features values."
      ]
    },
    {
      "cell_type": "code",
      "execution_count": 21,
      "metadata": {
        "id": "GPNQB-bU_LGW",
        "colab": {
          "base_uri": "https://localhost:8080/"
        },
        "outputId": "6c31aa8f-1d34-4851-956d-9547cf151863"
      },
      "outputs": [
        {
          "output_type": "stream",
          "name": "stdout",
          "text": [
            "Class distribution in training set after balancing:\n",
            "client_subscribed?\n",
            "no     9283\n",
            "yes     717\n",
            "Name: count, dtype: int64\n"
          ]
        }
      ],
      "source": [
        "# Check the class distribution after applying SMOTE\n",
        "print(\"Class distribution in training set after balancing:\")\n",
        "print(y_test.value_counts())"
      ]
    },
    {
      "cell_type": "code",
      "execution_count": 22,
      "metadata": {
        "id": "_jUg-FThhKAo"
      },
      "outputs": [],
      "source": [
        "# Select a random subset (e.g., 10% of the balanced training data) for faster model exploration\n",
        "subset_percentage = 0.1\n",
        "X_train_subset, y_train_subset = X_train_balanced.sample(frac=subset_percentage, random_state=random_seed), y_train_balanced.sample(frac=subset_percentage, random_state=random_seed)"
      ]
    },
    {
      "cell_type": "code",
      "execution_count": 23,
      "metadata": {
        "id": "wV3dtEK-hKJ4",
        "colab": {
          "base_uri": "https://localhost:8080/"
        },
        "outputId": "ba9b2ecb-e9b2-444e-a4c1-b71592571f42"
      },
      "outputs": [
        {
          "output_type": "stream",
          "name": "stderr",
          "text": [
            " 87%|████████▋ | 27/31 [00:27<00:05,  1.41s/it]"
          ]
        },
        {
          "output_type": "stream",
          "name": "stdout",
          "text": [
            "[LightGBM] [Info] Number of positive: 2741, number of negative: 2823\n",
            "[LightGBM] [Info] Auto-choosing row-wise multi-threading, the overhead of testing was 0.001649 seconds.\n",
            "You can set `force_row_wise=true` to remove the overhead.\n",
            "And if memory is not enough, you can set `force_col_wise=true`.\n",
            "[LightGBM] [Info] Total Bins 363\n",
            "[LightGBM] [Info] Number of data points in the train set: 5564, number of used features: 20\n",
            "[LightGBM] [Info] [binary:BoostFromScore]: pavg=0.492631 -> initscore=-0.029477\n",
            "[LightGBM] [Info] Start training from score -0.029477\n"
          ]
        },
        {
          "output_type": "stream",
          "name": "stderr",
          "text": [
            "100%|██████████| 31/31 [00:27<00:00,  1.12it/s]"
          ]
        },
        {
          "output_type": "stream",
          "name": "stdout",
          "text": [
            "LazyPredict Model Performance:\n",
            "                               Accuracy  Balanced Accuracy ROC AUC  F1 Score  \\\n",
            "Model                                                                          \n",
            "BernoulliNB                        0.80               0.55    None      0.83   \n",
            "NearestCentroid                    0.78               0.54    None      0.82   \n",
            "BaggingClassifier                  0.83               0.54    None      0.85   \n",
            "PassiveAggressiveClassifier        0.78               0.54    None      0.82   \n",
            "RandomForestClassifier             0.83               0.54    None      0.85   \n",
            "LGBMClassifier                     0.86               0.53    None      0.86   \n",
            "DecisionTreeClassifier             0.76               0.53    None      0.81   \n",
            "LabelSpreading                     0.81               0.53    None      0.84   \n",
            "LabelPropagation                   0.81               0.53    None      0.84   \n",
            "AdaBoostClassifier                 0.82               0.52    None      0.85   \n",
            "KNeighborsClassifier               0.82               0.52    None      0.84   \n",
            "ExtraTreesClassifier               0.81               0.52    None      0.84   \n",
            "ExtraTreeClassifier                0.77               0.52    None      0.81   \n",
            "QuadraticDiscriminantAnalysis      0.43               0.51    None      0.54   \n",
            "SGDClassifier                      0.83               0.51    None      0.85   \n",
            "SVC                                0.85               0.51    None      0.86   \n",
            "GaussianNB                         0.42               0.51    None      0.54   \n",
            "CalibratedClassifierCV             0.83               0.51    None      0.85   \n",
            "LogisticRegression                 0.83               0.51    None      0.85   \n",
            "LinearSVC                          0.84               0.51    None      0.85   \n",
            "NuSVC                              0.85               0.51    None      0.86   \n",
            "RidgeClassifier                    0.84               0.51    None      0.85   \n",
            "RidgeClassifierCV                  0.84               0.51    None      0.85   \n",
            "LinearDiscriminantAnalysis         0.84               0.51    None      0.85   \n",
            "DummyClassifier                    0.93               0.50    None      0.89   \n",
            "Perceptron                         0.76               0.50    None      0.81   \n",
            "\n",
            "                               Time Taken  \n",
            "Model                                      \n",
            "BernoulliNB                          0.40  \n",
            "NearestCentroid                      0.24  \n",
            "BaggingClassifier                    0.90  \n",
            "PassiveAggressiveClassifier          0.23  \n",
            "RandomForestClassifier               1.45  \n",
            "LGBMClassifier                       0.44  \n",
            "DecisionTreeClassifier               0.21  \n",
            "LabelSpreading                       4.40  \n",
            "LabelPropagation                     5.00  \n",
            "AdaBoostClassifier                   1.77  \n",
            "KNeighborsClassifier                 1.32  \n",
            "ExtraTreesClassifier                 1.01  \n",
            "ExtraTreeClassifier                  0.18  \n",
            "QuadraticDiscriminantAnalysis        0.29  \n",
            "SGDClassifier                        0.37  \n",
            "SVC                                  3.21  \n",
            "GaussianNB                           0.16  \n",
            "CalibratedClassifierCV               0.43  \n",
            "LogisticRegression                   0.26  \n",
            "LinearSVC                            0.25  \n",
            "NuSVC                                3.26  \n",
            "RidgeClassifier                      0.37  \n",
            "RidgeClassifierCV                    0.74  \n",
            "LinearDiscriminantAnalysis           0.29  \n",
            "DummyClassifier                      0.16  \n",
            "Perceptron                           0.23  \n"
          ]
        },
        {
          "output_type": "stream",
          "name": "stderr",
          "text": [
            "\n"
          ]
        }
      ],
      "source": [
        "# Scale the features\n",
        "scaler = StandardScaler()\n",
        "X_train_scaled = scaler.fit_transform(X_train_subset)\n",
        "X_test_scaled = scaler.transform(X_test)\n",
        "\n",
        "# Use LazyPredict for initial model exploration\n",
        "clf = LazyClassifier(verbose=0, ignore_warnings=True, custom_metric=None, random_state=random_seed) # For getting quick overivew of a range of models on the dataset for justification\n",
        "models, predictions = clf.fit(X_train_scaled, X_test_scaled, y_train_subset, y_test)\n",
        "\n",
        "\n",
        "print(\"LazyPredict Model Performance:\")\n",
        "print(models)"
      ]
    },
    {
      "cell_type": "markdown",
      "metadata": {
        "id": "jptZO_BznmC5"
      },
      "source": [
        "Model Selection: We will select LGBM Classifier as it performs the best on the subset of data in terms of F1-score. Below is the implementation of the model using the full dataset after utilizing oversampling techniques."
      ]
    },
    {
      "cell_type": "code",
      "execution_count": 24,
      "metadata": {
        "id": "g2UmbdmV5sF4",
        "colab": {
          "base_uri": "https://localhost:8080/"
        },
        "outputId": "113e25da-18b3-4692-8464-056d5c715069"
      },
      "outputs": [
        {
          "output_type": "stream",
          "name": "stdout",
          "text": [
            "LGBM Classifier Accuracy: 0.8661\n",
            "\n",
            "Classification Report:\n",
            "                precision    recall  f1-score   support\n",
            "\n",
            "Not Subscribed       0.93      0.92      0.93      9283\n",
            "    Subscribed       0.12      0.14      0.13       717\n",
            "\n",
            "      accuracy                           0.87     10000\n",
            "     macro avg       0.53      0.53      0.53     10000\n",
            "  weighted avg       0.87      0.87      0.87     10000\n",
            "\n"
          ]
        }
      ],
      "source": [
        "# Function to train and evaluate a model\n",
        "def train_and_evaluate(model, X_train, X_test, y_train, y_test):\n",
        "    model.fit(X_train, y_train)\n",
        "    y_pred = model.predict(X_test)\n",
        "    accuracy = accuracy_score(y_test, y_pred)\n",
        "    return accuracy, model\n",
        "\n",
        "\n",
        "# Split the data into training and testing sets BEFORE applying SMOTE\n",
        "X_train, X_test, y_train, y_test = train_test_split(X, y, test_size=0.25, random_state=random_seed)\n",
        "\n",
        "# Apply SMOTE only to the training data\n",
        "smote = SMOTE(random_state=random_seed)\n",
        "X_train_balanced, y_train_balanced = smote.fit_resample(X_train, y_train)\n",
        "\n",
        "# Scale the features\n",
        "scaler = StandardScaler()\n",
        "X_train_scaled = scaler.fit_transform(X_train_balanced)\n",
        "X_test_scaled = scaler.transform(X_test)\n",
        "\n",
        "\n",
        "# Import necessary libraries\n",
        "from lightgbm import LGBMClassifier\n",
        "# LGBM Classifier\n",
        "lgbm_model = LGBMClassifier(random_state=random_seed, verbose=-1)\n",
        "lgbm_accuracy, lgbm_model = train_and_evaluate(lgbm_model, X_train_scaled, X_test_scaled, y_train_balanced, y_test)\n",
        "print(f\"LGBM Classifier Accuracy: {lgbm_accuracy:.4f}\")\n",
        "# Print classification report for more detailed performance analysis\n",
        "print(\"\\nClassification Report:\")# Predict on the test set\n",
        "y_pred = lgbm_model.predict(X_test_scaled)\n",
        "print(classification_report(y_test, y_pred, target_names=['Not Subscribed', 'Subscribed']))\n"
      ]
    },
    {
      "cell_type": "markdown",
      "metadata": {
        "id": "O4yTFhUX7Sp5"
      },
      "source": [
        "The recall for Class 1 is extremely poor, so the model performs poorly at identifying customers who will subscribe than customers who will not subscribe. This is expected due to the severe class imbalance in our dataset, we require further hyperamareter tuning techniques to enhance its performance as our goal is for the model to be competent in predicting customers who will subscribe accurately so we can identify who to call and who to filter out. Additionally, I will try undersampling the data to see if we can get better performance for class 1."
      ]
    },
    {
      "cell_type": "code",
      "execution_count": 25,
      "metadata": {
        "id": "7G9SXLSFBqpD",
        "colab": {
          "base_uri": "https://localhost:8080/"
        },
        "outputId": "9703a3a4-619b-4576-dd8f-027abc1bc6e9"
      },
      "outputs": [
        {
          "output_type": "stream",
          "name": "stdout",
          "text": [
            "client_subscribed?\n",
            "no     2046\n",
            "yes    2046\n",
            "Name: count, dtype: int64\n",
            "LGBM Classifier Accuracy: 0.5873\n",
            "\n",
            "Classification Report:\n",
            "                precision    recall  f1-score   support\n",
            "\n",
            "Not Subscribed       0.94      0.59      0.73     11150\n",
            "    Subscribed       0.09      0.52      0.15       850\n",
            "\n",
            "      accuracy                           0.59     12000\n",
            "     macro avg       0.51      0.55      0.44     12000\n",
            "  weighted avg       0.88      0.59      0.69     12000\n",
            "\n"
          ]
        }
      ],
      "source": [
        "from imblearn.under_sampling import RandomUnderSampler\n",
        "\n",
        "\n",
        "# Split the data into training and testing sets BEFORE applying SMOTE\n",
        "X_train, X_test, y_train, y_test = train_test_split(X, y, test_size=0.3, random_state=random_seed)\n",
        "\n",
        "# Initialize the RandomUnderSampler\n",
        "rus = RandomUnderSampler(random_state=random_seed) # This will make the majority class 1.5 times the minority class\n",
        "# Fit and resample the training data\n",
        "X_train_balanced, y_train_balanced = rus.fit_resample(X_train, y_train)\n",
        "print(y_train_balanced.value_counts())\n",
        "\n",
        "# Scale the features\n",
        "scaler = StandardScaler()\n",
        "X_train_scaled = scaler.fit_transform(X_train_balanced)\n",
        "X_test_scaled = scaler.transform(X_test)\n",
        "\n",
        "\n",
        "# Import necessary libraries\n",
        "from lightgbm import LGBMClassifier\n",
        "# LGBM Classifier\n",
        "lgbm_model = LGBMClassifier(random_state=random_seed, verbose=-1)\n",
        "lgbm_accuracy, lgbm_model = train_and_evaluate(lgbm_model, X_train_scaled, X_test_scaled, y_train_balanced, y_test)\n",
        "print(f\"LGBM Classifier Accuracy: {lgbm_accuracy:.4f}\")\n",
        "# Print classification report for more detailed performance analysis\n",
        "print(\"\\nClassification Report:\")# Predict on the test set\n",
        "y_pred = lgbm_model.predict(X_test_scaled)\n",
        "print(classification_report(y_test, y_pred, target_names=['Not Subscribed', 'Subscribed']))\n"
      ]
    },
    {
      "cell_type": "markdown",
      "metadata": {
        "id": "K2dWWI5gClAD"
      },
      "source": [
        "Now the recall for the Class 1 is significantly better however it is nowhere near our target of above 81%. There is another method to enhance recall score for class 1 where the class_weight paramter for the LightGBM can be manually adjusted, we can set a high weight for class 1 to force the model to focus more on the minority class. The default for class_weight is 'balanced' which calculates weight for each class based on its frequencey in the training data."
      ]
    },
    {
      "cell_type": "code",
      "execution_count": 26,
      "metadata": {
        "id": "vdJbHfk7BqxF",
        "colab": {
          "base_uri": "https://localhost:8080/"
        },
        "outputId": "3e969a81-9b5b-4fde-9dbb-df686a0b70d7"
      },
      "outputs": [
        {
          "output_type": "stream",
          "name": "stdout",
          "text": [
            "LGBM Classifier Accuracy with Class Weights: 0.2654\n",
            "\n",
            "Classification Report (with class weights):\n",
            "                precision    recall  f1-score   support\n",
            "\n",
            "Not Subscribed       0.95      0.22      0.36      9283\n",
            "    Subscribed       0.08      0.85      0.14       717\n",
            "\n",
            "      accuracy                           0.27     10000\n",
            "     macro avg       0.51      0.53      0.25     10000\n",
            "  weighted avg       0.89      0.27      0.34     10000\n",
            "\n"
          ]
        }
      ],
      "source": [
        "# Split data into training and test sets before applying SMOTE\n",
        "X_train, X_test, y_train, y_test = train_test_split(X, y, test_size=0.25, random_state=42)\n",
        "\n",
        "\n",
        "# Scale the features\n",
        "scaler = StandardScaler()\n",
        "X_train_scaled = scaler.fit_transform(X_train)\n",
        "X_test_scaled = scaler.transform(X_test)\n",
        "# Example: Assuming class 0 (Not Subscribed) has more samples than class 1 (Subscribed)\n",
        "class_weights = {'no': 1, 'yes': 35}  # Higher weight for class 1 (Subscribed)\n",
        "# Adjusting class weights for LightGBM (automatically handles class imbalance)\n",
        "lgbm_model_weighted = LGBMClassifier(random_state=42, class_weight=class_weights, verbose=-1)\n",
        "\n",
        "# Train the model and evaluate performance\n",
        "lgbm_accuracy_weighted, lgbm_model_weighted = train_and_evaluate(lgbm_model_weighted, X_train_scaled, X_test_scaled, y_train, y_test)\n",
        "\n",
        "# Predict on the test set with class weighting applied\n",
        "y_pred_weighted = lgbm_model_weighted.predict(X_test_scaled)\n",
        "\n",
        "# Print classification report for the weighted model\n",
        "print(f\"LGBM Classifier Accuracy with Class Weights: {lgbm_accuracy_weighted:.4f}\")\n",
        "print(\"\\nClassification Report (with class weights):\")\n",
        "print(classification_report(y_test, y_pred_weighted, target_names=['Not Subscribed', 'Subscribed']))\n"
      ]
    },
    {
      "cell_type": "markdown",
      "metadata": {
        "id": "Q3xkIY36E0IG"
      },
      "source": [
        "Now we observe better results for recall for Class 1 as desired but it has greatly reduced the overall accuracy of our model but the accuracy is still relatively poor."
      ]
    },
    {
      "cell_type": "markdown",
      "metadata": {
        "id": "sR_A3oLeDqht"
      },
      "source": [
        "\n",
        "We require alternative oversampling methods since in the real-world, we cannot convince majority of customers so this technique will help us mimic that instead of oversampling using SMOTE only, meaning that the oversampled data points might not accurately reflect real-word scenrios. THis is where SMOTE Tomek can help us as it removes noisy examples from the majority class and oversamples the minority class with very similar examples leading to a cleaner & realistic dataset.\n",
        "\n",
        "We will use Smote Tomek & Smote ENN and select the one which gives us the best result.\n",
        "\n",
        "\n",
        "### Smote Tomek:\n",
        "\n",
        "This hybrid technique combines SMOTE (Synthetic Minority Over-Sampling) & Tomek Links. Tomek links are used to clean the dataset by undersampling the majority class. This is used to identify pairs in the dataset which are really similar or identicial and removes the instances from the majority class. With this combination, there is both an increase in the instances of the minority classes & lesser overlap between the data in the majority class.\n",
        "\n"
      ]
    },
    {
      "cell_type": "code",
      "source": [
        "from imblearn.combine import SMOTETomek\n",
        "\n",
        "\n",
        "# Split the data into training and testing sets BEFORE applying SMOTE\n",
        "X_train, X_test, y_train, y_test = train_test_split(X, y, test_size=0.3, random_state=random_seed)\n",
        "\n",
        "# Initialize SMOTE Tomek\n",
        "smote_tomek = SMOTETomek(random_state=random_seed)\n",
        "# Fit and resample the training data\n",
        "X_train_balanced, y_train_balanced = smote_tomek.fit_resample(X_train, y_train)\n",
        "\n",
        "# Check the class distribution after resampling\n",
        "print(y_train_balanced.value_counts())"
      ],
      "metadata": {
        "colab": {
          "base_uri": "https://localhost:8080/"
        },
        "id": "xFwpuk1yDjjJ",
        "outputId": "7248edf2-0a36-40b0-e8b8-90f04730d8b8"
      },
      "execution_count": 27,
      "outputs": [
        {
          "output_type": "stream",
          "name": "stdout",
          "text": [
            "client_subscribed?\n",
            "no     24611\n",
            "yes    24611\n",
            "Name: count, dtype: int64\n"
          ]
        }
      ]
    },
    {
      "cell_type": "markdown",
      "source": [
        "### With Scaling"
      ],
      "metadata": {
        "id": "K3oNWfXXDo9A"
      }
    },
    {
      "cell_type": "code",
      "source": [
        "# Scale the features\n",
        "scaler = StandardScaler()\n",
        "X_train_scaled = scaler.fit_transform(X_train_balanced)\n",
        "X_test_scaled = scaler.transform(X_test)\n"
      ],
      "metadata": {
        "id": "3PyZi4fjNIkm"
      },
      "execution_count": 28,
      "outputs": []
    },
    {
      "cell_type": "code",
      "execution_count": 29,
      "metadata": {
        "id": "D308Ha6iDtPf",
        "colab": {
          "base_uri": "https://localhost:8080/"
        },
        "outputId": "3e67fb03-3c81-46dd-93dc-7952a327bd69"
      },
      "outputs": [
        {
          "output_type": "stream",
          "name": "stdout",
          "text": [
            "LGBM Classifier Accuracy: 0.8703\n",
            "\n",
            "Classification Report:\n",
            "                precision    recall  f1-score   support\n",
            "\n",
            "Not Subscribed       0.93      0.93      0.93     11150\n",
            "    Subscribed       0.13      0.15      0.14       850\n",
            "\n",
            "      accuracy                           0.87     12000\n",
            "     macro avg       0.53      0.54      0.53     12000\n",
            "  weighted avg       0.88      0.87      0.87     12000\n",
            "\n"
          ]
        }
      ],
      "source": [
        "# LGBM Classifier\n",
        "class_weights = {'no': 1, 'yes': 1}  # Higher weight for class 1 (Subscribed)\n",
        "\n",
        "lgbm_model = LGBMClassifier(random_state=42, class_weight=class_weights, verbose=-1)\n",
        "\n",
        "# lgbm_model = LGBMClassifier(random_state=random_seed, verbose=-1)\n",
        "lgbm_accuracy, lgbm_model = train_and_evaluate(lgbm_model, X_train_scaled, X_test_scaled, y_train_balanced, y_test)\n",
        "\n",
        "print(f\"LGBM Classifier Accuracy: {lgbm_accuracy:.4f}\")\n",
        "\n",
        "# Predict on the test set\n",
        "y_pred = lgbm_model.predict(X_test_scaled)\n",
        "\n",
        "# Print classification report for more detailed performance analysis\n",
        "print(\"\\nClassification Report:\")\n",
        "print(classification_report(y_test, y_pred, target_names=['Not Subscribed', 'Subscribed']))"
      ]
    },
    {
      "cell_type": "markdown",
      "source": [
        "### Without Scaling"
      ],
      "metadata": {
        "id": "PvaD8Ii7fQFZ"
      }
    },
    {
      "cell_type": "code",
      "source": [
        "# LGBM Classifier\n",
        "class_weights = {'no': 1, 'yes': 1}  # Higher weight for class 1 (Subscribed)\n",
        "\n",
        "lgbm_model = LGBMClassifier(random_state=42, class_weight=class_weights, verbose=-1)\n",
        "\n",
        "# lgbm_model = LGBMClassifier(random_state=random_seed, verbose=-1)\n",
        "lgbm_accuracy, lgbm_model = train_and_evaluate(lgbm_model, X_train_balanced, X_test, y_train_balanced, y_test)\n",
        "\n",
        "print(f\"LGBM Classifier Accuracy: {lgbm_accuracy:.4f}\")\n",
        "\n",
        "# Predict on the test set\n",
        "y_pred = lgbm_model.predict(X_test)\n",
        "\n",
        "# Print classification report for more detailed performance analysis\n",
        "print(\"\\nClassification Report:\")\n",
        "print(classification_report(y_test, y_pred, target_names=['Not Subscribed', 'Subscribed']))"
      ],
      "metadata": {
        "colab": {
          "base_uri": "https://localhost:8080/"
        },
        "id": "xZdfejd2fVob",
        "outputId": "a549ecf6-7b32-4e93-8545-9bc78b2eb594"
      },
      "execution_count": 30,
      "outputs": [
        {
          "output_type": "stream",
          "name": "stdout",
          "text": [
            "LGBM Classifier Accuracy: 0.8712\n",
            "\n",
            "Classification Report:\n",
            "                precision    recall  f1-score   support\n",
            "\n",
            "Not Subscribed       0.93      0.93      0.93     11150\n",
            "    Subscribed       0.13      0.14      0.14       850\n",
            "\n",
            "      accuracy                           0.87     12000\n",
            "     macro avg       0.53      0.54      0.53     12000\n",
            "  weighted avg       0.88      0.87      0.87     12000\n",
            "\n"
          ]
        }
      ]
    },
    {
      "cell_type": "markdown",
      "source": [
        "It seems removing scaling does not make much difference to the model performance for LGBM classifier. Let's explore another oveesmapling technique Smote ENN to see if we get better results."
      ],
      "metadata": {
        "id": "vx3b7M3OAfpv"
      }
    },
    {
      "cell_type": "markdown",
      "metadata": {
        "id": "670t8iOJDvpp"
      },
      "source": [
        "### Smote ENN\n",
        "\n",
        "SMOTE ENN (Synthetic Minority Over-sampling Technique with Edited Nearest Neighbors) is another hybrid resampling method. It will combine SMOTE for oversampling and using Edted Nearest Neighbours (ENN) for undersampling the minority class. ENN works by removing the instances with different class labels within typically a range of k=3, if those labels have different labels, those data points will be removed from our dataset."
      ]
    },
    {
      "cell_type": "code",
      "source": [
        "# Import necessary libraries\n",
        "from imblearn.combine import SMOTEENN\n",
        "from sklearn.preprocessing import StandardScaler\n",
        "from sklearn.model_selection import train_test_split\n",
        "from lightgbm import LGBMClassifier\n",
        "from sklearn.metrics import classification_report\n",
        "\n",
        "# Split the data into training and testing sets\n",
        "X_train, X_test, y_train, y_test = train_test_split(X, y, test_size=0.3, random_state=random_seed)\n",
        "\n",
        "# Initialize SMOTE ENN\n",
        "smote_enn = SMOTEENN(random_state=random_seed)\n",
        "\n",
        "# Fit and resample the training data\n",
        "X_train_balanced_enn, y_train_balanced_enn = smote_enn.fit_resample(X_train, y_train)\n",
        "\n",
        "# Check the class distribution after resampling\n",
        "print(y_train_balanced.value_counts())"
      ],
      "metadata": {
        "colab": {
          "base_uri": "https://localhost:8080/"
        },
        "id": "K7ksXR1vOUOT",
        "outputId": "35a93c2b-4d39-40f4-bff1-d259cba5232c"
      },
      "execution_count": 31,
      "outputs": [
        {
          "output_type": "stream",
          "name": "stdout",
          "text": [
            "client_subscribed?\n",
            "no     24611\n",
            "yes    24611\n",
            "Name: count, dtype: int64\n"
          ]
        }
      ]
    },
    {
      "cell_type": "markdown",
      "source": [
        "### With Scaling"
      ],
      "metadata": {
        "id": "PiGdfDFzFUAJ"
      }
    },
    {
      "cell_type": "code",
      "execution_count": 32,
      "metadata": {
        "id": "Qg941NUaD0uw",
        "colab": {
          "base_uri": "https://localhost:8080/"
        },
        "outputId": "0e15ef29-cb38-4b32-9758-296d06909eab"
      },
      "outputs": [
        {
          "output_type": "stream",
          "name": "stdout",
          "text": [
            "LGBM Classifier Accuracy: 0.8194\n",
            "\n",
            "Classification Report:\n",
            "                precision    recall  f1-score   support\n",
            "\n",
            "Not Subscribed       0.94      0.86      0.90     11150\n",
            "    Subscribed       0.11      0.23      0.15       850\n",
            "\n",
            "      accuracy                           0.82     12000\n",
            "     macro avg       0.53      0.55      0.53     12000\n",
            "  weighted avg       0.88      0.82      0.85     12000\n",
            "\n"
          ]
        }
      ],
      "source": [
        "# Scale the features\n",
        "scaler = StandardScaler()\n",
        "X_train_scaled = scaler.fit_transform(X_train_balanced_enn)\n",
        "X_test_scaled = scaler.transform(X_test)\n",
        "\n",
        "# LGBM Classifier\n",
        "lgbm_model = LGBMClassifier(random_state=random_seed, verbose=-1)\n",
        "lgbm_accuracy, lgbm_model = train_and_evaluate(lgbm_model, X_train_scaled, X_test_scaled, y_train_balanced_enn, y_test)\n",
        "\n",
        "print(f\"LGBM Classifier Accuracy: {lgbm_accuracy:.4f}\")\n",
        "\n",
        "# Predict on the test set\n",
        "y_pred = lgbm_model.predict(X_test_scaled)\n",
        "\n",
        "# Print classification report for more detailed performance analysis\n",
        "print(\"\\nClassification Report:\")\n",
        "print(classification_report(y_test, y_pred, target_names=['Not Subscribed', 'Subscribed']))\n"
      ]
    },
    {
      "cell_type": "markdown",
      "source": [
        "### Without Scaling"
      ],
      "metadata": {
        "id": "FrCgJSnwgiMu"
      }
    },
    {
      "cell_type": "code",
      "source": [
        "# LGBM Classifier\n",
        "lgbm_model = LGBMClassifier(random_state=random_seed, verbose=-1)\n",
        "lgbm_accuracy, lgbm_model = train_and_evaluate(lgbm_model, X_train_balanced_enn, X_test, y_train_balanced_enn, y_test)\n",
        "\n",
        "print(f\"LGBM Classifier Accuracy: {lgbm_accuracy:.4f}\")\n",
        "\n",
        "# Predict on the test set\n",
        "y_pred = lgbm_model.predict(X_test)\n",
        "\n",
        "# Print classification report for more detailed performance analysis\n",
        "print(\"\\nClassification Report:\")\n",
        "print(classification_report(y_test, y_pred, target_names=['Not Subscribed', 'Subscribed']))\n"
      ],
      "metadata": {
        "colab": {
          "base_uri": "https://localhost:8080/"
        },
        "id": "WGtd--7-gglI",
        "outputId": "fa32a608-0dbe-4434-96c2-66510d8c960d"
      },
      "execution_count": 33,
      "outputs": [
        {
          "output_type": "stream",
          "name": "stdout",
          "text": [
            "LGBM Classifier Accuracy: 0.8224\n",
            "\n",
            "Classification Report:\n",
            "                precision    recall  f1-score   support\n",
            "\n",
            "Not Subscribed       0.94      0.87      0.90     11150\n",
            "    Subscribed       0.12      0.23      0.16       850\n",
            "\n",
            "      accuracy                           0.82     12000\n",
            "     macro avg       0.53      0.55      0.53     12000\n",
            "  weighted avg       0.88      0.82      0.85     12000\n",
            "\n"
          ]
        }
      ]
    },
    {
      "cell_type": "markdown",
      "source": [
        "So far, with SMOTE ENN & SMOTE Tomek, the results have been more or less the same with regards to both classes even when using different class weights for LGBM Classifier. What we do see is that with Smote ENN, we get better results for the subscribed class or Class 1 (23% recall), hence from now, we will continue with that approach\n",
        "\n",
        "\n",
        "The next stage is to perform hyperparameter tuning using hyperopt for the LGB model, we will select the new training dataset with SMOTE ENN as an example to inspect whether our results for the subscribed class greatly improves or not along with a high accuracy score (>81% required).\n",
        "\n",
        "Without scaling does lead to better performance, we will also explore with Min-Max Scaling to see whether that offers superior results."
      ],
      "metadata": {
        "id": "oUkwmp45PB6S"
      }
    },
    {
      "cell_type": "markdown",
      "source": [
        "## Min-Max Scaling"
      ],
      "metadata": {
        "id": "IJlgvdSnGY2L"
      }
    },
    {
      "cell_type": "code",
      "source": [
        "from sklearn.preprocessing import MinMaxScaler\n",
        "from lightgbm import LGBMClassifier\n",
        "from sklearn.metrics import classification_report\n",
        "\n",
        "# Initialize the MinMaxScaler\n",
        "scaler = MinMaxScaler()\n",
        "\n",
        "# Scale the features using MinMaxScaler\n",
        "X_train_scaled = scaler.fit_transform(X_train_balanced_enn)\n",
        "X_test_scaled = scaler.transform(X_test)\n",
        "\n",
        "# Initialize the LGBM Classifier\n",
        "lgbm_model = LGBMClassifier(random_state=random_seed, verbose=-1)\n",
        "\n",
        "# Train and evaluate the LGBM Classifier (assuming train_and_evaluate is a custom function)\n",
        "lgbm_accuracy, lgbm_model = train_and_evaluate(lgbm_model, X_train_scaled, X_test_scaled, y_train_balanced_enn, y_test)\n",
        "\n",
        "print(f\"LGBM Classifier Accuracy: {lgbm_accuracy:.4f}\")\n",
        "\n",
        "# Predict on the test set\n",
        "y_pred = lgbm_model.predict(X_test_scaled)\n",
        "\n",
        "# Print classification report for more detailed performance analysis\n",
        "print(\"\\nClassification Report:\")\n",
        "print(classification_report(y_test, y_pred, target_names=['Not Subscribed', 'Subscribed']))"
      ],
      "metadata": {
        "colab": {
          "base_uri": "https://localhost:8080/"
        },
        "id": "AcioGAM6Ggd0",
        "outputId": "bcb0aa7c-4e45-4663-ba30-fcbe6899842c"
      },
      "execution_count": 34,
      "outputs": [
        {
          "output_type": "stream",
          "name": "stdout",
          "text": [
            "LGBM Classifier Accuracy: 0.8201\n",
            "\n",
            "Classification Report:\n",
            "                precision    recall  f1-score   support\n",
            "\n",
            "Not Subscribed       0.94      0.86      0.90     11150\n",
            "    Subscribed       0.12      0.23      0.15       850\n",
            "\n",
            "      accuracy                           0.82     12000\n",
            "     macro avg       0.53      0.55      0.53     12000\n",
            "  weighted avg       0.88      0.82      0.85     12000\n",
            "\n"
          ]
        }
      ]
    },
    {
      "cell_type": "markdown",
      "source": [
        "Same results so we will choose to go with the non-scaled option for tackling layer 1 problem."
      ],
      "metadata": {
        "id": "NPYgqZTaJsVQ"
      }
    },
    {
      "cell_type": "markdown",
      "metadata": {
        "id": "9Emrrg8ZEGeD"
      },
      "source": [
        "### Hyperparameter tuning"
      ]
    },
    {
      "cell_type": "markdown",
      "source": [
        "5-Fold Cross Validation:\n",
        "\n",
        "Splitting the data into 5 Folds, each fold will contain roughly the same proportion of data. The model is trained & tested 5 times, in each iteration, 4 folds are used for training and the remaining for testing or validation. After 5 iterations, the performance scores from each iteration are averaged.\n",
        "\n",
        "Our hyperparameter tuning will focus on accuracy where afterwards we will change the weights to get the best recall for class 1. We will tune on without scaled dataset as that gave us the best score till now for LGBM classifier.\n",
        "\n",
        "We will do 50 evaluations focused on accuracy, so we ensure high accuracy at the start and then after changing the weights, favor class 1.\n"
      ],
      "metadata": {
        "id": "FYGU-z1HRcl6"
      }
    },
    {
      "cell_type": "code",
      "source": [
        "from hyperopt import hp, fmin, tpe, STATUS_OK, Trials\n",
        "from sklearn.metrics import accuracy_score, make_scorer\n",
        "from sklearn.model_selection import cross_val_score\n",
        "from sklearn.model_selection import StratifiedKFold\n",
        "from sklearn.metrics import recall_score, make_scorer\n",
        "\n",
        "\n",
        "# Define a search space for hyperparameters\n",
        "search_space = {\n",
        "    'num_leaves': hp.choice('num_leaves', [20, 100]),  # 3 values\n",
        "    'learning_rate': hp.uniform('learning_rate', 0.001, 0.5),  # Slightly vast range\n",
        "    'max_depth': hp.choice('max_depth', [3, 5 ,8, 11]),  # 3 values\n",
        "    'n_estimators': hp.choice('n_estimators', [100]),  # 3 values\n",
        "    'min_child_samples': hp.choice('min_child_samples', [30]),  # 3 values\n",
        "    'subsample': hp.uniform('subsample', 0.7, 0.9),  # Narrowed range for subsampling\n",
        "    'colsample_bytree': hp.uniform('colsample_bytree', 0.1, 0.9),  # Narrowed range for column sampling\n",
        "    'class_weight': hp.choice('class_weight', ['balanced', None]),  # No change here\n",
        "    'reg_alpha': hp.uniform('reg_alpha', 0.0, 0.9),  # regularization\n",
        "    'reg_lambda': hp.uniform('reg_lambda', 0.0, 0.9),  # regularization\n",
        "}\n",
        "\n",
        "\n",
        "# Define 5-fold cross-validation\n",
        "cv = StratifiedKFold(n_splits=5, shuffle=True, random_state=random_seed)\n",
        "\n",
        "# Objective function for HyperOpt\n",
        "def objective(params):\n",
        "    # Initialize LGBMClassifier with the current set of hyperparameters\n",
        "    lgbm_model = LGBMClassifier(random_state=random_seed, **params)\n",
        "\n",
        "    # Perform 5-fold cross-validation and return the average accuracy score\n",
        "    accuracy = cross_val_score(lgbm_model, X_train_balanced_enn, y_train_balanced_enn, cv=cv, scoring='accuracy').mean()\n",
        "\n",
        "    # HyperOpt minimizes the objective function, so we return the negative accuracy\n",
        "    return {'loss': -accuracy, 'status': STATUS_OK}\n",
        "\n",
        "# Run HyperOpt optimization with 5-fold cross-validation\n",
        "trials = Trials()\n",
        "best_params = fmin(fn=objective,\n",
        "                   space=search_space,\n",
        "                   algo=tpe.suggest,\n",
        "                   max_evals=50,  # Number of evaluations\n",
        "                   trials=trials,\n",
        "                   rstate=np.random.default_rng(random_seed))\n",
        "\n",
        "# Print the best parameters\n",
        "print(\"Best Hyperparameters:\", best_params)"
      ],
      "metadata": {
        "colab": {
          "base_uri": "https://localhost:8080/"
        },
        "id": "e_7p5XYxPSlN",
        "outputId": "bd6856e8-f14d-4206-fd1d-3af9bb7d60f7"
      },
      "execution_count": 35,
      "outputs": [
        {
          "output_type": "stream",
          "name": "stdout",
          "text": [
            "100%|██████████| 50/50 [01:49<00:00,  2.20s/trial, best loss: -0.9433930451104869]\n",
            "Best Hyperparameters: {'class_weight': 1, 'colsample_bytree': 0.7330559403363128, 'learning_rate': 0.44666388656503264, 'max_depth': 3, 'min_child_samples': 0, 'n_estimators': 0, 'num_leaves': 1, 'reg_alpha': 0.0954585958631623, 'reg_lambda': 0.22366597669931457, 'subsample': 0.7397223289775753}\n"
          ]
        }
      ]
    },
    {
      "cell_type": "code",
      "source": [
        "# Print the best parameters\n",
        "print(\"Best Hyperparameters:\", best_params)"
      ],
      "metadata": {
        "colab": {
          "base_uri": "https://localhost:8080/"
        },
        "id": "GJBhZlPOVnbL",
        "outputId": "0438c9b3-c775-4910-805a-1faf2bfa837c"
      },
      "execution_count": 36,
      "outputs": [
        {
          "output_type": "stream",
          "name": "stdout",
          "text": [
            "Best Hyperparameters: {'class_weight': 1, 'colsample_bytree': 0.7330559403363128, 'learning_rate': 0.44666388656503264, 'max_depth': 3, 'min_child_samples': 0, 'n_estimators': 0, 'num_leaves': 1, 'reg_alpha': 0.0954585958631623, 'reg_lambda': 0.22366597669931457, 'subsample': 0.7397223289775753}\n"
          ]
        }
      ]
    },
    {
      "source": [
        "# LGBM Classifier\n",
        "\n",
        "# Map the values from best_params into the proper ranges for certain hyperparameters\n",
        "best_lgbm_model = LGBMClassifier(\n",
        "    num_leaves=[20, 100][int(best_params['num_leaves'])],  # Correct handling of choice\n",
        "    learning_rate=best_params['learning_rate'],\n",
        "    max_depth=[3, 5, 8, 11][int(best_params['max_depth'])],  # Correct handling of choice\n",
        "    n_estimators=[100][int(best_params['n_estimators'])],  # Since only 100 was defined in the space\n",
        "    min_child_samples=[30][int(best_params['min_child_samples'])],  # Since only 30 was defined in the space\n",
        "    subsample=best_params['subsample'],\n",
        "    colsample_bytree=best_params['colsample_bytree'],\n",
        "    class_weight='balanced' if best_params['class_weight'] > 0 else None,  # Correct class_weight handling\n",
        "    reg_alpha=best_params['reg_alpha'],\n",
        "    reg_lambda=best_params['reg_lambda'],\n",
        "    random_state=random_seed\n",
        ")\n",
        "\n",
        "# Perform 5-fold cross-validation on the best model\n",
        "cv_scores = cross_val_score(best_lgbm_model, X_train_balanced_enn, y_train_balanced_enn, cv=cv, scoring='accuracy')\n",
        "\n",
        "# Print average accuracy across the 5 folds\n",
        "print(f\"Average Accuracy across 5 folds: {cv_scores.mean():.4f}\")\n",
        "\n",
        "\n",
        "\n",
        "\n",
        "# Train on the entire training data and evaluate on test data\n",
        "best_lgbm_model.fit(X_train_balanced_enn, y_train_balanced_enn)\n",
        "y_pred = best_lgbm_model.predict(X_test)\n",
        "\n",
        "# Calculate and print the accuracy\n",
        "accuracy = accuracy_score(y_test, y_pred)\n",
        "print(f\"\\nAccuracy: {accuracy:.4f}\")\n",
        "\n",
        "# Print the classification report on the test set\n",
        "print(\"\\nClassification Report on Test Set:\")\n",
        "print(classification_report(y_test, y_pred, target_names=['Not Subscribed', 'Subscribed']))\n"
      ],
      "cell_type": "code",
      "metadata": {
        "colab": {
          "base_uri": "https://localhost:8080/"
        },
        "id": "PsECxJ1XVxyY",
        "outputId": "474bd305-3850-47ed-a601-656247a77b64"
      },
      "execution_count": 37,
      "outputs": [
        {
          "output_type": "stream",
          "name": "stdout",
          "text": [
            "Average Accuracy across 5 folds: 0.9426\n",
            "\n",
            "Accuracy: 0.8281\n",
            "\n",
            "Classification Report on Test Set:\n",
            "                precision    recall  f1-score   support\n",
            "\n",
            "Not Subscribed       0.94      0.88      0.90     11150\n",
            "    Subscribed       0.11      0.21      0.15       850\n",
            "\n",
            "      accuracy                           0.83     12000\n",
            "     macro avg       0.52      0.54      0.53     12000\n",
            "  weighted avg       0.88      0.83      0.85     12000\n",
            "\n"
          ]
        }
      ]
    },
    {
      "cell_type": "markdown",
      "source": [
        "No much improvement in recall, actually it decreased. Let us change the class weights somewhat to favour the subscribed more and see if we can get a reasonable recall score for class 1. If we can maintain reasonable accuracy and reach a recall score above 60% for class 1, that would be great progress!"
      ],
      "metadata": {
        "id": "ICwxA2l-L_6p"
      }
    },
    {
      "cell_type": "code",
      "source": [
        "# LGBM Classifier\n",
        "class_weights = {'no': 1, 'yes': 1000}\n",
        "\n",
        "# Map the values from best_params into the proper ranges for certain hyperparameters\n",
        "best_lgbm_model = LGBMClassifier(\n",
        "    num_leaves=[20, 100][int(best_params['num_leaves'])],  # Correct handling of choice\n",
        "    learning_rate=best_params['learning_rate'],\n",
        "    max_depth=[3, 5, 8, 11][int(best_params['max_depth'])],  # Correct handling of choice\n",
        "    n_estimators=[100][int(best_params['n_estimators'])],  # Since only 100 was defined in the space\n",
        "    min_child_samples=[30][int(best_params['min_child_samples'])],  # Since only 30 was defined in the space\n",
        "    subsample=best_params['subsample'],\n",
        "    colsample_bytree=best_params['colsample_bytree'],\n",
        "    class_weight=class_weights,  # Correct class_weight handling\n",
        "    reg_alpha=best_params['reg_alpha'],\n",
        "    reg_lambda=best_params['reg_lambda'],\n",
        "    random_state=random_seed\n",
        ")\n",
        "\n",
        "\n",
        "\n",
        "# Perform 5-fold cross-validation on the best model\n",
        "cv_scores = cross_val_score(best_lgbm_model, X_train_balanced_enn, y_train_balanced_enn, cv=cv, scoring='accuracy')\n",
        "\n",
        "# Print average accuracy across the 5 folds\n",
        "print(f\"Average Accuracy across 5 folds: {cv_scores.mean():.4f}\")\n",
        "\n",
        "# Train on the entire training data and evaluate on test data\n",
        "best_lgbm_model.fit(X_train_balanced_enn, y_train_balanced_enn)\n",
        "y_pred = best_lgbm_model.predict(X_test)\n",
        "\n",
        "\n",
        "# Calculate and print the accuracy\n",
        "accuracy = accuracy_score(y_test, y_pred)\n",
        "print(f\"\\nAccuracy: {accuracy:.4f}\")\n",
        "\n",
        "# Print the classification report on the test set\n",
        "print(\"\\nClassification Report on Test Set:\")\n",
        "print(classification_report(y_test, y_pred, target_names=['Not Subscribed', 'Subscribed']))\n"
      ],
      "metadata": {
        "colab": {
          "base_uri": "https://localhost:8080/"
        },
        "id": "epctwApHL1PT",
        "outputId": "e4985c21-1764-4347-d38a-26ee91d80eca"
      },
      "execution_count": 38,
      "outputs": [
        {
          "output_type": "stream",
          "name": "stdout",
          "text": [
            "Average Accuracy across 5 folds: 0.8637\n",
            "\n",
            "Accuracy: 0.5433\n",
            "\n",
            "Classification Report on Test Set:\n",
            "                precision    recall  f1-score   support\n",
            "\n",
            "Not Subscribed       0.94      0.54      0.69     11150\n",
            "    Subscribed       0.08      0.55      0.15       850\n",
            "\n",
            "      accuracy                           0.54     12000\n",
            "     macro avg       0.51      0.55      0.42     12000\n",
            "  weighted avg       0.88      0.54      0.65     12000\n",
            "\n"
          ]
        }
      ]
    },
    {
      "cell_type": "markdown",
      "source": [
        "It seems our model cannot maintain both high accuracy and recall for class 1 at the same time. What we aim for is accuracy above 70% and recall with a high score as well. So this was an** unsuccessful** model overall.\n",
        "\n",
        "Let us experiment with more modal, particularly SGD classifier & Bernoulli NB to see and experiment if we can achieve slighly better results. If we have above 70% accuracy and above 80% recall score for class 1, that would be the ideal scenario.\n",
        "\n",
        "***We do not know the exact ratio when it comes to altering the model weights but this yields promising results as shown above (process similar to regularization).***\n"
      ],
      "metadata": {
        "id": "EqWdKr4qLK7x"
      }
    },
    {
      "cell_type": "markdown",
      "source": [
        "## SGD Classifier\n",
        "\n",
        "Use SGD Classifier to see better performance for recall for Class 1 so we can identify as many subscribers as possible. Stochastic Gradient Descent is a linear model used for sparse datasets, SGD updates weights after processing each sample or mini-batch. Where LGBM builds multiple decision trees, SGD is a linear classifier and works best when the data has a linear decision. We will use the oversampled SMOTE ENN dataset without scaling."
      ],
      "metadata": {
        "id": "71hYN-g3bcj0"
      }
    },
    {
      "cell_type": "code",
      "source": [
        "# Import necessary libraries\n",
        "from sklearn.linear_model import SGDClassifier\n",
        "from sklearn.metrics import accuracy_score, classification_report\n",
        "\n",
        "# Reinitialize the model to ensure no prior weights are being used\n",
        "sgd_model = SGDClassifier(random_state=random_seed)\n",
        "\n",
        "# Fit the model on the training data\n",
        "sgd_model.fit(X_train_balanced_enn, y_train_balanced_enn)\n",
        "\n",
        "# Predict on the test set\n",
        "y_pred = sgd_model.predict(X_test)\n",
        "\n",
        "# Calculate and print the accuracy\n",
        "accuracy = accuracy_score(y_test, y_pred)\n",
        "print(f\"\\nAccuracy: {accuracy:.4f}\")\n",
        "\n",
        "# Print classification report for more detailed performance analysis\n",
        "print(\"\\nClassification Report:\")\n",
        "print(classification_report(y_test, y_pred, target_names=['Not Subscribed', 'Subscribed']))\n"
      ],
      "metadata": {
        "colab": {
          "base_uri": "https://localhost:8080/"
        },
        "id": "HBND2bhEEuKH",
        "outputId": "8ca19e55-b7cb-492f-e6e4-3be6565018ab"
      },
      "execution_count": 39,
      "outputs": [
        {
          "output_type": "stream",
          "name": "stdout",
          "text": [
            "\n",
            "Accuracy: 0.2302\n",
            "\n",
            "Classification Report:\n",
            "                precision    recall  f1-score   support\n",
            "\n",
            "Not Subscribed       0.95      0.18      0.30     11150\n",
            "    Subscribed       0.08      0.88      0.14       850\n",
            "\n",
            "      accuracy                           0.23     12000\n",
            "     macro avg       0.51      0.53      0.22     12000\n",
            "  weighted avg       0.89      0.23      0.29     12000\n",
            "\n"
          ]
        }
      ]
    },
    {
      "cell_type": "markdown",
      "source": [
        "We get really high recall score which is highly desired, the accuracy score is very low so it is worth performing hyperparameter tuning to see if we can boost this by a certain reasonable amount."
      ],
      "metadata": {
        "id": "2WVlRDwkkqtY"
      }
    },
    {
      "cell_type": "markdown",
      "source": [
        "### Hyperparameter tuning for SGD & Results"
      ],
      "metadata": {
        "id": "mK2gsVsHQasn"
      }
    },
    {
      "cell_type": "code",
      "source": [
        "# Import necessary libraries for hyperparameter tuning\n",
        "from hyperopt import fmin, tpe, hp, Trials, STATUS_OK\n",
        "from sklearn.model_selection import cross_val_score, StratifiedKFold\n",
        "from sklearn.metrics import recall_score, make_scorer\n",
        "\n",
        "# Define the hyperparameter space for SGDClassifier\n",
        "search_space = {\n",
        "    'alpha': hp.uniform('alpha', 0.0001, 0.1),  # Learning rate or regularization strength\n",
        "    'loss': hp.choice('loss', ['hinge', 'log_loss', 'modified_huber', 'squared_hinge']),  # Loss function\n",
        "    'penalty': hp.choice('penalty', ['l2', 'l1', 'elasticnet']),  # Regularization technique\n",
        "    'l1_ratio': hp.uniform('l1_ratio', 0.0, 1.0)  # ElasticNet mixing ratio (only used if penalty='elasticnet')\n",
        "}\n",
        "\n",
        "# Define cross-validation\n",
        "cv = StratifiedKFold(n_splits=5, shuffle=True, random_state=random_seed)\n",
        "\n",
        "# Create a custom scorer for recall on class 1\n",
        "recall_scorer = make_scorer(recall_score, pos_label=1)\n",
        "\n",
        "# Define the objective function for HyperOpt\n",
        "def objective(params):\n",
        "    # Initialize SGDClassifier with the current set of hyperparameters\n",
        "    sgd_model = SGDClassifier(random_state=random_seed, **params)\n",
        "\n",
        "    # Perform 5-fold cross-validation and calculate the mean recall for class 1\n",
        "    recall = cross_val_score(sgd_model, X_train_balanced_enn, y_train_balanced_enn, cv=cv, scoring=recall_scorer).mean()\n",
        "\n",
        "    # Additionally calculate accuracy to ensure we balance recall with decent accuracy\n",
        "    accuracy = cross_val_score(sgd_model, X_train_balanced_enn, y_train_balanced_enn, cv=cv, scoring='accuracy').mean()\n",
        "\n",
        "    # We aim to maximize recall while ensuring accuracy does not drop below a threshold (e.g., 0.7)\n",
        "    # Return the negative recall because HyperOpt minimizes the loss\n",
        "    if accuracy >= 0.8:  # Only consider recall if accuracy is good enough\n",
        "        return {'loss': -recall, 'status': STATUS_OK}\n",
        "    else:\n",
        "        return {'loss': float('inf'), 'status': STATUS_OK}  # Penalize poor accuracy\n",
        "\n",
        "\n",
        "# Run the hyperparameter optimization using HyperOpt\n",
        "trials = Trials()\n",
        "best_sgd_params = fmin(fn=objective,\n",
        "                   space=search_space,\n",
        "                   algo=tpe.suggest,\n",
        "                   max_evals=60,  # Number of evaluations\n",
        "                   trials=trials,\n",
        "                   rstate=np.random.default_rng(random_seed))\n",
        "\n",
        "# Map the best loss and penalty choices back to their respective string values\n",
        "best_sgd_params['loss'] = ['hinge', 'log_loss', 'modified_huber', 'squared_hinge'][best_sgd_params['loss']]\n",
        "best_sgd_params['penalty'] = ['l2', 'l1', 'elasticnet'][best_sgd_params['penalty']]\n",
        "\n",
        "\n",
        "# Print the best parameters\n",
        "print(\"Best Hyperparameters:\", best_sgd_params)\n",
        "\n",
        "# Reinitialize the SGDClassifier with the best hyperparameters\n",
        "sgd_model = SGDClassifier(random_state=random_seed, **best_sgd_params)\n",
        "\n",
        "# Train the model on the entire training data\n",
        "sgd_model.fit(X_train_balanced_enn, y_train_balanced_enn)\n",
        "\n",
        "# Predict on the test set\n",
        "y_pred = sgd_model.predict(X_test)\n",
        "\n",
        "# Perform 5-fold cross-validation on the best model\n",
        "cv_scores = cross_val_score(sgd_model, X_train_balanced_enn, y_train_balanced_enn, cv=cv, scoring='accuracy')\n",
        "\n",
        "# Print average accuracy across the 5 folds\n",
        "print(f\"Average Accuracy across 5 folds: {cv_scores.mean():.4f}\")\n",
        "# Calculate and print the accuracy\n",
        "accuracy = accuracy_score(y_test, y_pred)\n",
        "print(f\"\\nAccuracy: {accuracy:.4f}\")\n",
        "# Print classification report for more detailed performance analysis\n",
        "print(\"\\nClassification Report:\")\n",
        "print(classification_report(y_test, y_pred, target_names=['Not Subscribed', 'Subscribed']))\n"
      ],
      "metadata": {
        "colab": {
          "base_uri": "https://localhost:8080/"
        },
        "id": "rgBLmWdoQSkw",
        "outputId": "53af2227-1cd4-4956-9c16-a276cc78cc15"
      },
      "execution_count": 40,
      "outputs": [
        {
          "output_type": "stream",
          "name": "stdout",
          "text": [
            "100%|██████████| 60/60 [04:44<00:00,  4.74s/trial, best loss: inf]\n",
            "Best Hyperparameters: {'alpha': 0.0143673347460286, 'l1_ratio': 0.015878829825360485, 'loss': 'modified_huber', 'penalty': 'l1'}\n",
            "Average Accuracy across 5 folds: 0.7852\n",
            "\n",
            "Accuracy: 0.7412\n",
            "\n",
            "Classification Report:\n",
            "                precision    recall  f1-score   support\n",
            "\n",
            "Not Subscribed       0.94      0.77      0.85     11150\n",
            "    Subscribed       0.09      0.30      0.14       850\n",
            "\n",
            "      accuracy                           0.74     12000\n",
            "     macro avg       0.51      0.54      0.49     12000\n",
            "  weighted avg       0.88      0.74      0.80     12000\n",
            "\n"
          ]
        }
      ]
    },
    {
      "cell_type": "markdown",
      "source": [
        "We achieved higher accuracy and recall but as mentioned earlier, we are seeking a higher recall score, at least above 60%. Let us change the class weights to see if we can achieve that."
      ],
      "metadata": {
        "id": "UM92A6gDSfBi"
      }
    },
    {
      "cell_type": "code",
      "source": [
        "# SGD  Classifier\n",
        "class_weights = {'no': 1, 'yes': 7}\n",
        "# Reinitialize the SGDClassifier with the best hyperparameters\n",
        "sgd_model = SGDClassifier(random_state=random_seed, **best_sgd_params, class_weight=class_weights)\n",
        "\n",
        "# Train the model on the entire training data\n",
        "sgd_model.fit(X_train_balanced_enn, y_train_balanced_enn)\n",
        "\n",
        "# Predict on the test set\n",
        "y_pred = sgd_model.predict(X_test)\n",
        "\n",
        "# Perform 5-fold cross-validation on the best model\n",
        "cv_scores = cross_val_score(sgd_model, X_train_balanced_enn, y_train_balanced_enn, cv=cv, scoring='accuracy')\n",
        "\n",
        "# Print average accuracy across the 5 folds\n",
        "print(f\"Average Accuracy across 5 folds: {cv_scores.mean():.4f}\")\n",
        "# Calculate and print the accuracy\n",
        "accuracy = accuracy_score(y_test, y_pred)\n",
        "print(f\"\\nAccuracy: {accuracy:.4f}\")\n",
        "# Print classification report for more detailed performance analysis\n",
        "print(\"\\nClassification Report:\")\n",
        "print(classification_report(y_test, y_pred, target_names=['Not Subscribed', 'Subscribed']))"
      ],
      "metadata": {
        "colab": {
          "base_uri": "https://localhost:8080/"
        },
        "id": "hRsnZslJetKG",
        "outputId": "fee8fd65-9cf7-4145-d07d-333a0da160d4"
      },
      "execution_count": 41,
      "outputs": [
        {
          "output_type": "stream",
          "name": "stdout",
          "text": [
            "Average Accuracy across 5 folds: 0.6942\n",
            "\n",
            "Accuracy: 0.4849\n",
            "\n",
            "Classification Report:\n",
            "                precision    recall  f1-score   support\n",
            "\n",
            "Not Subscribed       0.94      0.48      0.63     11150\n",
            "    Subscribed       0.08      0.58      0.14       850\n",
            "\n",
            "      accuracy                           0.48     12000\n",
            "     macro avg       0.51      0.53      0.39     12000\n",
            "  weighted avg       0.88      0.48      0.60     12000\n",
            "\n"
          ]
        }
      ]
    },
    {
      "cell_type": "markdown",
      "source": [
        "Similar is the case with the above model, huge trade-off between accuracy and recall for class 1. We cannot attain an accuracy of more than 50% with recall of class 1 being at least 60%. Let us experiment with one more model."
      ],
      "metadata": {
        "id": "KK1nPyXefGX-"
      }
    },
    {
      "cell_type": "markdown",
      "source": [
        "### Bernoulli NB\n",
        "\n",
        "As seen fromt the lazy classifier results, this yields the highest balanced accuracy. This model is a variant of Naive Bayes algorithm specifically designed for binary / boolean feature data. As we have some of features like that, this can suit our problem well. Bernoulli NB assumes features are independent of each other, this model is based on Bayes theorem, where it allows the inclusion of class priors representing prior probability of each class, this can help give more weight to the subscribed class."
      ],
      "metadata": {
        "id": "n4UEpsCzaJ83"
      }
    },
    {
      "cell_type": "code",
      "source": [
        "# Import necessary libraries\n",
        "from hyperopt import fmin, tpe, hp, Trials, STATUS_OK\n",
        "from sklearn.naive_bayes import BernoulliNB\n",
        "from sklearn.metrics import accuracy_score, classification_report\n",
        "from sklearn.model_selection import train_test_split\n",
        "from sklearn.preprocessing import StandardScaler\n",
        "\n",
        "# Define the objective function for hyperparameter tuning\n",
        "def objective(params):\n",
        "    # Initialize BernoulliNB with hyperparameters\n",
        "    bernoulli_nb = BernoulliNB(alpha=params['alpha'], class_prior=[params['class_prior_0'], params['class_prior_1']])\n",
        "\n",
        "    # Train the model with scaled data\n",
        "    bernoulli_nb.fit(X_train_balanced_enn, y_train_balanced_enn)\n",
        "\n",
        "    # Predict the results\n",
        "    y_pred = bernoulli_nb.predict(X_test)\n",
        "\n",
        "    # Additionally calculate accuracy to ensure we balance recall with decent accuracy\n",
        "    accuracy = cross_val_score(bernoulli_nb, X_train_balanced_enn, y_train_balanced_enn, cv=cv, scoring='accuracy').mean()\n",
        "\n",
        "    return {'loss': -accuracy, 'status': STATUS_OK}\n",
        "\n",
        "# Define the search space for hyperparameters\n",
        "space = {\n",
        "    'alpha': hp.uniform('alpha', 0.01, 1.0),  # Smoothing parameter for BernoulliNB\n",
        "    'class_prior_0': hp.uniform('class_prior_0', 0.1, 0.8),  # Prior for class 0 (Not Subscribed)\n",
        "    'class_prior_1': hp.uniform('class_prior_1', 0.5, 0.8)  # Prior for class 1 (Subscribed)\n",
        "}\n",
        "\n",
        "\n",
        "# Use Trials to store results of each hyperparameter combination\n",
        "trials = Trials()\n",
        "\n",
        "# Run the hyperparameter optimization\n",
        "best_params = fmin(\n",
        "    fn=objective,\n",
        "    space=space,\n",
        "    algo=tpe.suggest,\n",
        "    max_evals=50,  # Number of iterations\n",
        "    trials=trials\n",
        ")\n",
        "\n",
        "# Train the final model using the best hyperparameters found\n",
        "bernoulli_nb = BernoulliNB(alpha=best_params['alpha'], class_prior=[best_params['class_prior_0'], best_params['class_prior_1']])\n",
        "\n",
        "# Fit the model with the best parameters\n",
        "bernoulli_nb.fit(X_train_balanced_enn, y_train_balanced_enn)\n",
        "\n",
        "# Predict with the best model\n",
        "y_pred_with_tuning = bernoulli_nb.predict(X_test)\n",
        "\n",
        "# Print the classification report with tuning\n",
        "print(\"\\nClassification Report (with HyperOpt tuning):\")\n",
        "print(classification_report(y_test, y_pred_with_tuning, target_names=['Not Subscribed', 'Subscribed']))\n",
        "\n",
        "# Accuracy score with hyperparameter tuning\n",
        "accuracy_with_tuning = accuracy_score(y_test, y_pred_with_tuning)\n",
        "print(f\"Accuracy with tuning: {accuracy_with_tuning:.4f}\")\n"
      ],
      "metadata": {
        "colab": {
          "base_uri": "https://localhost:8080/"
        },
        "id": "WfXlMwJBaJD-",
        "outputId": "18e1c776-ff14-4a0c-e9a5-03bbef1251d7"
      },
      "execution_count": 42,
      "outputs": [
        {
          "output_type": "stream",
          "name": "stdout",
          "text": [
            "100%|██████████| 50/50 [01:08<00:00,  1.37s/trial, best loss: -0.8463350543656748]\n",
            "\n",
            "Classification Report (with HyperOpt tuning):\n",
            "                precision    recall  f1-score   support\n",
            "\n",
            "Not Subscribed       0.94      0.81      0.87     11150\n",
            "    Subscribed       0.11      0.31      0.16       850\n",
            "\n",
            "      accuracy                           0.77     12000\n",
            "     macro avg       0.52      0.56      0.52     12000\n",
            "  weighted avg       0.88      0.77      0.82     12000\n",
            "\n",
            "Accuracy with tuning: 0.7728\n"
          ]
        }
      ]
    },
    {
      "cell_type": "code",
      "source": [
        "class_weights = {'no': 1, 'yes': 4.3}\n",
        "\n",
        "# Calculate the class priors based on the class weights\n",
        "total_weight = sum(class_weights.values())\n",
        "class_prior_0 = class_weights['no'] / total_weight\n",
        "class_prior_1 = class_weights['yes'] / total_weight\n",
        "\n",
        "# Train the final model using the best hyperparameters found\n",
        "bernoulli_nb = BernoulliNB(alpha=best_params['alpha'], class_prior=[class_prior_0, class_prior_1])\n",
        "\n",
        "# Fit the model with the best parameters\n",
        "bernoulli_nb.fit(X_train_balanced_enn, y_train_balanced_enn)\n",
        "\n",
        "# Predict with the best model\n",
        "y_pred_with_tuning = bernoulli_nb.predict(X_test)\n",
        "\n",
        "# Print the classification report with tuning\n",
        "print(\"\\nClassification Report (with HyperOpt tuning):\")\n",
        "print(classification_report(y_test, y_pred_with_tuning, target_names=['Not Subscribed', 'Subscribed']))\n",
        "\n",
        "# Accuracy score with hyperparameter tuning\n",
        "accuracy_with_tuning = accuracy_score(y_test, y_pred_with_tuning)\n",
        "print(f\"Accuracy with tuning: {accuracy_with_tuning:.4f}\")\n"
      ],
      "metadata": {
        "colab": {
          "base_uri": "https://localhost:8080/"
        },
        "id": "860QOnjrgILP",
        "outputId": "81933b69-69bb-4661-9991-ae3b0b3cb668"
      },
      "execution_count": 43,
      "outputs": [
        {
          "output_type": "stream",
          "name": "stdout",
          "text": [
            "\n",
            "Classification Report (with HyperOpt tuning):\n",
            "                precision    recall  f1-score   support\n",
            "\n",
            "Not Subscribed       0.95      0.53      0.68     11150\n",
            "    Subscribed       0.09      0.62      0.16       850\n",
            "\n",
            "      accuracy                           0.54     12000\n",
            "     macro avg       0.52      0.58      0.42     12000\n",
            "  weighted avg       0.89      0.54      0.65     12000\n",
            "\n",
            "Accuracy with tuning: 0.5400\n"
          ]
        }
      ]
    },
    {
      "cell_type": "markdown",
      "source": [
        "**The above is the best result so far, we have accuracy above 50% and recall for class 1 above 60%. Let us use this to help us not make unwanted calls.**\n",
        "\n",
        "### Save the Best Model"
      ],
      "metadata": {
        "id": "huNm7mR_NLtp"
      }
    },
    {
      "cell_type": "code",
      "source": [
        "import pickle\n",
        "from lightgbm import LGBMClassifier\n",
        "from sklearn.metrics import classification_report\n",
        "\n",
        "# Train on the entire training data\n",
        "bernoulli_nb.fit(X_train_balanced_enn, y_train_balanced_enn)\n",
        "\n",
        "# Save the trained model using pickle\n",
        "with open('bernoulli_nb.pkl', 'wb') as model_file:\n",
        "    pickle.dump(bernoulli_nb, model_file)\n",
        "\n",
        "# Evaluate on test data\n",
        "y_pred = bernoulli_nb.predict(X_test)\n",
        "\n",
        "# Print the classification report on the test set\n",
        "print(\"\\nClassification Report on Test Set:\")\n",
        "print(classification_report(y_test, y_pred, target_names=['Not Subscribed', 'Subscribed']))\n"
      ],
      "metadata": {
        "colab": {
          "base_uri": "https://localhost:8080/"
        },
        "id": "CK0E4XqkWE2h",
        "outputId": "b5a30420-1137-4ed2-887c-16e8062fa9ab"
      },
      "execution_count": 44,
      "outputs": [
        {
          "output_type": "stream",
          "name": "stdout",
          "text": [
            "\n",
            "Classification Report on Test Set:\n",
            "                precision    recall  f1-score   support\n",
            "\n",
            "Not Subscribed       0.95      0.53      0.68     11150\n",
            "    Subscribed       0.09      0.62      0.16       850\n",
            "\n",
            "      accuracy                           0.54     12000\n",
            "     macro avg       0.52      0.58      0.42     12000\n",
            "  weighted avg       0.89      0.54      0.65     12000\n",
            "\n"
          ]
        }
      ]
    },
    {
      "cell_type": "code",
      "source": [
        "# Load the model\n",
        "with open('bernoulli_nb.pkl', 'rb') as model_file:\n",
        "    bernoulli_nb = pickle.load(model_file)\n",
        "\n",
        "# You can now use the loaded model to make predictions\n",
        "y_pred_loaded_model = bernoulli_nb.predict(X_test)\n",
        "# Perform 5-fold cross-validation on the best model\n",
        "cv_scores = cross_val_score(bernoulli_nb, X_train_balanced_enn, y_train_balanced_enn, cv=cv, scoring='accuracy')\n",
        "\n",
        "# Print average accuracy across the 5 folds\n",
        "print(f\"Average Accuracy across 5 folds: {cv_scores.mean():.4f}\")\n",
        "\n",
        "# Accuracy score with hyperparameter tuning\n",
        "accuracy_with_tuning = accuracy_score(y_test, y_pred_loaded_model)\n",
        "print(f\"Accuracy with tuning: {accuracy_with_tuning:.4f}\")\n",
        "\n",
        "# Print the classification report using the loaded model\n",
        "print(\"\\nClassification Report from Loaded Model:\")\n",
        "print(classification_report(y_test, y_pred_loaded_model, target_names=['Not Subscribed', 'Subscribed']))\n"
      ],
      "metadata": {
        "colab": {
          "base_uri": "https://localhost:8080/"
        },
        "id": "Lp4eQhssWJFR",
        "outputId": "11ceee55-e062-4e88-a18e-b4b2cec53345"
      },
      "execution_count": 45,
      "outputs": [
        {
          "output_type": "stream",
          "name": "stdout",
          "text": [
            "Average Accuracy across 5 folds: 0.7942\n",
            "Accuracy with tuning: 0.5400\n",
            "\n",
            "Classification Report from Loaded Model:\n",
            "                precision    recall  f1-score   support\n",
            "\n",
            "Not Subscribed       0.95      0.53      0.68     11150\n",
            "    Subscribed       0.09      0.62      0.16       850\n",
            "\n",
            "      accuracy                           0.54     12000\n",
            "     macro avg       0.52      0.58      0.42     12000\n",
            "  weighted avg       0.89      0.54      0.65     12000\n",
            "\n"
          ]
        }
      ]
    },
    {
      "cell_type": "markdown",
      "source": [
        "### Use Model to predict subscribers on the whole dataset."
      ],
      "metadata": {
        "id": "PbaBpH3ZmCTq"
      }
    },
    {
      "cell_type": "code",
      "source": [
        "# Split X and y\n",
        "X = first_layer_df_encoded.drop(columns=['client_subscribed?'])\n",
        "y = first_layer_df_encoded['client_subscribed?']\n",
        "\n",
        "# Predict on the test set\n",
        "y_pred = bernoulli_nb.predict(X)"
      ],
      "metadata": {
        "id": "xT1e4blpFOvW"
      },
      "execution_count": 98,
      "outputs": []
    },
    {
      "cell_type": "code",
      "source": [
        "from sklearn.metrics import classification_report, confusion_matrix, ConfusionMatrixDisplay\n",
        "# Confusion matrix\n",
        "conf_matrix = confusion_matrix(y, y_pred)\n",
        "conf_matrix_display = ConfusionMatrixDisplay(conf_matrix, display_labels=['Not Subscribed', 'Subscribed'])\n",
        "\n",
        "# Plot the confusion matrix\n",
        "conf_matrix_display.plot(cmap='Blues')\n",
        "plt.title('Confusion Matrix: Predictions on Entire Dataset')\n",
        "plt.show()\n",
        "\n",
        "\n",
        "# Calculate and print the accuracy\n",
        "accuracy = accuracy_score(y, y_pred)\n",
        "print(f\"\\nAccuracy: {accuracy:.4f}\")\n",
        "\n",
        "# Print classification report\n",
        "# Here our model is predicting more than 37,000 customers as subscribers, this misses the point of using ML model here to reduce unwanted calls.\n",
        "# Reduce unwanted calls\n",
        "print(\"\\nClassification Report:\")\n",
        "print(classification_report(y, y_pred, target_names=['Not Subscribed', 'Subscribed']))"
      ],
      "metadata": {
        "colab": {
          "base_uri": "https://localhost:8080/",
          "height": 712
        },
        "id": "UXzS3UsrFrrs",
        "outputId": "f5dc792b-6ff6-4c23-be8e-55ff372129c4"
      },
      "execution_count": 99,
      "outputs": [
        {
          "output_type": "display_data",
          "data": {
            "text/plain": [
              "<Figure size 640x480 with 2 Axes>"
            ],
            "image/png": "[encoded data removed]"
          },
          "metadata": {}
        },
        {
          "output_type": "stream",
          "name": "stdout",
          "text": [
            "\n",
            "Accuracy: 0.5440\n",
            "\n",
            "Classification Report:\n",
            "                precision    recall  f1-score   support\n",
            "\n",
            "Not Subscribed       0.95      0.54      0.69     37104\n",
            "    Subscribed       0.09      0.61      0.16      2896\n",
            "\n",
            "      accuracy                           0.54     40000\n",
            "     macro avg       0.52      0.57      0.42     40000\n",
            "  weighted avg       0.88      0.54      0.65     40000\n",
            "\n"
          ]
        }
      ]
    },
    {
      "cell_type": "markdown",
      "source": [
        "Now we will calculate sum of total duration of calls of predicted subscribers and compare that with the total duraiton of calls for all 40,000 records to measure how much human effort we are saving in hours or seconds!\n"
      ],
      "metadata": {
        "id": "poTPKEkJC5gf"
      }
    },
    {
      "cell_type": "code",
      "source": [
        "# Step 1: Predict on the dataset\n",
        "y_pred = bernoulli_nb.predict(X)\n",
        "\n",
        "# Step 2: Add the predictions to the original DataFrame\n",
        "X['predicted_subscribed'] = y_pred\n",
        "\n",
        "X.head()"
      ],
      "metadata": {
        "id": "NiLev2_7CJTS",
        "colab": {
          "base_uri": "https://localhost:8080/",
          "height": 273
        },
        "outputId": "4706e05e-dba8-41fd-fd32-2b5d6c55efa1"
      },
      "execution_count": 100,
      "outputs": [
        {
          "output_type": "execute_result",
          "data": {
            "text/plain": [
              "   age  balance  has_credit_default_yes  job_blue-collar  job_entrepreneur  \\\n",
              "0   58     2143                   False            False             False   \n",
              "1   44       29                   False            False             False   \n",
              "2   33        2                   False            False              True   \n",
              "3   47     1506                   False             True             False   \n",
              "4   33        1                   False            False             False   \n",
              "\n",
              "   job_housemaid  job_management  job_retired  job_self-employed  \\\n",
              "0          False            True        False              False   \n",
              "1          False           False        False              False   \n",
              "2          False           False        False              False   \n",
              "3          False           False        False              False   \n",
              "4          False           False        False              False   \n",
              "\n",
              "   job_services  ...  job_unemployed  job_unknown  marital_married  \\\n",
              "0         False  ...           False        False             True   \n",
              "1         False  ...           False        False            False   \n",
              "2         False  ...           False        False             True   \n",
              "3         False  ...           False        False             True   \n",
              "4         False  ...           False         True            False   \n",
              "\n",
              "   marital_single  education_secondary  education_tertiary  education_unknown  \\\n",
              "0           False                False                True              False   \n",
              "1            True                 True               False              False   \n",
              "2           False                 True               False              False   \n",
              "3           False                False               False               True   \n",
              "4            True                False               False               True   \n",
              "\n",
              "   housing_loan?_yes  personal_loan_yes  predicted_subscribed  \n",
              "0               True              False                    no  \n",
              "1               True              False                   yes  \n",
              "2               True               True                    no  \n",
              "3               True              False                    no  \n",
              "4              False              False                    no  \n",
              "\n",
              "[5 rows x 22 columns]"
            ],
            "text/html": [
              "\n",
              "  <div id=\"df-e1257573-9ffa-486e-a9bd-6cd9d1011d10\" class=\"colab-df-container\">\n",
              "    <div>\n",
              "<style scoped>\n",
              "    .dataframe tbody tr th:only-of-type {\n",
              "        vertical-align: middle;\n",
              "    }\n",
              "\n",
              "    .dataframe tbody tr th {\n",
              "        vertical-align: top;\n",
              "    }\n",
              "\n",
              "    .dataframe thead th {\n",
              "        text-align: right;\n",
              "    }\n",
              "</style>\n",
              "<table border=\"1\" class=\"dataframe\">\n",
              "  <thead>\n",
              "    <tr style=\"text-align: right;\">\n",
              "      <th></th>\n",
              "      <th>age</th>\n",
              "      <th>balance</th>\n",
              "      <th>has_credit_default_yes</th>\n",
              "      <th>job_blue-collar</th>\n",
              "      <th>job_entrepreneur</th>\n",
              "      <th>job_housemaid</th>\n",
              "      <th>job_management</th>\n",
              "      <th>job_retired</th>\n",
              "      <th>job_self-employed</th>\n",
              "      <th>job_services</th>\n",
              "      <th>...</th>\n",
              "      <th>job_unemployed</th>\n",
              "      <th>job_unknown</th>\n",
              "      <th>marital_married</th>\n",
              "      <th>marital_single</th>\n",
              "      <th>education_secondary</th>\n",
              "      <th>education_tertiary</th>\n",
              "      <th>education_unknown</th>\n",
              "      <th>housing_loan?_yes</th>\n",
              "      <th>personal_loan_yes</th>\n",
              "      <th>predicted_subscribed</th>\n",
              "    </tr>\n",
              "  </thead>\n",
              "  <tbody>\n",
              "    <tr>\n",
              "      <th>0</th>\n",
              "      <td>58</td>\n",
              "      <td>2143</td>\n",
              "      <td>False</td>\n",
              "      <td>False</td>\n",
              "      <td>False</td>\n",
              "      <td>False</td>\n",
              "      <td>True</td>\n",
              "      <td>False</td>\n",
              "      <td>False</td>\n",
              "      <td>False</td>\n",
              "      <td>...</td>\n",
              "      <td>False</td>\n",
              "      <td>False</td>\n",
              "      <td>True</td>\n",
              "      <td>False</td>\n",
              "      <td>False</td>\n",
              "      <td>True</td>\n",
              "      <td>False</td>\n",
              "      <td>True</td>\n",
              "      <td>False</td>\n",
              "      <td>no</td>\n",
              "    </tr>\n",
              "    <tr>\n",
              "      <th>1</th>\n",
              "      <td>44</td>\n",
              "      <td>29</td>\n",
              "      <td>False</td>\n",
              "      <td>False</td>\n",
              "      <td>False</td>\n",
              "      <td>False</td>\n",
              "      <td>False</td>\n",
              "      <td>False</td>\n",
              "      <td>False</td>\n",
              "      <td>False</td>\n",
              "      <td>...</td>\n",
              "      <td>False</td>\n",
              "      <td>False</td>\n",
              "      <td>False</td>\n",
              "      <td>True</td>\n",
              "      <td>True</td>\n",
              "      <td>False</td>\n",
              "      <td>False</td>\n",
              "      <td>True</td>\n",
              "      <td>False</td>\n",
              "      <td>yes</td>\n",
              "    </tr>\n",
              "    <tr>\n",
              "      <th>2</th>\n",
              "      <td>33</td>\n",
              "      <td>2</td>\n",
              "      <td>False</td>\n",
              "      <td>False</td>\n",
              "      <td>True</td>\n",
              "      <td>False</td>\n",
              "      <td>False</td>\n",
              "      <td>False</td>\n",
              "      <td>False</td>\n",
              "      <td>False</td>\n",
              "      <td>...</td>\n",
              "      <td>False</td>\n",
              "      <td>False</td>\n",
              "      <td>True</td>\n",
              "      <td>False</td>\n",
              "      <td>True</td>\n",
              "      <td>False</td>\n",
              "      <td>False</td>\n",
              "      <td>True</td>\n",
              "      <td>True</td>\n",
              "      <td>no</td>\n",
              "    </tr>\n",
              "    <tr>\n",
              "      <th>3</th>\n",
              "      <td>47</td>\n",
              "      <td>1506</td>\n",
              "      <td>False</td>\n",
              "      <td>True</td>\n",
              "      <td>False</td>\n",
              "      <td>False</td>\n",
              "      <td>False</td>\n",
              "      <td>False</td>\n",
              "      <td>False</td>\n",
              "      <td>False</td>\n",
              "      <td>...</td>\n",
              "      <td>False</td>\n",
              "      <td>False</td>\n",
              "      <td>True</td>\n",
              "      <td>False</td>\n",
              "      <td>False</td>\n",
              "      <td>False</td>\n",
              "      <td>True</td>\n",
              "      <td>True</td>\n",
              "      <td>False</td>\n",
              "      <td>no</td>\n",
              "    </tr>\n",
              "    <tr>\n",
              "      <th>4</th>\n",
              "      <td>33</td>\n",
              "      <td>1</td>\n",
              "      <td>False</td>\n",
              "      <td>False</td>\n",
              "      <td>False</td>\n",
              "      <td>False</td>\n",
              "      <td>False</td>\n",
              "      <td>False</td>\n",
              "      <td>False</td>\n",
              "      <td>False</td>\n",
              "      <td>...</td>\n",
              "      <td>False</td>\n",
              "      <td>True</td>\n",
              "      <td>False</td>\n",
              "      <td>True</td>\n",
              "      <td>False</td>\n",
              "      <td>False</td>\n",
              "      <td>True</td>\n",
              "      <td>False</td>\n",
              "      <td>False</td>\n",
              "      <td>no</td>\n",
              "    </tr>\n",
              "  </tbody>\n",
              "</table>\n",
              "<p>5 rows × 22 columns</p>\n",
              "</div>\n",
              "    <div class=\"colab-df-buttons\">\n",
              "\n",
              "  <div class=\"colab-df-container\">\n",
              "    <button class=\"colab-df-convert\" onclick=\"convertToInteractive('df-e1257573-9ffa-486e-a9bd-6cd9d1011d10')\"\n",
              "            title=\"Convert this dataframe to an interactive table.\"\n",
              "            style=\"display:none;\">\n",
              "\n",
              "  <svg xmlns=\"http://www.w3.org/2000/svg\" height=\"24px\" viewBox=\"0 -960 960 960\">\n",
              "    <path d=\"M120-120v-720h720v720H120Zm60-500h600v-160H180v160Zm220 220h160v-160H400v160Zm0 220h160v-160H400v160ZM180-400h160v-160H180v160Zm440 0h160v-160H620v160ZM180-180h160v-160H180v160Zm440 0h160v-160H620v160Z\"/>\n",
              "  </svg>\n",
              "    </button>\n",
              "\n",
              "  <style>\n",
              "    .colab-df-container {\n",
              "      display:flex;\n",
              "      gap: 12px;\n",
              "    }\n",
              "\n",
              "    .colab-df-convert {\n",
              "      background-color: #E8F0FE;\n",
              "      border: none;\n",
              "      border-radius: 50%;\n",
              "      cursor: pointer;\n",
              "      display: none;\n",
              "      fill: #1967D2;\n",
              "      height: 32px;\n",
              "      padding: 0 0 0 0;\n",
              "      width: 32px;\n",
              "    }\n",
              "\n",
              "    .colab-df-convert:hover {\n",
              "      background-color: #E2EBFA;\n",
              "      box-shadow: 0px 1px 2px rgba(60, 64, 67, 0.3), 0px 1px 3px 1px rgba(60, 64, 67, 0.15);\n",
              "      fill: #174EA6;\n",
              "    }\n",
              "\n",
              "    .colab-df-buttons div {\n",
              "      margin-bottom: 4px;\n",
              "    }\n",
              "\n",
              "    [theme=dark] .colab-df-convert {\n",
              "      background-color: #3B4455;\n",
              "      fill: #D2E3FC;\n",
              "    }\n",
              "\n",
              "    [theme=dark] .colab-df-convert:hover {\n",
              "      background-color: #434B5C;\n",
              "      box-shadow: 0px 1px 3px 1px rgba(0, 0, 0, 0.15);\n",
              "      filter: drop-shadow(0px 1px 2px rgba(0, 0, 0, 0.3));\n",
              "      fill: #FFFFFF;\n",
              "    }\n",
              "  </style>\n",
              "\n",
              "    <script>\n",
              "      const buttonEl =\n",
              "        document.querySelector('#df-e1257573-9ffa-486e-a9bd-6cd9d1011d10 button.colab-df-convert');\n",
              "      buttonEl.style.display =\n",
              "        google.colab.kernel.accessAllowed ? 'block' : 'none';\n",
              "\n",
              "      async function convertToInteractive(key) {\n",
              "        const element = document.querySelector('#df-e1257573-9ffa-486e-a9bd-6cd9d1011d10');\n",
              "        const dataTable =\n",
              "          await google.colab.kernel.invokeFunction('convertToInteractive',\n",
              "                                                    [key], {});\n",
              "        if (!dataTable) return;\n",
              "\n",
              "        const docLinkHtml = 'Like what you see? Visit the ' +\n",
              "          '<a target=\"_blank\" href=https://colab.research.google.com/notebooks/data_table.ipynb>data table notebook</a>'\n",
              "          + ' to learn more about interactive tables.';\n",
              "        element.innerHTML = '';\n",
              "        dataTable['output_type'] = 'display_data';\n",
              "        await google.colab.output.renderOutput(dataTable, element);\n",
              "        const docLink = document.createElement('div');\n",
              "        docLink.innerHTML = docLinkHtml;\n",
              "        element.appendChild(docLink);\n",
              "      }\n",
              "    </script>\n",
              "  </div>\n",
              "\n",
              "\n",
              "<div id=\"df-490272d0-9291-448a-8715-3fed43014550\">\n",
              "  <button class=\"colab-df-quickchart\" onclick=\"quickchart('df-490272d0-9291-448a-8715-3fed43014550')\"\n",
              "            title=\"Suggest charts\"\n",
              "            style=\"display:none;\">\n",
              "\n",
              "<svg xmlns=\"http://www.w3.org/2000/svg\" height=\"24px\"viewBox=\"0 0 24 24\"\n",
              "     width=\"24px\">\n",
              "    <g>\n",
              "        <path d=\"M19 3H5c-1.1 0-2 .9-2 2v14c0 1.1.9 2 2 2h14c1.1 0 2-.9 2-2V5c0-1.1-.9-2-2-2zM9 17H7v-7h2v7zm4 0h-2V7h2v10zm4 0h-2v-4h2v4z\"/>\n",
              "    </g>\n",
              "</svg>\n",
              "  </button>\n",
              "\n",
              "<style>\n",
              "  .colab-df-quickchart {\n",
              "      --bg-color: #E8F0FE;\n",
              "      --fill-color: #1967D2;\n",
              "      --hover-bg-color: #E2EBFA;\n",
              "      --hover-fill-color: #174EA6;\n",
              "      --disabled-fill-color: #AAA;\n",
              "      --disabled-bg-color: #DDD;\n",
              "  }\n",
              "\n",
              "  [theme=dark] .colab-df-quickchart {\n",
              "      --bg-color: #3B4455;\n",
              "      --fill-color: #D2E3FC;\n",
              "      --hover-bg-color: #434B5C;\n",
              "      --hover-fill-color: #FFFFFF;\n",
              "      --disabled-bg-color: #3B4455;\n",
              "      --disabled-fill-color: #666;\n",
              "  }\n",
              "\n",
              "  .colab-df-quickchart {\n",
              "    background-color: var(--bg-color);\n",
              "    border: none;\n",
              "    border-radius: 50%;\n",
              "    cursor: pointer;\n",
              "    display: none;\n",
              "    fill: var(--fill-color);\n",
              "    height: 32px;\n",
              "    padding: 0;\n",
              "    width: 32px;\n",
              "  }\n",
              "\n",
              "  .colab-df-quickchart:hover {\n",
              "    background-color: var(--hover-bg-color);\n",
              "    box-shadow: 0 1px 2px rgba(60, 64, 67, 0.3), 0 1px 3px 1px rgba(60, 64, 67, 0.15);\n",
              "    fill: var(--button-hover-fill-color);\n",
              "  }\n",
              "\n",
              "  .colab-df-quickchart-complete:disabled,\n",
              "  .colab-df-quickchart-complete:disabled:hover {\n",
              "    background-color: var(--disabled-bg-color);\n",
              "    fill: var(--disabled-fill-color);\n",
              "    box-shadow: none;\n",
              "  }\n",
              "\n",
              "  .colab-df-spinner {\n",
              "    border: 2px solid var(--fill-color);\n",
              "    border-color: transparent;\n",
              "    border-bottom-color: var(--fill-color);\n",
              "    animation:\n",
              "      spin 1s steps(1) infinite;\n",
              "  }\n",
              "\n",
              "  @keyframes spin {\n",
              "    0% {\n",
              "      border-color: transparent;\n",
              "      border-bottom-color: var(--fill-color);\n",
              "      border-left-color: var(--fill-color);\n",
              "    }\n",
              "    20% {\n",
              "      border-color: transparent;\n",
              "      border-left-color: var(--fill-color);\n",
              "      border-top-color: var(--fill-color);\n",
              "    }\n",
              "    30% {\n",
              "      border-color: transparent;\n",
              "      border-left-color: var(--fill-color);\n",
              "      border-top-color: var(--fill-color);\n",
              "      border-right-color: var(--fill-color);\n",
              "    }\n",
              "    40% {\n",
              "      border-color: transparent;\n",
              "      border-right-color: var(--fill-color);\n",
              "      border-top-color: var(--fill-color);\n",
              "    }\n",
              "    60% {\n",
              "      border-color: transparent;\n",
              "      border-right-color: var(--fill-color);\n",
              "    }\n",
              "    80% {\n",
              "      border-color: transparent;\n",
              "      border-right-color: var(--fill-color);\n",
              "      border-bottom-color: var(--fill-color);\n",
              "    }\n",
              "    90% {\n",
              "      border-color: transparent;\n",
              "      border-bottom-color: var(--fill-color);\n",
              "    }\n",
              "  }\n",
              "</style>\n",
              "\n",
              "  <script>\n",
              "    async function quickchart(key) {\n",
              "      const quickchartButtonEl =\n",
              "        document.querySelector('#' + key + ' button');\n",
              "      quickchartButtonEl.disabled = true;  // To prevent multiple clicks.\n",
              "      quickchartButtonEl.classList.add('colab-df-spinner');\n",
              "      try {\n",
              "        const charts = await google.colab.kernel.invokeFunction(\n",
              "            'suggestCharts', [key], {});\n",
              "      } catch (error) {\n",
              "        console.error('Error during call to suggestCharts:', error);\n",
              "      }\n",
              "      quickchartButtonEl.classList.remove('colab-df-spinner');\n",
              "      quickchartButtonEl.classList.add('colab-df-quickchart-complete');\n",
              "    }\n",
              "    (() => {\n",
              "      let quickchartButtonEl =\n",
              "        document.querySelector('#df-490272d0-9291-448a-8715-3fed43014550 button');\n",
              "      quickchartButtonEl.style.display =\n",
              "        google.colab.kernel.accessAllowed ? 'block' : 'none';\n",
              "    })();\n",
              "  </script>\n",
              "</div>\n",
              "\n",
              "    </div>\n",
              "  </div>\n"
            ],
            "application/vnd.google.colaboratory.intrinsic+json": {
              "type": "dataframe",
              "variable_name": "X"
            }
          },
          "metadata": {},
          "execution_count": 100
        }
      ]
    },
    {
      "cell_type": "code",
      "source": [
        "X.info()"
      ],
      "metadata": {
        "colab": {
          "base_uri": "https://localhost:8080/"
        },
        "id": "OoxgkAJzjud2",
        "outputId": "92023a96-be52-453d-b823-3297197f8d85"
      },
      "execution_count": 101,
      "outputs": [
        {
          "output_type": "stream",
          "name": "stdout",
          "text": [
            "<class 'pandas.core.frame.DataFrame'>\n",
            "RangeIndex: 40000 entries, 0 to 39999\n",
            "Data columns (total 22 columns):\n",
            " #   Column                  Non-Null Count  Dtype \n",
            "---  ------                  --------------  ----- \n",
            " 0   age                     40000 non-null  int64 \n",
            " 1   balance                 40000 non-null  int64 \n",
            " 2   has_credit_default_yes  40000 non-null  bool  \n",
            " 3   job_blue-collar         40000 non-null  bool  \n",
            " 4   job_entrepreneur        40000 non-null  bool  \n",
            " 5   job_housemaid           40000 non-null  bool  \n",
            " 6   job_management          40000 non-null  bool  \n",
            " 7   job_retired             40000 non-null  bool  \n",
            " 8   job_self-employed       40000 non-null  bool  \n",
            " 9   job_services            40000 non-null  bool  \n",
            " 10  job_student             40000 non-null  bool  \n",
            " 11  job_technician          40000 non-null  bool  \n",
            " 12  job_unemployed          40000 non-null  bool  \n",
            " 13  job_unknown             40000 non-null  bool  \n",
            " 14  marital_married         40000 non-null  bool  \n",
            " 15  marital_single          40000 non-null  bool  \n",
            " 16  education_secondary     40000 non-null  bool  \n",
            " 17  education_tertiary      40000 non-null  bool  \n",
            " 18  education_unknown       40000 non-null  bool  \n",
            " 19  housing_loan?_yes       40000 non-null  bool  \n",
            " 20  personal_loan_yes       40000 non-null  bool  \n",
            " 21  predicted_subscribed    40000 non-null  object\n",
            "dtypes: bool(19), int64(2), object(1)\n",
            "memory usage: 1.6+ MB\n"
          ]
        }
      ]
    },
    {
      "cell_type": "code",
      "source": [
        "df.info()"
      ],
      "metadata": {
        "colab": {
          "base_uri": "https://localhost:8080/"
        },
        "id": "_XjWaXnikzS0",
        "outputId": "f448bafb-51b0-43ca-ed65-f4ffdfb8ef8b"
      },
      "execution_count": 102,
      "outputs": [
        {
          "output_type": "stream",
          "name": "stdout",
          "text": [
            "<class 'pandas.core.frame.DataFrame'>\n",
            "RangeIndex: 40000 entries, 0 to 39999\n",
            "Data columns (total 14 columns):\n",
            " #   Column                          Non-Null Count  Dtype \n",
            "---  ------                          --------------  ----- \n",
            " 0   age                             40000 non-null  int64 \n",
            " 1   job                             40000 non-null  object\n",
            " 2   marital                         40000 non-null  object\n",
            " 3   education                       40000 non-null  object\n",
            " 4   has_credit_default              40000 non-null  object\n",
            " 5   balance                         40000 non-null  int64 \n",
            " 6   housing_loan?                   40000 non-null  object\n",
            " 7   personal_loan                   40000 non-null  object\n",
            " 8   communication_type              40000 non-null  object\n",
            " 9   last_contacted_day              40000 non-null  int64 \n",
            " 10  last_contacted_month            40000 non-null  object\n",
            " 11  contact_duration                40000 non-null  int64 \n",
            " 12  number_of_contacts_in_campaign  40000 non-null  int64 \n",
            " 13  client_subscribed?              40000 non-null  object\n",
            "dtypes: int64(5), object(9)\n",
            "memory usage: 4.3+ MB\n"
          ]
        }
      ]
    },
    {
      "cell_type": "code",
      "source": [
        "# Step 3: Retrieve the 'duration' column from the original DataFrame (assuming it's called 'duration')\n",
        "duration_column = df['contact_duration']\n",
        "\n",
        "# Step 4: Add the 'duration' column back to the DataFrame\n",
        "X['call_duration'] = duration_column\n",
        "\n",
        "# Step 5: Filter the rows where 'predicted_subscribed' is 'Subscribed' (assuming 1 is subscribed)\n",
        "subscribers_df = X[X['predicted_subscribed'] == 'yes']\n",
        "\n",
        "\n",
        "# Step 6: Sum the 'duration' column for the filtered subscribers\n",
        "total_duration_subscribers = subscribers_df['call_duration'].sum()\n",
        "total_call_duration_all = X['call_duration'].sum()"
      ],
      "metadata": {
        "id": "KRbX0SRrbohf"
      },
      "execution_count": 103,
      "outputs": []
    },
    {
      "cell_type": "code",
      "source": [
        "print(f\"Total Duration for Predicted Subscribers (in hours): {total_duration_subscribers / 3600}\")"
      ],
      "metadata": {
        "colab": {
          "base_uri": "https://localhost:8080/"
        },
        "id": "cR-60EBNk5fA",
        "outputId": "bd070e45-2761-49bf-a184-9facbb3eae74"
      },
      "execution_count": 104,
      "outputs": [
        {
          "output_type": "stream",
          "name": "stdout",
          "text": [
            "Total Duration for Predicted Subscribers (in hours): 1328.8427777777779\n"
          ]
        }
      ]
    },
    {
      "cell_type": "code",
      "source": [
        "print(f\"Total Duration for all calls made (in hours): {total_call_duration_all / 3600}\")"
      ],
      "metadata": {
        "colab": {
          "base_uri": "https://localhost:8080/"
        },
        "id": "Mw6pAve2k5bJ",
        "outputId": "12bf2304-bf7f-4346-b538-a0d57fe0a3ca"
      },
      "execution_count": 105,
      "outputs": [
        {
          "output_type": "stream",
          "name": "stdout",
          "text": [
            "Total Duration for all calls made (in hours): 2831.3811111111113\n"
          ]
        }
      ]
    },
    {
      "cell_type": "markdown",
      "source": [
        "\n",
        "*   The total duration for all calls made: ~2,831 hours\n",
        "*   The total duration for all calls made to predicted subscribers: ~1,329 hours\n",
        "\n",
        "We are saving more than half the time for the startup by only selecting a subset of customers to call who are more likely to subscribe than others.\n",
        "\n",
        "***Instead of calling 40,000 customers, by calling only 18,849 of them predicted by our model, we can save up to 1500 hours of call time!!***\n",
        "\n"
      ],
      "metadata": {
        "id": "PRXgPf7SlnQS"
      }
    },
    {
      "cell_type": "code",
      "source": [
        "subscribers_df.info()"
      ],
      "metadata": {
        "colab": {
          "base_uri": "https://localhost:8080/"
        },
        "id": "rTU3yEC6mjBW",
        "outputId": "e237e231-5829-41a4-9b6d-3cc39cc404da"
      },
      "execution_count": 106,
      "outputs": [
        {
          "output_type": "stream",
          "name": "stdout",
          "text": [
            "<class 'pandas.core.frame.DataFrame'>\n",
            "Index: 18849 entries, 1 to 39998\n",
            "Data columns (total 23 columns):\n",
            " #   Column                  Non-Null Count  Dtype \n",
            "---  ------                  --------------  ----- \n",
            " 0   age                     18849 non-null  int64 \n",
            " 1   balance                 18849 non-null  int64 \n",
            " 2   has_credit_default_yes  18849 non-null  bool  \n",
            " 3   job_blue-collar         18849 non-null  bool  \n",
            " 4   job_entrepreneur        18849 non-null  bool  \n",
            " 5   job_housemaid           18849 non-null  bool  \n",
            " 6   job_management          18849 non-null  bool  \n",
            " 7   job_retired             18849 non-null  bool  \n",
            " 8   job_self-employed       18849 non-null  bool  \n",
            " 9   job_services            18849 non-null  bool  \n",
            " 10  job_student             18849 non-null  bool  \n",
            " 11  job_technician          18849 non-null  bool  \n",
            " 12  job_unemployed          18849 non-null  bool  \n",
            " 13  job_unknown             18849 non-null  bool  \n",
            " 14  marital_married         18849 non-null  bool  \n",
            " 15  marital_single          18849 non-null  bool  \n",
            " 16  education_secondary     18849 non-null  bool  \n",
            " 17  education_tertiary      18849 non-null  bool  \n",
            " 18  education_unknown       18849 non-null  bool  \n",
            " 19  housing_loan?_yes       18849 non-null  bool  \n",
            " 20  personal_loan_yes       18849 non-null  bool  \n",
            " 21  predicted_subscribed    18849 non-null  object\n",
            " 22  call_duration           18849 non-null  int64 \n",
            "dtypes: bool(19), int64(3), object(1)\n",
            "memory usage: 1.1+ MB\n"
          ]
        }
      ]
    },
    {
      "cell_type": "code",
      "source": [
        "# Assuming your DataFrame is called 'first_layer_df_encoded'\n",
        "# Step 1: Select the relevant columns\n",
        "customer_type_columns = [\n",
        "    'has_credit_default_yes',\n",
        "    'job_blue-collar',\n",
        "    'job_entrepreneur',\n",
        "    'job_housemaid',\n",
        "    'job_management',\n",
        "    'job_retired',\n",
        "    'job_self-employed',\n",
        "    'job_services',\n",
        "    'job_student',\n",
        "    'job_technician',\n",
        "    'job_unemployed',\n",
        "    'job_unknown'\n",
        "]\n",
        "\n",
        "# Step 2: Sum the values for each column to get the count of customers in each type\n",
        "customer_type_counts = subscribers_df[customer_type_columns].sum()\n",
        "\n",
        "# Step 3: Plot the bar chart\n",
        "plt.figure(figsize=(10,5))\n",
        "customer_type_counts.plot(kind='bar', color='skyblue')\n",
        "plt.title('Sum of Customers by Type')\n",
        "plt.xlabel('Customer Type')\n",
        "plt.ylabel('Number of Customers')\n",
        "plt.xticks(rotation=45)\n",
        "plt.tight_layout()\n",
        "plt.show()"
      ],
      "metadata": {
        "colab": {
          "base_uri": "https://localhost:8080/",
          "height": 506
        },
        "id": "8-AUTMNQk5So",
        "outputId": "5939c776-e421-41a7-b90d-5ee8de3155eb"
      },
      "execution_count": 107,
      "outputs": [
        {
          "output_type": "display_data",
          "data": {
            "text/plain": [
              "<Figure size 1000x500 with 1 Axes>"
            ],
            "image/png": "[encoded data removed]"
          },
          "metadata": {}
        }
      ]
    },
    {
      "cell_type": "markdown",
      "source": [
        "We see our ML model also focuses mainly on people with managerial level roles, technicians, retired individuals (this should not be the case) and also those who have defaulted before (this should also not be the case). Perhaps these two are causing our model to have a lower accuracy."
      ],
      "metadata": {
        "id": "e9oQcsUPnFBW"
      }
    },
    {
      "cell_type": "markdown",
      "metadata": {
        "id": "lgUGAwehhuhi"
      },
      "source": [
        "### 2nd Layer: Call Persistence (Retention Model)"
      ]
    },
    {
      "cell_type": "markdown",
      "metadata": {
        "id": "4WTFqFvADu9d"
      },
      "source": [
        "Our 2nd layer will now focus on these predicted customers who are likely to subscribe. Now we will access campaign related data and build a ML model to predict which customers we should keep calling. We will only select those 18,849 customers that our model predict are likely to subscribe based on their demographic data."
      ]
    },
    {
      "cell_type": "code",
      "source": [
        "# Instead of running the whole layer 1 code, we will now add code so we can resume from here\n",
        "columns_to_add_back = ['communication_type', 'last_contacted_day', 'last_contacted_month', 'contact_duration', 'number_of_contacts_in_campaign', 'client_subscribed?']\n",
        "X[columns_to_add_back] = df[columns_to_add_back]"
      ],
      "metadata": {
        "id": "1TO3cdldLTOC"
      },
      "execution_count": 108,
      "outputs": []
    },
    {
      "cell_type": "code",
      "source": [
        "All_data = X\n",
        "# Save the DataFrame as a CSV file\n",
        "# Define the path where you want to save the file in Google Drive\n",
        "csv_file_path = 'all_df.csv'\n",
        "All_data.to_csv(csv_file_path, index=False)\n",
        "\n",
        "\n",
        "print(f\"DataFrame saved successfully to current directory!\")"
      ],
      "metadata": {
        "colab": {
          "base_uri": "https://localhost:8080/"
        },
        "id": "CbsPOkJbQCf6",
        "outputId": "3cd29573-4bd0-476b-c85d-d93f58ae9026"
      },
      "execution_count": 109,
      "outputs": [
        {
          "output_type": "stream",
          "name": "stdout",
          "text": [
            "DataFrame saved successfully to current directory!\n"
          ]
        }
      ]
    },
    {
      "cell_type": "code",
      "source": [
        "layer_2_data = pd.read_csv('all_df.csv')"
      ],
      "metadata": {
        "id": "pvA--42OQMii"
      },
      "execution_count": 110,
      "outputs": []
    },
    {
      "cell_type": "code",
      "source": [
        "layer_2_data.info()"
      ],
      "metadata": {
        "colab": {
          "base_uri": "https://localhost:8080/"
        },
        "id": "czg_UuaGQRKG",
        "outputId": "2259d3e2-a2e3-4b2f-8e48-9ab7d695aa27"
      },
      "execution_count": 111,
      "outputs": [
        {
          "output_type": "stream",
          "name": "stdout",
          "text": [
            "<class 'pandas.core.frame.DataFrame'>\n",
            "RangeIndex: 40000 entries, 0 to 39999\n",
            "Data columns (total 29 columns):\n",
            " #   Column                          Non-Null Count  Dtype \n",
            "---  ------                          --------------  ----- \n",
            " 0   age                             40000 non-null  int64 \n",
            " 1   balance                         40000 non-null  int64 \n",
            " 2   has_credit_default_yes          40000 non-null  bool  \n",
            " 3   job_blue-collar                 40000 non-null  bool  \n",
            " 4   job_entrepreneur                40000 non-null  bool  \n",
            " 5   job_housemaid                   40000 non-null  bool  \n",
            " 6   job_management                  40000 non-null  bool  \n",
            " 7   job_retired                     40000 non-null  bool  \n",
            " 8   job_self-employed               40000 non-null  bool  \n",
            " 9   job_services                    40000 non-null  bool  \n",
            " 10  job_student                     40000 non-null  bool  \n",
            " 11  job_technician                  40000 non-null  bool  \n",
            " 12  job_unemployed                  40000 non-null  bool  \n",
            " 13  job_unknown                     40000 non-null  bool  \n",
            " 14  marital_married                 40000 non-null  bool  \n",
            " 15  marital_single                  40000 non-null  bool  \n",
            " 16  education_secondary             40000 non-null  bool  \n",
            " 17  education_tertiary              40000 non-null  bool  \n",
            " 18  education_unknown               40000 non-null  bool  \n",
            " 19  housing_loan?_yes               40000 non-null  bool  \n",
            " 20  personal_loan_yes               40000 non-null  bool  \n",
            " 21  predicted_subscribed            40000 non-null  object\n",
            " 22  call_duration                   40000 non-null  int64 \n",
            " 23  communication_type              40000 non-null  object\n",
            " 24  last_contacted_day              40000 non-null  int64 \n",
            " 25  last_contacted_month            40000 non-null  object\n",
            " 26  contact_duration                40000 non-null  int64 \n",
            " 27  number_of_contacts_in_campaign  40000 non-null  int64 \n",
            " 28  client_subscribed?              40000 non-null  object\n",
            "dtypes: bool(19), int64(6), object(4)\n",
            "memory usage: 3.8+ MB\n"
          ]
        }
      ]
    },
    {
      "cell_type": "code",
      "source": [
        "# Let us now drop the predicted_subscribed column as now there is no need for it, we will work with original predictions\n",
        "layer_2_data = layer_2_data.drop(columns=['predicted_subscribed'])"
      ],
      "metadata": {
        "id": "eRdAxSN8RQAT"
      },
      "execution_count": 112,
      "outputs": []
    },
    {
      "cell_type": "code",
      "source": [
        "# Separate features (X) and target (y)\n",
        "X = layer_2_data.drop(columns=['client_subscribed?'])\n",
        "y = layer_2_data['client_subscribed?']"
      ],
      "metadata": {
        "id": "hWgc3PkANLx-"
      },
      "execution_count": 120,
      "outputs": []
    },
    {
      "cell_type": "code",
      "source": [
        "# Step 2: Apply pd.get_dummies to categorical columns\n",
        "X = pd.get_dummies(X, columns=['communication_type', 'last_contacted_day', 'last_contacted_month'], drop_first=True)\n",
        "\n",
        "# Step 3: Train-test split (BEFORE applying SMOTE)\n",
        "X_train, X_test, y_train, y_test = train_test_split(X, y, test_size=0.25, random_state=random_seed)"
      ],
      "metadata": {
        "id": "N6UDlHO0NLvD"
      },
      "execution_count": 121,
      "outputs": []
    },
    {
      "cell_type": "code",
      "source": [
        "# Verify the shapes of the splits\n",
        "print(f\"X_train shape: {X_train.shape}\")\n",
        "print(f\"X_test shape: {X_test.shape}\")\n",
        "print(f\"y_train shape: {y_train.shape}\")\n",
        "print(f\"y_test shape: {y_test.shape}\")"
      ],
      "metadata": {
        "colab": {
          "base_uri": "https://localhost:8080/"
        },
        "id": "dtdQC8e4NLoR",
        "outputId": "cb4c2b73-e8a4-4722-fc77-8771181445ca"
      },
      "execution_count": 122,
      "outputs": [
        {
          "output_type": "stream",
          "name": "stdout",
          "text": [
            "X_train shape: (30000, 66)\n",
            "X_test shape: (10000, 66)\n",
            "y_train shape: (30000,)\n",
            "y_test shape: (10000,)\n"
          ]
        }
      ]
    },
    {
      "cell_type": "code",
      "source": [
        "X.head()"
      ],
      "metadata": {
        "colab": {
          "base_uri": "https://localhost:8080/",
          "height": 273
        },
        "id": "6EZiWpqJNKlF",
        "outputId": "76fe55c5-d461-4e62-b2c6-83148101c420"
      },
      "execution_count": 123,
      "outputs": [
        {
          "output_type": "execute_result",
          "data": {
            "text/plain": [
              "   age  balance  has_credit_default_yes  job_blue-collar  job_entrepreneur  \\\n",
              "0   58     2143                   False            False             False   \n",
              "1   44       29                   False            False             False   \n",
              "2   33        2                   False            False              True   \n",
              "3   47     1506                   False             True             False   \n",
              "4   33        1                   False            False             False   \n",
              "\n",
              "   job_housemaid  job_management  job_retired  job_self-employed  \\\n",
              "0          False            True        False              False   \n",
              "1          False           False        False              False   \n",
              "2          False           False        False              False   \n",
              "3          False           False        False              False   \n",
              "4          False           False        False              False   \n",
              "\n",
              "   job_services  ...  last_contacted_month_aug  last_contacted_month_dec  \\\n",
              "0         False  ...                     False                     False   \n",
              "1         False  ...                     False                     False   \n",
              "2         False  ...                     False                     False   \n",
              "3         False  ...                     False                     False   \n",
              "4         False  ...                     False                     False   \n",
              "\n",
              "   last_contacted_month_feb  last_contacted_month_jan  \\\n",
              "0                     False                     False   \n",
              "1                     False                     False   \n",
              "2                     False                     False   \n",
              "3                     False                     False   \n",
              "4                     False                     False   \n",
              "\n",
              "   last_contacted_month_jul  last_contacted_month_jun  \\\n",
              "0                     False                     False   \n",
              "1                     False                     False   \n",
              "2                     False                     False   \n",
              "3                     False                     False   \n",
              "4                     False                     False   \n",
              "\n",
              "   last_contacted_month_mar  last_contacted_month_may  \\\n",
              "0                     False                      True   \n",
              "1                     False                      True   \n",
              "2                     False                      True   \n",
              "3                     False                      True   \n",
              "4                     False                      True   \n",
              "\n",
              "   last_contacted_month_nov  last_contacted_month_oct  \n",
              "0                     False                     False  \n",
              "1                     False                     False  \n",
              "2                     False                     False  \n",
              "3                     False                     False  \n",
              "4                     False                     False  \n",
              "\n",
              "[5 rows x 66 columns]"
            ],
            "text/html": [
              "\n",
              "  <div id=\"df-ddafcb1b-c158-48e0-9f97-ecaf4b8f700f\" class=\"colab-df-container\">\n",
              "    <div>\n",
              "<style scoped>\n",
              "    .dataframe tbody tr th:only-of-type {\n",
              "        vertical-align: middle;\n",
              "    }\n",
              "\n",
              "    .dataframe tbody tr th {\n",
              "        vertical-align: top;\n",
              "    }\n",
              "\n",
              "    .dataframe thead th {\n",
              "        text-align: right;\n",
              "    }\n",
              "</style>\n",
              "<table border=\"1\" class=\"dataframe\">\n",
              "  <thead>\n",
              "    <tr style=\"text-align: right;\">\n",
              "      <th></th>\n",
              "      <th>age</th>\n",
              "      <th>balance</th>\n",
              "      <th>has_credit_default_yes</th>\n",
              "      <th>job_blue-collar</th>\n",
              "      <th>job_entrepreneur</th>\n",
              "      <th>job_housemaid</th>\n",
              "      <th>job_management</th>\n",
              "      <th>job_retired</th>\n",
              "      <th>job_self-employed</th>\n",
              "      <th>job_services</th>\n",
              "      <th>...</th>\n",
              "      <th>last_contacted_month_aug</th>\n",
              "      <th>last_contacted_month_dec</th>\n",
              "      <th>last_contacted_month_feb</th>\n",
              "      <th>last_contacted_month_jan</th>\n",
              "      <th>last_contacted_month_jul</th>\n",
              "      <th>last_contacted_month_jun</th>\n",
              "      <th>last_contacted_month_mar</th>\n",
              "      <th>last_contacted_month_may</th>\n",
              "      <th>last_contacted_month_nov</th>\n",
              "      <th>last_contacted_month_oct</th>\n",
              "    </tr>\n",
              "  </thead>\n",
              "  <tbody>\n",
              "    <tr>\n",
              "      <th>0</th>\n",
              "      <td>58</td>\n",
              "      <td>2143</td>\n",
              "      <td>False</td>\n",
              "      <td>False</td>\n",
              "      <td>False</td>\n",
              "      <td>False</td>\n",
              "      <td>True</td>\n",
              "      <td>False</td>\n",
              "      <td>False</td>\n",
              "      <td>False</td>\n",
              "      <td>...</td>\n",
              "      <td>False</td>\n",
              "      <td>False</td>\n",
              "      <td>False</td>\n",
              "      <td>False</td>\n",
              "      <td>False</td>\n",
              "      <td>False</td>\n",
              "      <td>False</td>\n",
              "      <td>True</td>\n",
              "      <td>False</td>\n",
              "      <td>False</td>\n",
              "    </tr>\n",
              "    <tr>\n",
              "      <th>1</th>\n",
              "      <td>44</td>\n",
              "      <td>29</td>\n",
              "      <td>False</td>\n",
              "      <td>False</td>\n",
              "      <td>False</td>\n",
              "      <td>False</td>\n",
              "      <td>False</td>\n",
              "      <td>False</td>\n",
              "      <td>False</td>\n",
              "      <td>False</td>\n",
              "      <td>...</td>\n",
              "      <td>False</td>\n",
              "      <td>False</td>\n",
              "      <td>False</td>\n",
              "      <td>False</td>\n",
              "      <td>False</td>\n",
              "      <td>False</td>\n",
              "      <td>False</td>\n",
              "      <td>True</td>\n",
              "      <td>False</td>\n",
              "      <td>False</td>\n",
              "    </tr>\n",
              "    <tr>\n",
              "      <th>2</th>\n",
              "      <td>33</td>\n",
              "      <td>2</td>\n",
              "      <td>False</td>\n",
              "      <td>False</td>\n",
              "      <td>True</td>\n",
              "      <td>False</td>\n",
              "      <td>False</td>\n",
              "      <td>False</td>\n",
              "      <td>False</td>\n",
              "      <td>False</td>\n",
              "      <td>...</td>\n",
              "      <td>False</td>\n",
              "      <td>False</td>\n",
              "      <td>False</td>\n",
              "      <td>False</td>\n",
              "      <td>False</td>\n",
              "      <td>False</td>\n",
              "      <td>False</td>\n",
              "      <td>True</td>\n",
              "      <td>False</td>\n",
              "      <td>False</td>\n",
              "    </tr>\n",
              "    <tr>\n",
              "      <th>3</th>\n",
              "      <td>47</td>\n",
              "      <td>1506</td>\n",
              "      <td>False</td>\n",
              "      <td>True</td>\n",
              "      <td>False</td>\n",
              "      <td>False</td>\n",
              "      <td>False</td>\n",
              "      <td>False</td>\n",
              "      <td>False</td>\n",
              "      <td>False</td>\n",
              "      <td>...</td>\n",
              "      <td>False</td>\n",
              "      <td>False</td>\n",
              "      <td>False</td>\n",
              "      <td>False</td>\n",
              "      <td>False</td>\n",
              "      <td>False</td>\n",
              "      <td>False</td>\n",
              "      <td>True</td>\n",
              "      <td>False</td>\n",
              "      <td>False</td>\n",
              "    </tr>\n",
              "    <tr>\n",
              "      <th>4</th>\n",
              "      <td>33</td>\n",
              "      <td>1</td>\n",
              "      <td>False</td>\n",
              "      <td>False</td>\n",
              "      <td>False</td>\n",
              "      <td>False</td>\n",
              "      <td>False</td>\n",
              "      <td>False</td>\n",
              "      <td>False</td>\n",
              "      <td>False</td>\n",
              "      <td>...</td>\n",
              "      <td>False</td>\n",
              "      <td>False</td>\n",
              "      <td>False</td>\n",
              "      <td>False</td>\n",
              "      <td>False</td>\n",
              "      <td>False</td>\n",
              "      <td>False</td>\n",
              "      <td>True</td>\n",
              "      <td>False</td>\n",
              "      <td>False</td>\n",
              "    </tr>\n",
              "  </tbody>\n",
              "</table>\n",
              "<p>5 rows × 66 columns</p>\n",
              "</div>\n",
              "    <div class=\"colab-df-buttons\">\n",
              "\n",
              "  <div class=\"colab-df-container\">\n",
              "    <button class=\"colab-df-convert\" onclick=\"convertToInteractive('df-ddafcb1b-c158-48e0-9f97-ecaf4b8f700f')\"\n",
              "            title=\"Convert this dataframe to an interactive table.\"\n",
              "            style=\"display:none;\">\n",
              "\n",
              "  <svg xmlns=\"http://www.w3.org/2000/svg\" height=\"24px\" viewBox=\"0 -960 960 960\">\n",
              "    <path d=\"M120-120v-720h720v720H120Zm60-500h600v-160H180v160Zm220 220h160v-160H400v160Zm0 220h160v-160H400v160ZM180-400h160v-160H180v160Zm440 0h160v-160H620v160ZM180-180h160v-160H180v160Zm440 0h160v-160H620v160Z\"/>\n",
              "  </svg>\n",
              "    </button>\n",
              "\n",
              "  <style>\n",
              "    .colab-df-container {\n",
              "      display:flex;\n",
              "      gap: 12px;\n",
              "    }\n",
              "\n",
              "    .colab-df-convert {\n",
              "      background-color: #E8F0FE;\n",
              "      border: none;\n",
              "      border-radius: 50%;\n",
              "      cursor: pointer;\n",
              "      display: none;\n",
              "      fill: #1967D2;\n",
              "      height: 32px;\n",
              "      padding: 0 0 0 0;\n",
              "      width: 32px;\n",
              "    }\n",
              "\n",
              "    .colab-df-convert:hover {\n",
              "      background-color: #E2EBFA;\n",
              "      box-shadow: 0px 1px 2px rgba(60, 64, 67, 0.3), 0px 1px 3px 1px rgba(60, 64, 67, 0.15);\n",
              "      fill: #174EA6;\n",
              "    }\n",
              "\n",
              "    .colab-df-buttons div {\n",
              "      margin-bottom: 4px;\n",
              "    }\n",
              "\n",
              "    [theme=dark] .colab-df-convert {\n",
              "      background-color: #3B4455;\n",
              "      fill: #D2E3FC;\n",
              "    }\n",
              "\n",
              "    [theme=dark] .colab-df-convert:hover {\n",
              "      background-color: #434B5C;\n",
              "      box-shadow: 0px 1px 3px 1px rgba(0, 0, 0, 0.15);\n",
              "      filter: drop-shadow(0px 1px 2px rgba(0, 0, 0, 0.3));\n",
              "      fill: #FFFFFF;\n",
              "    }\n",
              "  </style>\n",
              "\n",
              "    <script>\n",
              "      const buttonEl =\n",
              "        document.querySelector('#df-ddafcb1b-c158-48e0-9f97-ecaf4b8f700f button.colab-df-convert');\n",
              "      buttonEl.style.display =\n",
              "        google.colab.kernel.accessAllowed ? 'block' : 'none';\n",
              "\n",
              "      async function convertToInteractive(key) {\n",
              "        const element = document.querySelector('#df-ddafcb1b-c158-48e0-9f97-ecaf4b8f700f');\n",
              "        const dataTable =\n",
              "          await google.colab.kernel.invokeFunction('convertToInteractive',\n",
              "                                                    [key], {});\n",
              "        if (!dataTable) return;\n",
              "\n",
              "        const docLinkHtml = 'Like what you see? Visit the ' +\n",
              "          '<a target=\"_blank\" href=https://colab.research.google.com/notebooks/data_table.ipynb>data table notebook</a>'\n",
              "          + ' to learn more about interactive tables.';\n",
              "        element.innerHTML = '';\n",
              "        dataTable['output_type'] = 'display_data';\n",
              "        await google.colab.output.renderOutput(dataTable, element);\n",
              "        const docLink = document.createElement('div');\n",
              "        docLink.innerHTML = docLinkHtml;\n",
              "        element.appendChild(docLink);\n",
              "      }\n",
              "    </script>\n",
              "  </div>\n",
              "\n",
              "\n",
              "<div id=\"df-bca134f0-6e8e-4ccd-83e5-17352c38ca35\">\n",
              "  <button class=\"colab-df-quickchart\" onclick=\"quickchart('df-bca134f0-6e8e-4ccd-83e5-17352c38ca35')\"\n",
              "            title=\"Suggest charts\"\n",
              "            style=\"display:none;\">\n",
              "\n",
              "<svg xmlns=\"http://www.w3.org/2000/svg\" height=\"24px\"viewBox=\"0 0 24 24\"\n",
              "     width=\"24px\">\n",
              "    <g>\n",
              "        <path d=\"M19 3H5c-1.1 0-2 .9-2 2v14c0 1.1.9 2 2 2h14c1.1 0 2-.9 2-2V5c0-1.1-.9-2-2-2zM9 17H7v-7h2v7zm4 0h-2V7h2v10zm4 0h-2v-4h2v4z\"/>\n",
              "    </g>\n",
              "</svg>\n",
              "  </button>\n",
              "\n",
              "<style>\n",
              "  .colab-df-quickchart {\n",
              "      --bg-color: #E8F0FE;\n",
              "      --fill-color: #1967D2;\n",
              "      --hover-bg-color: #E2EBFA;\n",
              "      --hover-fill-color: #174EA6;\n",
              "      --disabled-fill-color: #AAA;\n",
              "      --disabled-bg-color: #DDD;\n",
              "  }\n",
              "\n",
              "  [theme=dark] .colab-df-quickchart {\n",
              "      --bg-color: #3B4455;\n",
              "      --fill-color: #D2E3FC;\n",
              "      --hover-bg-color: #434B5C;\n",
              "      --hover-fill-color: #FFFFFF;\n",
              "      --disabled-bg-color: #3B4455;\n",
              "      --disabled-fill-color: #666;\n",
              "  }\n",
              "\n",
              "  .colab-df-quickchart {\n",
              "    background-color: var(--bg-color);\n",
              "    border: none;\n",
              "    border-radius: 50%;\n",
              "    cursor: pointer;\n",
              "    display: none;\n",
              "    fill: var(--fill-color);\n",
              "    height: 32px;\n",
              "    padding: 0;\n",
              "    width: 32px;\n",
              "  }\n",
              "\n",
              "  .colab-df-quickchart:hover {\n",
              "    background-color: var(--hover-bg-color);\n",
              "    box-shadow: 0 1px 2px rgba(60, 64, 67, 0.3), 0 1px 3px 1px rgba(60, 64, 67, 0.15);\n",
              "    fill: var(--button-hover-fill-color);\n",
              "  }\n",
              "\n",
              "  .colab-df-quickchart-complete:disabled,\n",
              "  .colab-df-quickchart-complete:disabled:hover {\n",
              "    background-color: var(--disabled-bg-color);\n",
              "    fill: var(--disabled-fill-color);\n",
              "    box-shadow: none;\n",
              "  }\n",
              "\n",
              "  .colab-df-spinner {\n",
              "    border: 2px solid var(--fill-color);\n",
              "    border-color: transparent;\n",
              "    border-bottom-color: var(--fill-color);\n",
              "    animation:\n",
              "      spin 1s steps(1) infinite;\n",
              "  }\n",
              "\n",
              "  @keyframes spin {\n",
              "    0% {\n",
              "      border-color: transparent;\n",
              "      border-bottom-color: var(--fill-color);\n",
              "      border-left-color: var(--fill-color);\n",
              "    }\n",
              "    20% {\n",
              "      border-color: transparent;\n",
              "      border-left-color: var(--fill-color);\n",
              "      border-top-color: var(--fill-color);\n",
              "    }\n",
              "    30% {\n",
              "      border-color: transparent;\n",
              "      border-left-color: var(--fill-color);\n",
              "      border-top-color: var(--fill-color);\n",
              "      border-right-color: var(--fill-color);\n",
              "    }\n",
              "    40% {\n",
              "      border-color: transparent;\n",
              "      border-right-color: var(--fill-color);\n",
              "      border-top-color: var(--fill-color);\n",
              "    }\n",
              "    60% {\n",
              "      border-color: transparent;\n",
              "      border-right-color: var(--fill-color);\n",
              "    }\n",
              "    80% {\n",
              "      border-color: transparent;\n",
              "      border-right-color: var(--fill-color);\n",
              "      border-bottom-color: var(--fill-color);\n",
              "    }\n",
              "    90% {\n",
              "      border-color: transparent;\n",
              "      border-bottom-color: var(--fill-color);\n",
              "    }\n",
              "  }\n",
              "</style>\n",
              "\n",
              "  <script>\n",
              "    async function quickchart(key) {\n",
              "      const quickchartButtonEl =\n",
              "        document.querySelector('#' + key + ' button');\n",
              "      quickchartButtonEl.disabled = true;  // To prevent multiple clicks.\n",
              "      quickchartButtonEl.classList.add('colab-df-spinner');\n",
              "      try {\n",
              "        const charts = await google.colab.kernel.invokeFunction(\n",
              "            'suggestCharts', [key], {});\n",
              "      } catch (error) {\n",
              "        console.error('Error during call to suggestCharts:', error);\n",
              "      }\n",
              "      quickchartButtonEl.classList.remove('colab-df-spinner');\n",
              "      quickchartButtonEl.classList.add('colab-df-quickchart-complete');\n",
              "    }\n",
              "    (() => {\n",
              "      let quickchartButtonEl =\n",
              "        document.querySelector('#df-bca134f0-6e8e-4ccd-83e5-17352c38ca35 button');\n",
              "      quickchartButtonEl.style.display =\n",
              "        google.colab.kernel.accessAllowed ? 'block' : 'none';\n",
              "    })();\n",
              "  </script>\n",
              "</div>\n",
              "\n",
              "    </div>\n",
              "  </div>\n"
            ],
            "application/vnd.google.colaboratory.intrinsic+json": {
              "type": "dataframe",
              "variable_name": "X"
            }
          },
          "metadata": {},
          "execution_count": 123
        }
      ]
    },
    {
      "cell_type": "code",
      "source": [
        "# Now we will run lazy classifier to see which model perfomrs best in predicting which customers should we keep calling\n",
        "\n",
        "# Select a random subset (e.g., 20% of the balanced training data) for faster model exploration\n",
        "subset_percentage = 0.2\n",
        "X_train_subset, y_train_subset = X_train.sample(frac=subset_percentage, random_state=random_seed), y_train.sample(frac=subset_percentage, random_state=random_seed)\n",
        "\n",
        "from lazypredict.Supervised import LazyClassifier\n",
        "clf = LazyClassifier(verbose=0, ignore_warnings=True, custom_metric=None, random_state=random_seed)\n",
        "models, predictions = clf.fit(X_train_subset, X_test, y_train_subset, y_test)\n",
        "\n",
        "\n",
        "\n",
        "print(\"LazyPredict Model Performance:\")\n",
        "print(models)"
      ],
      "metadata": {
        "colab": {
          "base_uri": "https://localhost:8080/"
        },
        "id": "KWbAbB2LOfmf",
        "outputId": "f26666f2-2fa5-4819-a2e9-003127105de5"
      },
      "execution_count": 124,
      "outputs": [
        {
          "output_type": "stream",
          "name": "stderr",
          "text": [
            "100%|██████████| 31/31 [00:32<00:00,  1.04s/it]"
          ]
        },
        {
          "output_type": "stream",
          "name": "stdout",
          "text": [
            "LazyPredict Model Performance:\n",
            "                               Accuracy  Balanced Accuracy ROC AUC  F1 Score  \\\n",
            "Model                                                                          \n",
            "NearestCentroid                    0.89               0.79    None      0.91   \n",
            "PassiveAggressiveClassifier        0.90               0.77    None      0.91   \n",
            "GaussianNB                         0.93               0.74    None      0.93   \n",
            "LinearDiscriminantAnalysis         0.93               0.68    None      0.93   \n",
            "QuadraticDiscriminantAnalysis      0.93               0.67    None      0.93   \n",
            "SGDClassifier                      0.93               0.66    None      0.92   \n",
            "ExtraTreeClassifier                0.90               0.64    None      0.90   \n",
            "DecisionTreeClassifier             0.90               0.64    None      0.90   \n",
            "AdaBoostClassifier                 0.93               0.63    None      0.92   \n",
            "KNeighborsClassifier               0.93               0.63    None      0.92   \n",
            "RandomForestClassifier             0.93               0.63    None      0.92   \n",
            "LabelSpreading                     0.93               0.63    None      0.92   \n",
            "LabelPropagation                   0.93               0.63    None      0.92   \n",
            "LGBMClassifier                     0.93               0.63    None      0.92   \n",
            "ExtraTreesClassifier               0.93               0.63    None      0.92   \n",
            "BaggingClassifier                  0.93               0.62    None      0.92   \n",
            "LogisticRegression                 0.93               0.60    None      0.92   \n",
            "CalibratedClassifierCV             0.93               0.60    None      0.92   \n",
            "SVC                                0.93               0.60    None      0.92   \n",
            "LinearSVC                          0.93               0.56    None      0.91   \n",
            "RidgeClassifier                    0.93               0.56    None      0.91   \n",
            "RidgeClassifierCV                  0.93               0.56    None      0.91   \n",
            "BernoulliNB                        0.91               0.54    None      0.89   \n",
            "DummyClassifier                    0.93               0.50    None      0.89   \n",
            "Perceptron                         0.89               0.50    None      0.88   \n",
            "\n",
            "                               Time Taken  \n",
            "Model                                      \n",
            "NearestCentroid                      0.84  \n",
            "PassiveAggressiveClassifier          0.26  \n",
            "GaussianNB                           0.70  \n",
            "LinearDiscriminantAnalysis           0.74  \n",
            "QuadraticDiscriminantAnalysis        0.19  \n",
            "SGDClassifier                        0.24  \n",
            "ExtraTreeClassifier                  0.41  \n",
            "DecisionTreeClassifier               0.40  \n",
            "AdaBoostClassifier                   1.45  \n",
            "KNeighborsClassifier                 3.44  \n",
            "RandomForestClassifier               1.23  \n",
            "LabelSpreading                       8.91  \n",
            "LabelPropagation                     5.53  \n",
            "LGBMClassifier                       0.38  \n",
            "ExtraTreesClassifier                 2.23  \n",
            "BaggingClassifier                    0.65  \n",
            "LogisticRegression                   0.38  \n",
            "CalibratedClassifierCV               0.60  \n",
            "SVC                                  1.25  \n",
            "LinearSVC                            0.62  \n",
            "RidgeClassifier                      0.24  \n",
            "RidgeClassifierCV                    0.30  \n",
            "BernoulliNB                          0.31  \n",
            "DummyClassifier                      0.33  \n",
            "Perceptron                           0.24  \n"
          ]
        },
        {
          "output_type": "stream",
          "name": "stderr",
          "text": [
            "\n"
          ]
        }
      ]
    },
    {
      "cell_type": "markdown",
      "source": [
        "### Gaussian Naive Bayes\n",
        "\n",
        "Classification algorithm based on Bayes Theorem, assumes features follow Normal distribution. This model estimates the mean and standard deviation for each feature & class, then uses these values to calculate probabilities during prediction\n",
        "\n",
        "Generally used for text classification, spam filtering, etc\n",
        "\n"
      ],
      "metadata": {
        "id": "kOpwiAcHTOgn"
      }
    },
    {
      "cell_type": "code",
      "source": [
        "# We will use the Gaussian NB model as it has the best overall results\n",
        "# We are focusing on predicting which customers should we keep calling\n",
        "# Target precision score for class 1 as out of all positive predictions, we need to be certain these customers will likely subscribe\n",
        "\n",
        "\n",
        "from sklearn.naive_bayes import GaussianNB\n",
        "from sklearn.metrics import accuracy_score, classification_report, confusion_matrix\n",
        "import seaborn as sns\n",
        "import matplotlib.pyplot as plt\n",
        "\n",
        "# Step 1: Initialize GaussianNB model\n",
        "gaussian_nb = GaussianNB()\n",
        "\n",
        "# Step 2: Train the GaussianNB model\n",
        "gaussian_nb.fit(X_train, y_train)\n",
        "\n",
        "# Step 3: Predict on the test set\n",
        "y_pred = gaussian_nb.predict(X_test)\n",
        "\n",
        "# Step 4: Calculate accuracy\n",
        "accuracy = accuracy_score(y_test, y_pred)\n",
        "print(f\"Accuracy: {accuracy:.4f}\")\n",
        "\n",
        "# Step 5: Print the classification report\n",
        "print(\"\\nClassification Report:\")\n",
        "print(classification_report(y_test, y_pred, target_names=['Not Subscribed', 'Subscribed']))\n",
        "\n",
        "# Step 6: Generate and display the confusion matrix\n",
        "conf_matrix = confusion_matrix(y_test, y_pred)\n",
        "plt.figure(figsize=(8,6))\n",
        "sns.heatmap(conf_matrix, annot=True, fmt='d', cmap='Blues', xticklabels=['Not Subscribed', 'Subscribed'], yticklabels=['Not Subscribed', 'Subscribed'])\n",
        "plt.title(\"Confusion Matrix for GaussianNB\")\n",
        "plt.xlabel('Predicted')\n",
        "plt.ylabel('Actual')\n",
        "plt.show()\n",
        "\n",
        "\n"
      ],
      "metadata": {
        "colab": {
          "base_uri": "https://localhost:8080/",
          "height": 785
        },
        "id": "OZHE1p9mSPLa",
        "outputId": "2d938736-fe85-4e47-97ff-c1e8da99c200"
      },
      "execution_count": 125,
      "outputs": [
        {
          "output_type": "stream",
          "name": "stdout",
          "text": [
            "Accuracy: 0.8779\n",
            "\n",
            "Classification Report:\n",
            "                precision    recall  f1-score   support\n",
            "\n",
            "Not Subscribed       0.97      0.90      0.93      9283\n",
            "    Subscribed       0.32      0.60      0.41       717\n",
            "\n",
            "      accuracy                           0.88     10000\n",
            "     macro avg       0.64      0.75      0.67     10000\n",
            "  weighted avg       0.92      0.88      0.89     10000\n",
            "\n"
          ]
        },
        {
          "output_type": "display_data",
          "data": {
            "text/plain": [
              "<Figure size 800x600 with 2 Axes>"
            ],
            "image/png": "[encoded data removed]"
          },
          "metadata": {}
        }
      ]
    },
    {
      "cell_type": "markdown",
      "metadata": {
        "id": "Cy9iPwZeh4uY"
      },
      "source": [
        "### 3rd Layer: Subscriber Segmentation (Unsupervised Learning)"
      ]
    },
    {
      "cell_type": "markdown",
      "metadata": {
        "id": "dKJHuBC-h-zr"
      },
      "source": [
        "### Results Interpretation"
      ]
    },
    {
      "cell_type": "markdown",
      "metadata": {
        "id": "GRClJXD6iHnA"
      },
      "source": [
        "### Conclusion & Future Work"
      ]
    }
  ],
  "metadata": {
    "colab": {
      "provenance": [],
      "gpuType": "T4",
      "authorship_tag": "ABX9TyP8t/bXKn0KqumDAcxAC1l4",
      "include_colab_link": true
    },
    "kernelspec": {
      "display_name": "Python 3",
      "name": "python3"
    },
    "language_info": {
      "name": "python"
    },
    "accelerator": "GPU"
  },
  "nbformat": 4,
  "nbformat_minor": 0
}